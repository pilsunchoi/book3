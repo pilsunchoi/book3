{
 "cells": [
  {
   "cell_type": "markdown",
   "id": "84604b30",
   "metadata": {},
   "source": [
    "# 4.1 순자산 분포 추정: Johnson SU 분포 활용\n",
    "\n",
    "- [1 서론](#1-서론)\n",
    "- [2 Johnson SU 분포](#2-Johnson-SU-분포)\n",
    "- [3 예제](#3-예제)\n",
    "- [4 결론](#4-결론)\n",
    "- [부록: SU 분포 로렌츠 곡선 도출](#부록:-SU-분포-로렌츠-곡선-도출)\n",
    "- [참고문헌](#참고문헌)"
   ]
  },
  {
   "cell_type": "markdown",
   "id": "ae68a3e0",
   "metadata": {},
   "source": [
    "## 1 서론\n",
    "\n",
    "소득이나 자산의 분포 및 불평등을 측정하는 것은 실질적, 정책적 맥락에서 항상 중요한 관심사다. 특히, 경제적 불평등을 이해하고 계량화하는 것은 사회경제적 담론의 핵심 주제다. 로렌츠 곡선은 소득과 자산 분포를 시각적으로 나타내는 주요 분석 도구로 자리 잡고 있다.\n",
    "\n",
    "여러 연속 파라미터형 분포 함수들이 로렌츠 곡선과 지니 계수(Gini coefficient)를 평가하는 방법으로 제안되었지만, 대부분은 소득(gross income)의 분포를 추정하기 위한 것으로서, 양수 또는 비음수 범위에서만 정의된다. 예를 들어 로그정규(log-normal), 와이블(Weibull), 감마(Gamma), Singh-Maddala (Singh and Maddala, 1975), Dagum (Dagum, 1977), GB2 (McDonald, 1984), dPLN (Reed, 2003), κG (Clementi et al., 2007) 분포 등이 있다.\n",
    "\n",
    "그런데 최근에는 소득뿐만 아니라 순자산(net worth)이나 가처분소득(disposable income)의 분포에 대한 관심이 증가하고 있다. 하지만 이러한 변수들은 음수와 0 값을 포함하고 있어 기존의 소득 분포 추정에 사용된 분포 함수들을 적용할 수 없다(Jäntti et al., 2015). \n",
    "\n",
    "본 연구는 Johnson(1949a)의 $S_U$분포를 활용하여 순자산이나 소득의 분포를 추정할 것을 제안한다. $S_U$분포 함수는 실수 전체의 영역에서 정의되며, 다양한 비대칭과 첨도를 포현할 수 있는 가장 유연한 파라미터형 분포 중 하나다. 따라서 음수를 포함하는 순자산이나 가처분소득의 다양한 분포 형태를 추정하는 데 아주 적합하다. 우리는 $S_U$분포 함수에 대한 닫힌 형태의 로렌츠 곡선 공식을 도출하였다. 예시적으로, 미국 소비자금융조사(SCF) 데이터를 사용하여 2022년 미국 가계의 순자산과 소득의 분포 및 로렌츠 곡선을 추정하였다."
   ]
  },
  {
   "cell_type": "markdown",
   "id": "e4132a12",
   "metadata": {},
   "source": [
    "## 2 Johnson SU 분포\n",
    "\n",
    "$S_U$ 분포는 Johnson(1949a)의 획기적인 논문에 처음 등장하였다. $S_U$ 변수 $X$는 다음과 같은 정규분포의 변환을 통해 생성된다.  \n",
    "\n",
    "$$\n",
    "\\sinh^{-1} \\left(\\frac{X-m}{s}\\right) = \\lambda + \\theta Z, \\quad -\\infty < X < \\infty, \\quad s > 0, \\quad \\theta > 0\n",
    "$$\n",
    "\n",
    "여기서 $Z$는 표준정규(standard normal) 변수이다. $S_U$는 \"unbounded system\"을 의미하며, $X$의 범위에 제한이 없음을 나타낸다. $S_U$의 확률밀도함수(PDF)는 다음과 같다.  \n",
    "\n",
    "$$\n",
    "f(x) = \\frac{1}{\\theta \\sqrt{(x-m)^2 + s^2}} \\phi\\left(\\theta^{-1} \\left[\\sinh^{-1} \\left(\\frac{x-m}{s}\\right) - \\lambda\\right]\\right)\n",
    "$$\n",
    "\n",
    "여기서 $\\phi(\\cdot)$는 표준정규 변수의 PDF이다. 누적분포함수(CDF)는 다음과 같다.  \n",
    "\n",
    "$$\n",
    "F(x) = \\Phi\\left(\\theta^{-1} \\left[\\sinh^{-1} \\left(\\frac{x-m}{s}\\right) - \\lambda\\right]\\right)\n",
    "$$\n",
    "\n",
    "여기서 $\\Phi(\\cdot)$는 표준정규 변수의 CDF이다.\n",
    "\n",
    "$X$의 처음 네 개 모멘트(moment)는 다음과 같다(Johnson, 1949a).\n",
    "\n",
    "$\n",
    "\\mu_1' \\equiv \\mu = m + s\\omega^{1/2} \\sinh(\\lambda)\n",
    "$  \n",
    "$\n",
    "\\mu_2 \\equiv \\sigma^2 = \\frac{1}{2}s^2 (\\omega - 1)(\\omega \\cosh(2\\lambda) + 1)\n",
    "$  \n",
    "$\n",
    "\\mu_3 = \\frac{1}{4}s^3 \\omega^{1/2} (\\omega - 1)^2 \\left[\\omega(\\omega+2)\\sinh(3\\lambda) + 3\\sinh(\\lambda)\\right]\n",
    "$  \n",
    "$\n",
    "\\mu_4 = \\frac{1}{8}s^4 (\\omega-1)^2 \\left[\\omega^2(\\omega^4 + 2\\omega^3 + 3\\omega^2 - 3)\\cosh(4\\lambda) + 4\\omega^2(\\omega+2)\\cosh(2\\lambda) + 3(2\\omega+1)\\right]\n",
    "$  \n",
    "\n",
    "여기서 $\\omega = e^{\\theta^2}$이다. $X$의 왜도(skewness)와 첨도(kurtosis)는 각각 $\\mu_3 / \\sigma^3$와 $\\mu_4 / \\sigma^4$이다.  \n",
    "\n",
    "$S_U$ 분포는 매우 유연한 분포 함수로서 왜도와 초과첨도(excess kurtosis)의 광범위한 조합을 포착할 수 있다. 이 유연성 덕분에 $S_U$ 분포는 다양한 분야에서 응용되고 있다. 특히 단변량 및 다변량 금융 수익률 모델링과 VaR (Value-at-Risk) 추정에서 우수한 성과를 보였다(Choi and Nam, 2008 등).  \n",
    "\n",
    "로렌츠 곡선은 소득과 자산의 분포를 그래프로 나타내는 도구다. $S_U$ 변수 $X$와 $p = F(x)$에 대해 로렌츠 곡선은 다음과 같다(부록 1 참조).  \n",
    "\n",
    "$$\n",
    "L(p) = \\frac{1}{m + s e^{\\theta^2 / 2} \\sinh(\\lambda)} \\left[mp + \\frac{1}{2} s e^{\\theta^2 / 2} \\left(e^{\\lambda}\\Phi(\\Phi^{-1}(p) - \\theta) - e^{-\\lambda}\\Phi(\\Phi^{-1}(p) + \\theta)\\right)\\right]\n",
    "$$\n",
    "\n",
    "$n$개의 관측과 $S_U$ 밀도함수 $f(x_i)$, $i = 1, \\ldots, n$가 주어졌을 때, 로그가능도(log-likelihood) 함수는 다음과 같다.  \n",
    "\n",
    "$$ \n",
    "\\ln L = \\sum_{i=1}^n \\ln f(x_i) = \\sum_{i=1}^n \\left(-\\ln \\theta - \\frac{1}{2}\\ln((x_i - m)^2 + s^2) - \\frac{1}{2}\\ln(2\\pi) - \\frac{1}{2}\\left[\\theta^{-1} \\left(\\sinh^{-1}\\left(\\frac{x_i - m}{s}\\right) - \\lambda\\right)\\right]^2\\right)\n",
    "$$"
   ]
  },
  {
   "cell_type": "markdown",
   "id": "670024fb",
   "metadata": {},
   "source": [
    "## 3 예제\n",
    "\n",
    "우리는 2022년 SCF 데이터세트에서 가계 재정의 중요한 두 가지 변수인 소득과 순자산에 집중한다. 두 변수 모두 단위가 1,000 달러이며, 관측수는 4,595 가구이다. 표 1은 두 변수에 대한 주요 통계량을 제공한다. 두 변수 모두 극단적인 양의 왜도와 초과첨도를 나타내며, 이는 $S_U$ 분포가 이들에 적절한 분포 함수가 될 수 있음을 시사한다. 표의 마지막 행은 경험적(empirical) 지니 계수(Gini coefficients)를 제공하며, 순자산(0.830)의 불평등 수준이 소득 불평등(0.607)보다 상당히 높은 것을 알 수 있다.\n",
    "\n",
    "<p style=\"text-align: center;\"><b>표 1. 순자산과 소득에 대한 주요 통계 (단위: 1,000 달러)</b></p>\n",
    "\n",
    "|          | 순자산    | 소득     |\n",
    "|----------|-----------|----------|\n",
    "| 평균     | 1,059.5   | 141.4    |\n",
    "| 표준편차 | 8,085.5   | 728.0    |\n",
    "| 왜도     | 92.8      | 166.8    |\n",
    "| 첨도     | 14,517.1  | 63,910.6 |\n",
    "| 지니 (×100) | 83.0      | 60.7     |\n",
    "\n",
    "최대가능도 추정(maximum likelihood estimation)은 파이썬 `SciPy`의 `optimize` 모듈과 limited-memory BFGS(`L-BFGS-B`) 알고리즘을 사용하여 수행되었다. 표 2에서 두 개의 행태(shape) 파라미터 추정치($\\hat{\\lambda}$와 $\\hat{\\theta}$)를 보면, 순자산이 소득보다 더 불평등하게 분포되어 있음을 알 수 있다. 또한 $S_U$ 모델 기반 지니 계수는 순자산의 경우에는 경험적 지니 계수보다 높게 추정되었고, 소득에 있어서는 반대로 추정되었다.\n",
    "\n",
    "<p style=\"text-align: center;\"><b>표 2. SU 분포 추정 결과</b></p>\n",
    "\n",
    "|          | 순자산    | 소득     |\n",
    "|:--------:|-----------|----------|\n",
    "| 파라미터 |           |          |\n",
    "| $\\hat{m}$      | -4.354    | 7.615    |\n",
    "| $\\hat{s}$       | 14.876    | 10.955   |\n",
    "| $\\hat{\\lambda}$      | 3.046     | 2.427    |\n",
    "| $\\hat{\\theta}$      | 2.090     | 1.130    |\n",
    "| 지니계수 ($\\times$100) | 86.7      | 54.9     |\n",
    "\n",
    "그림 1과 2의 왼쪽 패널에 있는 히스토그램에서 보듯이, 순자산과 소득 모두 극단적인 양의 왜도를 가진 분포를 나타낸다. 그럼에도 불구하고, 추정된 $S_U$ 분포는 경험적 분포를 잘 나타낸다. 표 1과 2의 오른쪽 패널에는 두 변수에 대한 경험적 및 추정된 로렌츠 곡선이 표시되어 있다. 순자산의 경우, $S_U$ 모델 기반 로렌츠 곡선이 경험적 곡선보다 약간 낮게 위치하며, 소득의 경우 반대가 관찰된다. 결과적으로, 순자산에 대한 $S_U$ 모델의 지니 계수 추정값은 표 2에서 보듯 경험적 지니 계수보다 높고, 소득에 대해서는 그 반대이다."
   ]
  },
  {
   "cell_type": "markdown",
   "id": "9649a6b8",
   "metadata": {},
   "source": [
    "<p style=\"text-align: center;\"><b>그림 1. SU 모델의 순자산 분포 및 로렌츠 곡선 추정 결과</b></p>\n",
    "\n",
    "![SU 순자산 분포](https://raw.githubusercontent.com/pilsunchoi/images3/main/4-1.png)"
   ]
  },
  {
   "cell_type": "markdown",
   "id": "24883b62",
   "metadata": {},
   "source": [
    "![SU 순자산 로렌츠 곡선](https://raw.githubusercontent.com/pilsunchoi/images3/main/4-2.png)"
   ]
  },
  {
   "cell_type": "markdown",
   "id": "2f7f3762",
   "metadata": {},
   "source": [
    "<p style=\"text-align: center;\"><b>그림 2. SU 모델의 소득 분포 및 로렌츠 곡선 추정 결과</b></p>\n",
    "\n",
    "![SU 소득 분포](https://raw.githubusercontent.com/pilsunchoi/images3/main/4-3.png)"
   ]
  },
  {
   "cell_type": "markdown",
   "id": "f910fd54",
   "metadata": {},
   "source": [
    "![SU 소득 로렌츠 곡선](https://raw.githubusercontent.com/pilsunchoi/images3/main/4-4.png)"
   ]
  },
  {
   "cell_type": "markdown",
   "id": "a77aa3eb",
   "metadata": {},
   "source": [
    "$S_U$ 분포의 유용성과 유연성을 평가하기 위해, 우리는 소득 분포 추정에 가장 기본적인 분포 함수로 간주될 수 있는 로그정규 분포에 의한 추정 결과와 비교한다. 로그정규 분포는 변수 값이 0보다 커야 하므로 순자산 변수에는 적용할 수 없다. 또한, 소득 데이터세트에 있어서도 일부 0 값이 포함되어 있기 때문에(전체 가구의 0.86%), 로그정규 분포를 적용하기 위해서는 이를 어떤 식으로든 처리해야 한다. 이 문제를 해결하기 위한 한 가지 방법으로 우리는 소득 값이 0인 경우, 이를 아주 작은 양의 값($10^{-5}$)으로 대체하여 추정을 진행했다.\n",
    "\n",
    "그림 3에 그 결과가 나와 있다. 첫째, 그림의 왼쪽 패널에서 보여지는 로그정규 모델의 적합도를 $S_U$ 모델의 결과(그림 2)와 비교해 보면, 후자의 추정 성능이 더 우수한 것을 시각적으로 확인할 수 있다. 둘째, 로렌츠 곡선 추정에서는 앞서 보았듯이 $S_U$ 모델은 경험적 로렌츠 곡선에 비해 소득 불평등을 과소 추정하는 반면, 그림 3의 로그정규 모델은 소득 불평등을 과대 추정하는 경향이 있음을 알 수 있다. 로렌츠 곡선을 추정하는 데 있어 어느 모델이 더 잘 맞는지는 그림만으로는 명확하지 않지만, 추정된 지니 계수를 비교하면, 로그정규 모델(0.687)의 지니 계수가 경험적 지니 계수(0.607)와 비교해 더 큰 차이를 보이며, $S_U$ 모델(0.549)은 그보다 작은 차이를 보인다."
   ]
  },
  {
   "cell_type": "markdown",
   "id": "b5d3b811",
   "metadata": {},
   "source": [
    "<p style=\"text-align: center;\"><b>그림 3. 로그정규 모델의 소득 분포 및 로렌츠 곡선 추정 결과</b></p>\n",
    "\n",
    "![로그정규 소득 분포](https://raw.githubusercontent.com/pilsunchoi/images3/main/4-5.png)"
   ]
  },
  {
   "cell_type": "markdown",
   "id": "231ee66c",
   "metadata": {},
   "source": [
    "![로그정규 소득 로렌츠 곡선](https://raw.githubusercontent.com/pilsunchoi/images3/main/4-6.png)"
   ]
  },
  {
   "cell_type": "markdown",
   "id": "db7dbf3a",
   "metadata": {},
   "source": [
    "## 4 결론\n",
    "\n",
    "자산이나 소득에 대한 파라미터형 분포 모델은 적은 수의 파라미터로 분포의 모든 특징을 포착할 수 있다는 장점이 있다. 또한 이러한 모델은 설문 조사 마이크로데이터가 없고 그룹화된 데이터만 제공될 때도 분포 및 불평등/빈곤 지표를 추정하는 데 유용하다. 다양한 파라미터형 분포가 소득 분포 추정에 사용되어 왔지만, 이들 중 많은 분포들은 부채나 순자산처럼 음수와 0 값을 포함하는 변수에는 적용할 수 없다. 이러한 변수들의 분포를 추정할 때, $S_U$ 분포는 전체 실수 영역에서 정의되고 극단적인 왜도와 첨도를 잘 포착할 수 있기 때문에 가장 적합한 후보 중 하나로 고려될 수 있다. 또한, $S_U$ 분포는 본질적으로 정규분포를 변환시킨 것이기 때문에 다변량(multivariate) 차원으로 쉽게 확장할 수 있는 장점이 있다(Johnson, 1949b). 가령 이변량(bivariate) $S_U$ 분포를 사용하여 순자산과 소득의 결합 분포를 추정할 수 있다."
   ]
  },
  {
   "cell_type": "markdown",
   "id": "64c7c08b",
   "metadata": {},
   "source": [
    "## 부록: SU 분포 로렌츠 곡선 도출\n",
    "\n",
    "확률밀도함수(PDF) $f(x)$와 누적분포함수(CDF) $F(x)$를 가진 $S_U$ 변수 $X = m + s \\cdot \\sinh(\\lambda + \\theta Z)$를 고려하자. 인구 중에서 순자산이 $x$보다 낮은 사람들의 비율을 $p$라 하자.  즉 $p = F(x)$이다. 이 경우 로렌츠 곡선 $L(p)$는 다음과 같이 정의된다 (Lubrano, 2017).\n",
    "\n",
    "$$\n",
    "L(p) = \\frac{1}{E[X]} \\int_{-\\infty}^{x} t f(t) \\, dt = \\frac{1}{m + s e^{\\theta^2/2} \\sinh(\\lambda)} \\int_{-\\infty}^{x} t f(t) \\, dt \\tag{A1}\n",
    "$$\n",
    "\n",
    "정규확률변수(normal random variable) $Y \\sim N(\\mu, \\sigma)$의 범위가 $a \\leq Y \\leq b$로 제한될 경우, 그 적률생성함수(moment generating function)는 다음과 같다:\n",
    "\n",
    "$$\n",
    "E[e^{tY} \\mid a \\leq Y \\leq b] = \\frac{e^{t\\mu + \\frac{1}{2} t^2 \\sigma^2}}{\\Phi\\left(\\frac{b - \\mu}{\\sigma}\\right) - \\Phi\\left(\\frac{a - \\mu}{\\sigma}\\right)} \\left[ \\Phi\\left( \\frac{b - \\mu}{\\sigma} - t\\sigma \\right) - \\Phi\\left( \\frac{a - \\mu}{\\sigma} - t\\sigma \\right) \\right] \\tag{A2}\n",
    "$$\n",
    "\n",
    "$S_U$ 확률변수 $X$가 $a \\leq X \\leq b$의 조건에서 $\\sinh^{-1}\\left(\\frac{X - m}{s}\\right) \\equiv Y = \\lambda + \\theta Z$로 표현될 때, first moment about zero는 다음으로 도출된다. \n",
    "\n",
    "$$\n",
    "\\begin{align*}\n",
    "E[X \\mid a \\leq X \\leq b] \n",
    "&= E[m + s \\cdot \\sinh(Y) \\mid a \\leq m + s \\cdot \\sinh(Y) \\leq b] \\\\\n",
    "&= m + s E\\left[\\frac{1}{2} (e^Y - e^{-Y}) \\mid \\sinh^{-1}\\left(\\frac{a - m}{s}\\right) \\leq Y \\leq \\sinh^{-1}\\left(\\frac{b - m}{s}\\right) \\right] \\\\\n",
    "&= m + \\frac{s}{2} \\left\\{ E\\left[e^Y \\mid \\sinh^{-1}\\left(\\frac{a - m}{s}\\right) \\leq Y \\leq \\sinh^{-1}\\left(\\frac{b - m}{s}\\right) \\right] \n",
    "    - E\\left[e^{-Y} \\mid \\sinh^{-1}\\left(\\frac{a - m}{s}\\right) \\leq Y \\leq \\sinh^{-1}\\left(\\frac{b - m}{s}\\right) \\right] \\right\\} \\\\\n",
    "&= m + \\frac{1}{2} s e^{\\theta^2/2} \n",
    "    \\frac{ e^{\\lambda} \\left[\\Phi(\\beta - \\theta) - \\Phi(\\alpha - \\theta)\\right] \n",
    "          - e^{-\\lambda} \\left[\\Phi(\\beta + \\theta) - \\Phi(\\alpha + \\theta)\\right] } \n",
    "         { \\Phi(\\beta) - \\Phi(\\alpha) } \\text{ (by A2)}.\n",
    "\\end{align*}\n",
    "$$\n",
    "\n",
    "여기서 $\\alpha = \\theta^{-1} \\left[ \\sinh^{-1}\\left( \\frac{a - m}{s} \\right) - \\lambda \\right]$이고, $\\beta = \\theta^{-1} \\left[ \\sinh^{-1}\\left( \\frac{b - m}{s} \\right) - \\lambda \\right]$이다. $a = -\\infty$와 $b = x$일 때, 위 식은 다음과 같이 된다.\n",
    "\n",
    "$$\n",
    "E[X | -\\infty < X \\leq x] = m + \\frac{1}{2} s e^{\\theta^2/2} \\frac{ e^{\\lambda} \\Phi\\left( \\theta^{-1} \\left[ \\sinh^{-1}\\left( \\frac{x - m}{s} \\right) - \\lambda \\right] - \\theta \\right) - e^{-\\lambda} \\Phi\\left( \\theta^{-1} \\left[ \\sinh^{-1}\\left( \\frac{x - m}{s} \\right) - \\lambda \\right] + \\theta \\right) } {\\Phi\\left( \\theta^{-1} \\left[ \\sinh^{-1}\\left( \\frac{x - m}{s} \\right) - \\lambda \\right] \\right)}\n",
    "$$\n",
    "\n",
    "따라서 $E[X | -\\infty \\leq X \\leq x] = \\frac{1}{F(x)} \\int_{-\\infty}^{x} t f(t) \\, dt$이고, $F(x) \\equiv p = \\Phi\\left( \\theta^{-1} \\left[ \\sinh^{-1}\\left( \\frac{x - m}{s} \\right) - \\lambda \\right] \\right)$이므로, 우리는 다음을 얻는다.\n",
    "\n",
    "$$\n",
    "\\int_{-\\infty}^{x} t f(t) \\, dt = m p + \\frac{1}{2} s e^{\\theta^2/2} \\left[ e^{\\lambda} \\Phi\\left( \\Phi^{-1}(p) - \\theta \\right) - e^{-\\lambda} \\Phi\\left( \\Phi^{-1}(p) + \\theta \\right) \\right]\n",
    "$$\n",
    "\n",
    "따라서 (A1)은 다음이 된다.\n",
    "\n",
    "$$\n",
    "L(p) = \\frac{1}{m + s e^{\\theta^2/2} \\sinh(\\lambda)} \\left\\{ m p + \\frac{1}{2} s e^{\\theta^2/2} \\left[ e^{\\lambda} \\Phi\\left( \\Phi^{-1}(p) - \\theta \\right) - e^{-\\lambda} \\Phi\\left( \\Phi^{-1}(p) + \\theta \\right) \\right] \\right\\}\n",
    "$$"
   ]
  },
  {
   "cell_type": "markdown",
   "id": "a26eda5a",
   "metadata": {},
   "source": [
    "## 참고문헌\n",
    "\n",
    "- Choi, P., and Nam, K. (2008). Asymmetric and leptokurtic distribution for heteroscedastic asset returns: the SU-normal distribution. *Journal of Empirical Finance*, 15(1), 41-63.\n",
    "- Choi, P. and Min, I. (2025). Estimating survival functions using the truncated Johnson’s $S_U$ distribution. *Working Paper*.\n",
    "- Clementi, F., Gallegati, M., and Kaniadakis, G. (2007). κ-generalized statistics in personal income distribution. *The European Physical Journal B*, 57(2), 187-193.\n",
    "- Dagum, C. (1977). A new model of personal income distribution: Specification and estimation. *Économie Appliquée*, 30, 413–437.\n",
    "- Jäntti, M., Sierminska, E. M., and Van Kerm, P. (2015). Modeling the joint distribution of income and wealth. In *Measurement of Poverty, Deprivation, and Economic Mobility* (Vol. 23, pp. 301-327). Emerald Group Publishing Limited.\n",
    "- Johnson, N. L. (1949a). Systems of frequency curves generated by methods of translation. *Biometrika*, 36(1/2), 149-176.\n",
    "- Johnson, N. L. (1949b). Bivariate distributions based on simple translation systems. *Biometrika*, 36(3/4), 297-304.\n",
    "- Lerman, R. I., and Yitzhaki, S. (1989). Improving the accuracy of estimates of Gini coefficients. *Journal of Econometrics*, 42(1), 43-47.\n",
    "- Lubrano, M. (2017). The econometrics of inequality and poverty Chapter 4: Lorenz curves, the Gini coefficient and parametric distributions.\n",
    "- McDonald, J. B. (1984). Some Generalized Functions for the Size Distribution of Income. *Econometrica*, 52(3), 647-665.\n",
    "- Reed, W. J. (2003). The Pareto law of incomes—an explanation and an extension. *Physica A: Statistical Mechanics and its Applications*, 319, 469-486.\n",
    "- Singh, S. K., and Maddala, G. S. (1976). A function for size distribution of incomes. *Econometrica*, 44(5), 963-970.\n"
   ]
  }
 ],
 "metadata": {
  "kernelspec": {
   "display_name": "Python 3 (ipykernel)",
   "language": "python",
   "name": "python3"
  },
  "language_info": {
   "codemirror_mode": {
    "name": "ipython",
    "version": 3
   },
   "file_extension": ".py",
   "mimetype": "text/x-python",
   "name": "python",
   "nbconvert_exporter": "python",
   "pygments_lexer": "ipython3",
   "version": "3.11.4"
  }
 },
 "nbformat": 4,
 "nbformat_minor": 5
}