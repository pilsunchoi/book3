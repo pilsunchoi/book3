{
 "cells": [
  {
   "cell_type": "markdown",
   "metadata": {},
   "source": [
    "# 4.3 MLE에서 파라미터 제약조건 처리법\n",
    "\n",
    "- [1 함수](#1-함수)\n",
    "- [2 데이터](#2-데이터)\n",
    "- [3 순자산 분포 추정](#3-순자산-분포-추정)"
   ]
  },
  {
   "cell_type": "markdown",
   "metadata": {},
   "source": [
    "최대가능도 추정(MLE: maximum likelihood estimation)에서 추정할 파라미터에 제약조건이 있는 경우가 있다. 우리의 $S_U$ 분포 모형에서는 확률밀도함수(PDF)에 들어있는 4개의 파라미터 중 $s$와 $\\theta$는 항상 플러스값을 취한다. 따라서 추정에서 로그가능도 함수를 최대화하는 파라미터의 값을 수치적으로(numerically) 찾는 과정에서 $s>0$와 $\\theta>0$의 제약조건을 부과하면서(bounding) 최적값을 찾아야 한다.\n",
    "\n",
    "우리는 두 가지 방법으로 이것을 부과할 수 있다.\n",
    "\n",
    "1. `opt.minimize` 함수의 `bounds` 옵션을 사용해서 파라미터가 취할 수 있는 범위를 직접 부과하는 방법이다. $S_U$ 분포 모형의 경우, $(m,s,\\lambda,\\theta)$ 4개의 파라미터가 있는데, 이 중 $s$와 $\\theta$가 0보다 크다는 제약조건을 부과해야 하기 때문에 다음과 같은 식으로 `opt.minimize` 함수에 인수(argument)를 집어넣으면 된다. $m$과 $\\lambda$에 대해서는 상한과 하한에 제한을 두지 않고, $s$와 $\\theta$에 대해서는 하한을 $10^{-10}$으로 설정한 것이다.\n",
    "\n",
    "        bounds=((None, None),(1e-10, None),(None, None),(1e-10, None)))\n",
    "\n",
    "1. 항상 0보다 큰 값을 가져야 하는 $s$와 $\\theta$에 대해서는 이것들 대신 먼저 $\\exp(s^\\prime)$와 $\\exp(\\theta^\\prime)$을 추정한다. 즉, 먼저 $s^\\prime$와 $\\theta^\\prime$을 추정한 다음,이것들에 지수(natural exponential)를 취하면 된다. 지수함수(natural exponential function)는 항상 0보다 큰 값을 갖는다는 사실을 이용하는 것이다.\n",
    "\n",
    "아래 MLE를 위해 만든 함수에서 `weight_ll_SU`와 `weight_obj_SU`은 첫 번째 방법을 위한 것이고, `weight_ll_SU_e`와 `weight_obj_SU_e`은 두 번째 방법을 위한 것이다.\n",
    "\n",
    "아래 3절의 추정 결과를 보면, 두 가지 방법의 파라미터 추정 결과가 거의 동일한 것을 확인할 수 있다."
   ]
  },
  {
   "cell_type": "markdown",
   "metadata": {},
   "source": [
    "## 1 함수"
   ]
  },
  {
   "cell_type": "code",
   "execution_count": 1,
   "metadata": {},
   "outputs": [],
   "source": [
    "%matplotlib inline\n",
    "import numpy as np\n",
    "import pandas as pd\n",
    "import scipy.optimize as opt\n",
    "import scipy.stats as st\n",
    "import matplotlib.pyplot as plt\n",
    "import seaborn as sns"
   ]
  },
  {
   "cell_type": "markdown",
   "metadata": {},
   "source": [
    "**Log Likelihood Function**\n",
    "\n",
    "두 가지 방법을 생각해볼 수 있다. 하나는 \n",
    "\n",
    "`s`와 `theta`가 항상 양수이기 때문에 최적화 과정에서 이를 bounding하기 위해 이들 파라미터에 `exp`를 취해서 로그가능도 함수를 만든다. 따라서 이 경우 입력 파라미터는 bounding 조건이 사라지고 모든 실수값을 취할 수 있게 된다."
   ]
  },
  {
   "cell_type": "code",
   "execution_count": 2,
   "metadata": {},
   "outputs": [],
   "source": [
    "def weight_ll_SU(x, weight, m, s, lambda_, theta):\n",
    "    \n",
    "    J = 1/(theta*np.sqrt((x-m)**2+s**2))\n",
    "    z = (np.arcsinh((x - m)/s) - lambda_)/theta\n",
    "       \n",
    "    ln_pdf_vals = weight*(np.log(J) - 0.5*np.log(2*np.pi) - 0.5*(z)**2)\n",
    "    log_lik_val = ln_pdf_vals.sum()\n",
    "    \n",
    "    return log_lik_val"
   ]
  },
  {
   "cell_type": "code",
   "execution_count": 3,
   "metadata": {},
   "outputs": [],
   "source": [
    "def weight_ll_SU_e(x, weight, m, s, lambda_, theta):\n",
    "\n",
    "    s = np.exp(s)\n",
    "    theta = np.exp(theta)\n",
    "    \n",
    "    J = 1/(theta*np.sqrt((x-m)**2+s**2))\n",
    "    z = (np.arcsinh((x - m)/s) - lambda_)/theta\n",
    "\n",
    "    ln_pdf_vals = weight*(np.log(J) - 0.5*np.log(2*np.pi) - 0.5*(z)**2)\n",
    "    log_lik_val = ln_pdf_vals.sum()\n",
    "    \n",
    "    return log_lik_val"
   ]
  },
  {
   "cell_type": "markdown",
   "metadata": {},
   "source": [
    "**MLE Objective Function**"
   ]
  },
  {
   "cell_type": "code",
   "execution_count": 4,
   "metadata": {},
   "outputs": [],
   "source": [
    "def weight_obj_SU(params, *args):\n",
    "\n",
    "    m, s, lambda_, theta = params\n",
    "    (x, weight) = args\n",
    "    log_lik_val = weight_ll_SU(x, weight, m, s, lambda_, theta)\n",
    "    neg_log_lik_val = -log_lik_val\n",
    "    \n",
    "    return neg_log_lik_val"
   ]
  },
  {
   "cell_type": "code",
   "execution_count": 5,
   "metadata": {},
   "outputs": [],
   "source": [
    "def weight_obj_SU_e(params, *args):\n",
    "\n",
    "    m, s, lambda_, theta = params\n",
    "    (x, weight) = args\n",
    "    \n",
    "    log_lik_val = weight_ll_SU_e(x, weight, m, s, lambda_, theta)\n",
    "    neg_log_lik_val = -log_lik_val\n",
    "    \n",
    "    return neg_log_lik_val"
   ]
  },
  {
   "cell_type": "markdown",
   "metadata": {},
   "source": [
    "## 2 데이터\n",
    "\n",
    "- [Survey of Consumer Finances (SCF)](https://www.federalreserve.gov/econres/scfindex.htm)\n",
    "- [Code Book](https://sda.berkeley.edu/sdaweb/analysis/?dataset=scfcomb2022)\n",
    "\n",
    "**압축파일 다운로드 및 압축풀기**"
   ]
  },
  {
   "cell_type": "code",
   "execution_count": 6,
   "metadata": {},
   "outputs": [],
   "source": [
    "import pandas as pd\n",
    "import requests\n",
    "import io\n",
    "import zipfile     #Three packages we'll need to unzip the data\n",
    "\n",
    "def unzip_survey_file(year):\n",
    "    import requests, io, zipfile\n",
    "    import pandas as pd\n",
    "    \n",
    "    if int(year) <1989:\n",
    "        url = 'http://www.federalreserve.gov/econresdata/scf/files/'\\\n",
    "        +year+'_scf'+year[2:]+'bs.zip'\n",
    "    else: \n",
    "        url = 'http://www.federalreserve.gov/econres/files/scfp'+year+'s.zip'    \n",
    "\n",
    "    url = requests.get(url)\n",
    "    url_unzipped = zipfile.ZipFile(io.BytesIO(url.content))\n",
    "    \n",
    "    return url_unzipped.extract(url_unzipped.namelist()[0])"
   ]
  },
  {
   "cell_type": "markdown",
   "metadata": {},
   "source": [
    "**2022년 데이터 로딩**"
   ]
  },
  {
   "cell_type": "code",
   "execution_count": 7,
   "metadata": {},
   "outputs": [
    {
     "data": {
      "text/html": [
       "<div>\n",
       "<style scoped>\n",
       "    .dataframe tbody tr th:only-of-type {\n",
       "        vertical-align: middle;\n",
       "    }\n",
       "\n",
       "    .dataframe tbody tr th {\n",
       "        vertical-align: top;\n",
       "    }\n",
       "\n",
       "    .dataframe thead th {\n",
       "        text-align: right;\n",
       "    }\n",
       "</style>\n",
       "<table border=\"1\" class=\"dataframe\">\n",
       "  <thead>\n",
       "    <tr style=\"text-align: right;\">\n",
       "      <th></th>\n",
       "      <th>yy1</th>\n",
       "      <th>y1</th>\n",
       "      <th>wgt</th>\n",
       "      <th>hhsex</th>\n",
       "      <th>age</th>\n",
       "      <th>agecl</th>\n",
       "      <th>educ</th>\n",
       "      <th>edcl</th>\n",
       "      <th>married</th>\n",
       "      <th>kids</th>\n",
       "      <th>...</th>\n",
       "      <th>nwcat</th>\n",
       "      <th>inccat</th>\n",
       "      <th>assetcat</th>\n",
       "      <th>ninccat</th>\n",
       "      <th>ninc2cat</th>\n",
       "      <th>nwpctlecat</th>\n",
       "      <th>incpctlecat</th>\n",
       "      <th>nincpctlecat</th>\n",
       "      <th>incqrtcat</th>\n",
       "      <th>nincqrtcat</th>\n",
       "    </tr>\n",
       "  </thead>\n",
       "  <tbody>\n",
       "    <tr>\n",
       "      <th>0</th>\n",
       "      <td>1</td>\n",
       "      <td>11</td>\n",
       "      <td>3027.956120</td>\n",
       "      <td>2</td>\n",
       "      <td>70</td>\n",
       "      <td>5</td>\n",
       "      <td>9</td>\n",
       "      <td>3</td>\n",
       "      <td>2</td>\n",
       "      <td>2</td>\n",
       "      <td>...</td>\n",
       "      <td>4</td>\n",
       "      <td>2</td>\n",
       "      <td>4</td>\n",
       "      <td>2</td>\n",
       "      <td>1</td>\n",
       "      <td>8</td>\n",
       "      <td>3</td>\n",
       "      <td>3</td>\n",
       "      <td>2</td>\n",
       "      <td>1</td>\n",
       "    </tr>\n",
       "    <tr>\n",
       "      <th>1</th>\n",
       "      <td>1</td>\n",
       "      <td>12</td>\n",
       "      <td>3054.900065</td>\n",
       "      <td>2</td>\n",
       "      <td>70</td>\n",
       "      <td>5</td>\n",
       "      <td>9</td>\n",
       "      <td>3</td>\n",
       "      <td>2</td>\n",
       "      <td>2</td>\n",
       "      <td>...</td>\n",
       "      <td>4</td>\n",
       "      <td>2</td>\n",
       "      <td>5</td>\n",
       "      <td>2</td>\n",
       "      <td>1</td>\n",
       "      <td>8</td>\n",
       "      <td>3</td>\n",
       "      <td>3</td>\n",
       "      <td>2</td>\n",
       "      <td>1</td>\n",
       "    </tr>\n",
       "    <tr>\n",
       "      <th>2</th>\n",
       "      <td>1</td>\n",
       "      <td>13</td>\n",
       "      <td>3163.637766</td>\n",
       "      <td>2</td>\n",
       "      <td>70</td>\n",
       "      <td>5</td>\n",
       "      <td>9</td>\n",
       "      <td>3</td>\n",
       "      <td>2</td>\n",
       "      <td>2</td>\n",
       "      <td>...</td>\n",
       "      <td>4</td>\n",
       "      <td>2</td>\n",
       "      <td>4</td>\n",
       "      <td>2</td>\n",
       "      <td>1</td>\n",
       "      <td>8</td>\n",
       "      <td>3</td>\n",
       "      <td>3</td>\n",
       "      <td>1</td>\n",
       "      <td>1</td>\n",
       "    </tr>\n",
       "    <tr>\n",
       "      <th>3</th>\n",
       "      <td>1</td>\n",
       "      <td>14</td>\n",
       "      <td>3166.228463</td>\n",
       "      <td>2</td>\n",
       "      <td>70</td>\n",
       "      <td>5</td>\n",
       "      <td>9</td>\n",
       "      <td>3</td>\n",
       "      <td>2</td>\n",
       "      <td>2</td>\n",
       "      <td>...</td>\n",
       "      <td>3</td>\n",
       "      <td>2</td>\n",
       "      <td>4</td>\n",
       "      <td>1</td>\n",
       "      <td>1</td>\n",
       "      <td>6</td>\n",
       "      <td>3</td>\n",
       "      <td>2</td>\n",
       "      <td>1</td>\n",
       "      <td>1</td>\n",
       "    </tr>\n",
       "    <tr>\n",
       "      <th>4</th>\n",
       "      <td>1</td>\n",
       "      <td>15</td>\n",
       "      <td>3235.624715</td>\n",
       "      <td>2</td>\n",
       "      <td>70</td>\n",
       "      <td>5</td>\n",
       "      <td>9</td>\n",
       "      <td>3</td>\n",
       "      <td>2</td>\n",
       "      <td>2</td>\n",
       "      <td>...</td>\n",
       "      <td>3</td>\n",
       "      <td>2</td>\n",
       "      <td>4</td>\n",
       "      <td>2</td>\n",
       "      <td>1</td>\n",
       "      <td>8</td>\n",
       "      <td>3</td>\n",
       "      <td>3</td>\n",
       "      <td>1</td>\n",
       "      <td>1</td>\n",
       "    </tr>\n",
       "  </tbody>\n",
       "</table>\n",
       "<p>5 rows × 357 columns</p>\n",
       "</div>"
      ],
      "text/plain": [
       "   yy1  y1          wgt  hhsex  age  agecl  educ  edcl  married  kids  ...  \\\n",
       "0    1  11  3027.956120      2   70      5     9     3        2     2  ...   \n",
       "1    1  12  3054.900065      2   70      5     9     3        2     2  ...   \n",
       "2    1  13  3163.637766      2   70      5     9     3        2     2  ...   \n",
       "3    1  14  3166.228463      2   70      5     9     3        2     2  ...   \n",
       "4    1  15  3235.624715      2   70      5     9     3        2     2  ...   \n",
       "\n",
       "   nwcat  inccat  assetcat  ninccat  ninc2cat  nwpctlecat  incpctlecat  \\\n",
       "0      4       2         4        2         1           8            3   \n",
       "1      4       2         5        2         1           8            3   \n",
       "2      4       2         4        2         1           8            3   \n",
       "3      3       2         4        1         1           6            3   \n",
       "4      3       2         4        2         1           8            3   \n",
       "\n",
       "   nincpctlecat  incqrtcat  nincqrtcat  \n",
       "0             3          2           1  \n",
       "1             3          2           1  \n",
       "2             3          1           1  \n",
       "3             2          1           1  \n",
       "4             3          1           1  \n",
       "\n",
       "[5 rows x 357 columns]"
      ]
     },
     "execution_count": 7,
     "metadata": {},
     "output_type": "execute_result"
    }
   ],
   "source": [
    "scf_2022 = pd.read_stata(unzip_survey_file(year = '2022'))\n",
    "scf_2022.head()"
   ]
  },
  {
   "cell_type": "markdown",
   "metadata": {},
   "source": [
    "## 3 순자산 분포 추정\n",
    "\n",
    "- 각 가구별로 5개의 관측을 **모두** 사용함\n",
    "- 단위를 천달러로 변경"
   ]
  },
  {
   "cell_type": "code",
   "execution_count": 8,
   "metadata": {},
   "outputs": [],
   "source": [
    "networth_2022 = scf_2022['networth']/1000\n",
    "weight_2022 = scf_2022['wgt']"
   ]
  },
  {
   "cell_type": "code",
   "execution_count": 9,
   "metadata": {
    "scrolled": true
   },
   "outputs": [
    {
     "data": {
      "text/plain": [
       "count      22975.00\n",
       "mean       19956.40\n",
       "std       110170.72\n",
       "min         -555.50\n",
       "25%           35.91\n",
       "50%          384.50\n",
       "75%         2476.11\n",
       "max      2387780.90\n",
       "Name: networth, dtype: object"
      ]
     },
     "execution_count": 9,
     "metadata": {},
     "output_type": "execute_result"
    }
   ],
   "source": [
    "X = networth_2022\n",
    "w = weight_2022/(weight_2022.sum())\n",
    "X.describe().apply(lambda x: '%.2f' % x)"
   ]
  },
  {
   "cell_type": "markdown",
   "metadata": {},
   "source": [
    "**SU 분포 Weighted MLE**\n",
    "\n",
    "$$\\text{argmax} \\sum_i w_i \\log L(m,s,\\lambda, \\theta \\mid x_i)$$"
   ]
  },
  {
   "cell_type": "markdown",
   "metadata": {},
   "source": [
    "**파라미터 제약조건을 옵션(`bounds`)으로 부과하는 방식**"
   ]
  },
  {
   "cell_type": "code",
   "execution_count": 10,
   "metadata": {},
   "outputs": [
    {
     "name": "stdout",
     "output_type": "stream",
     "text": [
      "m_MLE = -4.353750896476474 s_MLE = 14.875747192210131 lambda_MLE = 3.045951314930014 theta_MLE = 2.089702959886642\n",
      "Objective function value at solution: 7.430483707764436\n"
     ]
    }
   ],
   "source": [
    "m_init = 0\n",
    "s_init = 1\n",
    "lambda_init = 0\n",
    "theta_init = 1\n",
    "\n",
    "params_init = np.array([m_init, s_init, lambda_init, theta_init])\n",
    "res_SU = opt.minimize(\n",
    "    weight_obj_SU, params_init, args=(X, w),\n",
    "    method='L-BFGS-B',\n",
    "    bounds=((None, None),(1e-10, None),(None, None),(1e-10, None))\n",
    ")\n",
    "m_MLE, s_MLE, lambda_MLE, theta_MLE = res_SU.x\n",
    "\n",
    "print('m_MLE =',m_MLE, 's_MLE =',s_MLE, 'lambda_MLE =',lambda_MLE, 'theta_MLE =',theta_MLE) \n",
    "print(\"Objective function value at solution:\", res_SU.fun)"
   ]
  },
  {
   "cell_type": "markdown",
   "metadata": {},
   "source": [
    "**양의 값을 갖는 파라미터에 지수(natural exponential)를 취하는 방식**"
   ]
  },
  {
   "cell_type": "code",
   "execution_count": 11,
   "metadata": {},
   "outputs": [
    {
     "name": "stdout",
     "output_type": "stream",
     "text": [
      "m_MLE = -4.353749207460307 s_MLE = 14.875830115629578 lambda_MLE = 3.045945510181015 theta_MLE = 2.089705981181354\n",
      "Objective function value at solution: 7.430483707764102\n"
     ]
    }
   ],
   "source": [
    "m_init = 0\n",
    "s_init = 0\n",
    "lambda_init = 0\n",
    "theta_init = 0\n",
    "\n",
    "params_init = np.array([m_init, s_init, lambda_init, theta_init])\n",
    "res_SU = opt.minimize(\n",
    "    weight_obj_SU_e,\n",
    "    params_init, args=(X, w),\n",
    "    method='L-BFGS-B'\n",
    ")\n",
    "m_MLE, s_MLE, lambda_MLE, theta_MLE = res_SU.x\n",
    "\n",
    "s_MLE = np.exp(s_MLE)\n",
    "theta_MLE = np.exp(theta_MLE)\n",
    "\n",
    "print('m_MLE =',m_MLE, 's_MLE =',s_MLE, 'lambda_MLE =',lambda_MLE, 'theta_MLE =',theta_MLE)\n",
    "print(\"Objective function value at solution:\", res_SU.fun)"
   ]
  }
 ],
 "metadata": {
  "anaconda-cloud": {},
  "kernelspec": {
   "display_name": "Python 3 (ipykernel)",
   "language": "python",
   "name": "python3"
  },
  "language_info": {
   "codemirror_mode": {
    "name": "ipython",
    "version": 3
   },
   "file_extension": ".py",
   "mimetype": "text/x-python",
   "name": "python",
   "nbconvert_exporter": "python",
   "pygments_lexer": "ipython3",
   "version": "3.11.4"
  }
 },
 "nbformat": 4,
 "nbformat_minor": 1
}