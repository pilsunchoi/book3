{
 "cells": [
  {
   "cell_type": "markdown",
   "metadata": {},
   "source": [
    "# 4.4 MLE에서 헤시안 활용\n",
    "\n",
    "- [1 MLE에서 자코비안과 헤시안의 역할](#1-MLE에서-자코비안과-헤시안의-역할)\n",
    "- [2 SU 분포 Hessian 행렬](#2-SU-분포-Hessian-행렬)\n",
    "- [3 SymPy로 Hessian 구하기](#3-SymPy로-Hessian-구하기)\n",
    "- [4 Functions](#4-Functions)\n",
    "- [5 데이터](#5-데이터)\n",
    "- [6 순자산 분포 추정](#6-순자산-분포-추정)"
   ]
  },
  {
   "cell_type": "markdown",
   "metadata": {},
   "source": [
    "## 1 MLE에서 자코비안과 헤시안의 역할\n",
    "\n",
    "**출처: ChatGPT**\n",
    "\n",
    "---\n",
    "\n",
    "최우도 추정(MLE, Maximum Likelihood Estimation)에서 자코비안(Jacobian)과 헤시안(Hessian)은 함수의 기울기(gradient)와 곡률(curvature) 정보를 제공하며, MLE의 계산, 검정, 그리고 신뢰구간 추정 등에 중요한 역할을 합니다.\n",
    "\n",
    "---\n",
    "\n",
    "### Jacobian\n",
    "\n",
    "**정의**:  \n",
    "자코비안은 함수의 **일차 도함수** 정보를 담고 있는 벡터 또는 행렬입니다. MLE에서는 보통 로그우도 함수 $\\ell(\\theta)$의 파라미터 $\\theta$에 대한 **그래디언트**(gradient)로 사용됩니다.\n",
    "\n",
    "$$\n",
    "\\mathbf{J} = \\nabla \\ell(\\theta) = \\left[ \\frac{\\partial \\ell(\\theta)}{\\partial \\theta_1}, \\frac{\\partial \\ell(\\theta)}{\\partial \\theta_2}, \\dots, \\frac{\\partial \\ell(\\theta)}{\\partial \\theta_k} \\right]^T\n",
    "$$\n",
    "\n",
    "**의미**:\n",
    "- 자코비안은 우도 함수가 최대화되는 방향을 나타냅니다.\n",
    "- 최적화 알고리즘(L-BFGS, Newton-Raphson 등)에서 자코비안은 $\\theta$를 업데이트하는 데 사용됩니다.\n",
    "- $ \\mathbf{J} = 0 $인 지점에서 $\\theta$는 잠재적으로 MLE 값일 수 있습니다.\n",
    "\n",
    "---\n",
    "\n",
    "### Hessian\n",
    "\n",
    "**정의**:  \n",
    "헤시안은 함수의 **이차 도함수** 정보를 담고 있는 행렬입니다. MLE에서는 로그우도 함수 $\\ell(\\theta)$의 **이차 도함수 행렬**로 정의됩니다.\n",
    "\n",
    "$$\n",
    "\\mathbf{H} = \\nabla^2 \\ell(\\theta) = \n",
    "\\begin{bmatrix}\n",
    "\\frac{\\partial^2 \\ell(\\theta)}{\\partial \\theta_1^2} & \\frac{\\partial^2 \\ell(\\theta)}{\\partial \\theta_1 \\partial \\theta_2} & \\cdots & \\frac{\\partial^2 \\ell(\\theta)}{\\partial \\theta_1 \\partial \\theta_k} \\\\\n",
    "\\frac{\\partial^2 \\ell(\\theta)}{\\partial \\theta_2 \\partial \\theta_1} & \\frac{\\partial^2 \\ell(\\theta)}{\\partial \\theta_2^2} & \\cdots & \\frac{\\partial^2 \\ell(\\theta)}{\\partial \\theta_2 \\partial \\theta_k} \\\\\n",
    "\\vdots & \\vdots & \\ddots & \\vdots \\\\\n",
    "\\frac{\\partial^2 \\ell(\\theta)}{\\partial \\theta_k \\partial \\theta_1} & \\frac{\\partial^2 \\ell(\\theta)}{\\partial \\theta_k \\partial \\theta_2} & \\cdots & \\frac{\\partial^2 \\ell(\\theta)}{\\partial \\theta_k^2}\n",
    "\\end{bmatrix}\n",
    "$$\n",
    "\n",
    "**의미**:\n",
    "- 헤시안은 우도 함수의 곡률 정보를 제공합니다.\n",
    "- 최적화 과정에서 헤시안을 사용해 뉴턴-Raphson 업데이트를 수행할 수 있습니다:\n",
    "  $\n",
    "  \\theta_{\\text{new}} = \\theta_{\\text{old}} - \\mathbf{H}^{-1} \\mathbf{J}\n",
    "  $\n",
    "- 헤시안의 역행렬은 **추정치의 분산-공분산 행렬**을 계산하는 데 사용됩니다:\n",
    "  $\n",
    "  \\text{Var}(\\hat{\\theta}) = -\\mathbf{H}^{-1}\n",
    "  $\n",
    "\n",
    "---\n",
    "\n",
    "### MLE에서 자코비안과 헤시안의 역할\n",
    "\n",
    "**1) MLE 추정 과정**:\n",
    "- **자코비안**: 로그우도 함수의 기울기를 나타내며, 최적화 과정에서 $\\theta$를 이동시키는 방향을 제공합니다.\n",
    "- **헤시안**: 로그우도 함수의 곡률을 나타내며, 기울기의 크기와 이동량을 조정합니다.\n",
    "\n",
    "**2) 표준오차 계산**:\n",
    "- 헤시안의 음의 역행렬은 파라미터의 **분산-공분산 행렬**을 제공합니다:\n",
    "  $\n",
    "  \\text{Cov}(\\hat{\\theta}) = -\\mathbf{H}^{-1}\n",
    "  $\n",
    "- 이로부터 표준오차는 다음과 같이 계산됩니다:\n",
    "  $\n",
    "  \\text{SE}(\\hat{\\theta}_i) = \\sqrt{\\text{Var}(\\hat{\\theta}_i)}\n",
    "  $\n",
    "\n",
    "**3) 우도 검정**:\n",
    "- 자코비안과 헤시안을 사용해 로그우도 함수에서 극대화된 값과 귀무가설 아래의 값을 비교하여 $ \\chi^2 $-분포 기반의 검정을 수행할 수 있습니다.\n",
    "\n",
    "---\n",
    "\n",
    "### 자코비안과 헤시안 계산 시 주의점\n",
    "- 계산 비용이 큽니다: 헤시안은 $k \\times k$ 크기의 행렬이므로, 고차원 문제에서는 계산 비용이 높아질 수 있습니다.\n",
    "- 수치적으로 불안정할 수 있습니다: 최적화 과정에서 헤시안이 비양의 정부호(non-positive definite)일 경우, 역행렬 계산이 불가능할 수 있습니다.\n",
    "- 스케일링: 자코비안과 헤시안을 계산하기 전에 데이터와 파라미터를 적절히 스케일링해야 정확한 추정이 가능합니다.\n",
    "\n",
    "---\n",
    "\n",
    "### 요약\n",
    "- 자코비안: 로그우도 함수의 기울기 정보를 제공하며, 최적화 알고리즘에서 방향을 결정합니다.\n",
    "- 헤시안: 로그우도 함수의 곡률 정보를 제공하며, 표준오차 계산 및 최적화에서 이동량을 결정합니다.\n",
    "- MLE의 결과를 해석하거나 신뢰구간과 검정을 수행하는 데 자코비안과 헤시안이 필수적입니다."
   ]
  },
  {
   "cell_type": "markdown",
   "metadata": {},
   "source": [
    "## 2 SU 분포 Hessian 행렬\n",
    "\n",
    "$S_U$ 확률밀도함수(PDF) $f(x_i)$에 로그를 취하면 다음이 된다.  \n",
    "\n",
    "$$ \n",
    "\\ln f(x_i) = -\\ln \\theta - \\frac{1}{2}\\ln((x_i - m)^2 + s^2) - \\frac{1}{2}\\ln(2\\pi) - \\frac{1}{2}\\left[\\theta^{-1} \\left(\\sinh^{-1}\\left(\\frac{x_i - m}{s}\\right) - \\lambda\\right)\\right]^2\n",
    "$$\n",
    "\n",
    "아래는 이를 미분하여 헤시안 행렬의 모든 원소(중복 제외)를 구한 것이다."
   ]
  },
  {
   "cell_type": "markdown",
   "metadata": {},
   "source": [
    "- $\n",
    "\\frac{\\partial \\ln f(x_i)}{\\partial m} = \\frac{x_i - m}{s^2 + (x_i - m)^2} + \\frac{z_i}{\\theta \\sqrt{s^2 + (x_i - m)^2}}\n",
    "$\n",
    "\n",
    "- $\n",
    "\\frac{\\partial \\ln f(x_i)}{\\partial s} = -\\frac{s}{s^2 + (x_i - m)^2} + \\frac{(x_i - m) z_i}{s \\theta \\sqrt{s^2 + (x_i - m)^2}}\n",
    "$\n",
    "\n",
    "- $\n",
    "\\frac{\\partial \\ln f(x_i)}{\\partial \\lambda} = \\frac{z_i}{\\theta}\n",
    "$\n",
    "\n",
    "- $\n",
    "\\frac{\\partial \\ln f(x_i)}{\\partial \\theta} = \\frac{z_i^2 - 1}{\\theta}\n",
    "$\n",
    "\n",
    "- $\n",
    "\\frac{\\partial^2 \\ln f(x_i)}{\\partial m^2} = -\\frac{s^2 - (x_i - m)^2}{[s^2 + (x_i - m)^2]^2} + \\frac{(x_i - m) z_i}{\\theta [s^2 + (x_i - m)^2]^{3/2}} - \\frac{1}{\\theta^2 [s^2 + (x_i - m)^2]}\n",
    "$\n",
    "\n",
    "- $\n",
    "\\frac{\\partial^2 \\ln f(x_i)}{\\partial s \\partial m} = -\\frac{2s(x_i - m)}{[s^2 + (x_i - m)^2]^2} - \\frac{s z_i}{\\theta [s^2 + (x_i - m)^2]^{3/2}} - \\frac{x_i - m}{s \\theta^2 [s^2 + (x_i - m)^2]}\n",
    "$\n",
    "\n",
    "- $\n",
    "\\frac{\\partial^2 \\ln f(x_i)}{\\partial \\lambda \\partial m} = -\\frac{1}{\\theta^2 \\sqrt{s^2 + (x_i - m)^2}}\n",
    "$\n",
    "\n",
    "- $\n",
    "\\frac{\\partial^2 \\ln f(x_i)}{\\partial \\theta \\partial m} = -\\frac{2 z_i}{\\theta^2 \\sqrt{s^2 + (x_i - m)^2}}\n",
    "$\n",
    "\n",
    "- $\n",
    "\\frac{\\partial^2 \\ln f(x_i)}{\\partial s^2} = \\frac{2s^2}{[s^2 + (x_i - m)^2]^2} - \\frac{(x_i - m) z_i}{s^2 \\theta \\sqrt{s^2 + (x_i - m)^2}} - \\frac{(x_i - m) z_i}{\\theta [s^2 + (x_i - m)^2]^{3/2}} - \\frac{s^2 \\theta^2 + (x_i - m)^2}{s^2 \\theta^2 [s^2 + (x_i - m)^2]}\n",
    "$\n",
    "\n",
    "- $\n",
    "\\frac{\\partial^2 \\ln f(x_i)}{\\partial \\lambda \\partial s} = -\\frac{x_i - m}{s \\theta^2 \\sqrt{s^2 + (x_i - m)^2}}\n",
    "$\n",
    "\n",
    "- $\n",
    "\\frac{\\partial^2 \\ln f(x_i)}{\\partial \\theta \\partial s} = -\\frac{2 (x_i - m) z_i}{s \\theta^2 \\sqrt{s^2 + (x_i - m)^2}}\n",
    "$\n",
    "\n",
    "- $\n",
    "\\frac{\\partial^2 \\ln f(x_i)}{\\partial \\lambda^2} = -\\frac{1}{\\theta^2}\n",
    "$\n",
    "\n",
    "- $\n",
    "\\frac{\\partial^2 \\ln f(x_i)}{\\partial \\theta \\partial \\lambda} = -\\frac{2 z_i}{\\theta^2}\n",
    "$\n",
    "\n",
    "- $\n",
    "\\frac{\\partial^2 \\ln f(x_i)}{\\partial \\theta^2} = -\\frac{3 z_i^2}{\\theta^2}\n",
    "$"
   ]
  },
  {
   "cell_type": "markdown",
   "metadata": {},
   "source": [
    "## 3 SymPy로 Hessian 구하기\n",
    "\n",
    "다음은 `sympy` 라이브러리를 사용해 헤시안 행렬을 구한 것이다. 위의 손으로 구한 것과 표현은 달라도 내용은 동일하다."
   ]
  },
  {
   "cell_type": "markdown",
   "metadata": {},
   "source": [
    "### * $\\frac{∂logL}{∂m}$"
   ]
  },
  {
   "cell_type": "code",
   "execution_count": 1,
   "metadata": {},
   "outputs": [
    {
     "name": "stdout",
     "output_type": "stream",
     "text": [
      "(-m + x)/(s**2 + (-m + x)**2) + (-lambda_ + asinh((-m + x)/s))/(s*theta**2*sqrt(1 + (-m + x)**2/s**2))\n"
     ]
    },
    {
     "data": {
      "text/latex": [
       "$\\displaystyle \\frac{- m + x}{s^{2} + \\left(- m + x\\right)^{2}} + \\frac{- \\lambda_{} + \\operatorname{asinh}{\\left(\\frac{- m + x}{s} \\right)}}{s \\theta^{2} \\sqrt{1 + \\frac{\\left(- m + x\\right)^{2}}{s^{2}}}}$"
      ],
      "text/plain": [
       "(-m + x)/(s**2 + (-m + x)**2) + (-lambda_ + asinh((-m + x)/s))/(s*theta**2*sqrt(1 + (-m + x)**2/s**2))"
      ]
     },
     "execution_count": 1,
     "metadata": {},
     "output_type": "execute_result"
    }
   ],
   "source": [
    "from sympy import symbols, diff, log, sqrt, pi, exp, sinh, asinh, erf\n",
    "\n",
    "# 심볼 정의\n",
    "m, s, lambda_, theta, x = symbols('m s lambda_ theta x')\n",
    "\n",
    "J = (theta * sqrt((x - m)**2 + s**2 ))**(-1)\n",
    "z = theta**(-1) * (asinh((x-m)/s) - lambda_)\n",
    "phi_z = 1 / sqrt(2 * pi) * exp(-z**2 / 2)\n",
    "\n",
    "ll_m = diff(log(J) + log(phi_z), m)\n",
    "\n",
    "print(ll_m)\n",
    "ll_m"
   ]
  },
  {
   "cell_type": "markdown",
   "metadata": {},
   "source": [
    "### * $\\frac{∂logL}{∂s}$"
   ]
  },
  {
   "cell_type": "code",
   "execution_count": 2,
   "metadata": {},
   "outputs": [
    {
     "name": "stdout",
     "output_type": "stream",
     "text": [
      "-s/(s**2 + (-m + x)**2) + (-lambda_ + asinh((-m + x)/s))*(-m + x)/(s**2*theta**2*sqrt(1 + (-m + x)**2/s**2))\n"
     ]
    },
    {
     "data": {
      "text/latex": [
       "$\\displaystyle - \\frac{s}{s^{2} + \\left(- m + x\\right)^{2}} + \\frac{\\left(- \\lambda_{} + \\operatorname{asinh}{\\left(\\frac{- m + x}{s} \\right)}\\right) \\left(- m + x\\right)}{s^{2} \\theta^{2} \\sqrt{1 + \\frac{\\left(- m + x\\right)^{2}}{s^{2}}}}$"
      ],
      "text/plain": [
       "-s/(s**2 + (-m + x)**2) + (-lambda_ + asinh((-m + x)/s))*(-m + x)/(s**2*theta**2*sqrt(1 + (-m + x)**2/s**2))"
      ]
     },
     "execution_count": 2,
     "metadata": {},
     "output_type": "execute_result"
    }
   ],
   "source": [
    "from sympy import symbols, diff, log, sqrt, pi, exp, sinh, asinh, erf\n",
    "\n",
    "# 심볼 정의\n",
    "m, s, lambda_, theta, x = symbols('m s lambda_ theta x')\n",
    "\n",
    "J = (theta * sqrt((x - m)**2 + s**2 ))**(-1)\n",
    "z = theta**(-1) * (asinh((x-m)/s) - lambda_)\n",
    "phi_z = 1 / sqrt(2 * pi) * exp(-z**2 / 2)\n",
    "\n",
    "ll_s = diff(log(J) + log(phi_z), s)\n",
    "\n",
    "print(ll_s)\n",
    "ll_s"
   ]
  },
  {
   "cell_type": "markdown",
   "metadata": {},
   "source": [
    "### * $\\frac{∂logL}{∂𝜆}$"
   ]
  },
  {
   "cell_type": "code",
   "execution_count": 3,
   "metadata": {},
   "outputs": [
    {
     "name": "stdout",
     "output_type": "stream",
     "text": [
      "-(2*lambda_ - 2*asinh((-m + x)/s))/(2*theta**2)\n"
     ]
    },
    {
     "data": {
      "text/latex": [
       "$\\displaystyle - \\frac{2 \\lambda_{} - 2 \\operatorname{asinh}{\\left(\\frac{- m + x}{s} \\right)}}{2 \\theta^{2}}$"
      ],
      "text/plain": [
       "-(2*lambda_ - 2*asinh((-m + x)/s))/(2*theta**2)"
      ]
     },
     "execution_count": 3,
     "metadata": {},
     "output_type": "execute_result"
    }
   ],
   "source": [
    "from sympy import symbols, diff, log, sqrt, pi, exp, sinh, asinh, erf\n",
    "\n",
    "# 심볼 정의\n",
    "m, s, lambda_, theta, x = symbols('m s lambda_ theta x')\n",
    "\n",
    "J = (theta * sqrt((x - m)**2 + s**2 ))**(-1)\n",
    "z = theta**(-1) * (asinh((x-m)/s) - lambda_)\n",
    "phi_z = 1 / sqrt(2 * pi) * exp(-z**2 / 2)\n",
    "\n",
    "ll_l = diff(log(J) + log(phi_z), lambda_)\n",
    "\n",
    "print(ll_l)\n",
    "ll_l"
   ]
  },
  {
   "cell_type": "markdown",
   "metadata": {},
   "source": [
    "### * $\\frac{∂logL}{∂𝜃}$"
   ]
  },
  {
   "cell_type": "code",
   "execution_count": 4,
   "metadata": {},
   "outputs": [
    {
     "name": "stdout",
     "output_type": "stream",
     "text": [
      "-1/theta + (-lambda_ + asinh((-m + x)/s))**2/theta**3\n"
     ]
    },
    {
     "data": {
      "text/latex": [
       "$\\displaystyle - \\frac{1}{\\theta} + \\frac{\\left(- \\lambda_{} + \\operatorname{asinh}{\\left(\\frac{- m + x}{s} \\right)}\\right)^{2}}{\\theta^{3}}$"
      ],
      "text/plain": [
       "-1/theta + (-lambda_ + asinh((-m + x)/s))**2/theta**3"
      ]
     },
     "execution_count": 4,
     "metadata": {},
     "output_type": "execute_result"
    }
   ],
   "source": [
    "from sympy import symbols, diff, log, sqrt, pi, exp, sinh, asinh, erf\n",
    "\n",
    "# 심볼 정의\n",
    "m, s, lambda_, theta, x = symbols('m s lambda_ theta x')\n",
    "\n",
    "J = (theta * sqrt((x - m)**2 + s**2 ))**(-1)\n",
    "z = theta**(-1) * (asinh((x-m)/s) - lambda_)\n",
    "phi_z = 1 / sqrt(2 * pi) * exp(-z**2 / 2)\n",
    "\n",
    "ll_t = diff(log(J) + log(phi_z), theta)\n",
    "\n",
    "print(ll_t)\n",
    "ll_t"
   ]
  },
  {
   "cell_type": "markdown",
   "metadata": {},
   "source": [
    "### * $\\frac{∂^2logL}{∂m^2}$"
   ]
  },
  {
   "cell_type": "code",
   "execution_count": 5,
   "metadata": {},
   "outputs": [
    {
     "name": "stdout",
     "output_type": "stream",
     "text": [
      "(-2*m + 2*x)*(-m + x)/(s**2 + (-m + x)**2)**2 - 1/(s**2 + (-m + x)**2) - 1/(s**2*theta**2*(1 + (-m + x)**2/s**2)) - (-lambda_ + asinh((-m + x)/s))*(2*m - 2*x)/(2*s**3*theta**2*(1 + (-m + x)**2/s**2)**(3/2))\n"
     ]
    },
    {
     "data": {
      "text/latex": [
       "$\\displaystyle \\frac{\\left(- 2 m + 2 x\\right) \\left(- m + x\\right)}{\\left(s^{2} + \\left(- m + x\\right)^{2}\\right)^{2}} - \\frac{1}{s^{2} + \\left(- m + x\\right)^{2}} - \\frac{1}{s^{2} \\theta^{2} \\cdot \\left(1 + \\frac{\\left(- m + x\\right)^{2}}{s^{2}}\\right)} - \\frac{\\left(- \\lambda_{} + \\operatorname{asinh}{\\left(\\frac{- m + x}{s} \\right)}\\right) \\left(2 m - 2 x\\right)}{2 s^{3} \\theta^{2} \\left(1 + \\frac{\\left(- m + x\\right)^{2}}{s^{2}}\\right)^{\\frac{3}{2}}}$"
      ],
      "text/plain": [
       "(-2*m + 2*x)*(-m + x)/(s**2 + (-m + x)**2)**2 - 1/(s**2 + (-m + x)**2) - 1/(s**2*theta**2*(1 + (-m + x)**2/s**2)) - (-lambda_ + asinh((-m + x)/s))*(2*m - 2*x)/(2*s**3*theta**2*(1 + (-m + x)**2/s**2)**(3/2))"
      ]
     },
     "execution_count": 5,
     "metadata": {},
     "output_type": "execute_result"
    }
   ],
   "source": [
    "from sympy import symbols, diff, log, sqrt, pi, exp, sinh, asinh, erf\n",
    "\n",
    "# 심볼 정의\n",
    "m, s, lambda_, theta, x = symbols('m s lambda_ theta x')\n",
    "\n",
    "J = (theta * sqrt((x - m)**2 + s**2 ))**(-1)\n",
    "z = theta**(-1) * (asinh((x-m)/s) - lambda_)\n",
    "phi_z = 1 / sqrt(2 * pi) * exp(-z**2 / 2)\n",
    "\n",
    "ll_m = diff(log(J) + log(phi_z), m)\n",
    "ll_mm = diff(ll_m, m)\n",
    "\n",
    "print(ll_mm)\n",
    "ll_mm"
   ]
  },
  {
   "cell_type": "markdown",
   "metadata": {},
   "source": [
    "### * $\\frac{∂^2logL}{∂s∂m}$"
   ]
  },
  {
   "cell_type": "code",
   "execution_count": 6,
   "metadata": {},
   "outputs": [
    {
     "name": "stdout",
     "output_type": "stream",
     "text": [
      "-2*s*(-m + x)/(s**2 + (-m + x)**2)**2 - (-lambda_ + asinh((-m + x)/s))/(s**2*theta**2*sqrt(1 + (-m + x)**2/s**2)) - (-m + x)/(s**3*theta**2*(1 + (-m + x)**2/s**2)) + (-lambda_ + asinh((-m + x)/s))*(-m + x)**2/(s**4*theta**2*(1 + (-m + x)**2/s**2)**(3/2))\n"
     ]
    },
    {
     "data": {
      "text/latex": [
       "$\\displaystyle - \\frac{2 s \\left(- m + x\\right)}{\\left(s^{2} + \\left(- m + x\\right)^{2}\\right)^{2}} - \\frac{- \\lambda_{} + \\operatorname{asinh}{\\left(\\frac{- m + x}{s} \\right)}}{s^{2} \\theta^{2} \\sqrt{1 + \\frac{\\left(- m + x\\right)^{2}}{s^{2}}}} - \\frac{- m + x}{s^{3} \\theta^{2} \\cdot \\left(1 + \\frac{\\left(- m + x\\right)^{2}}{s^{2}}\\right)} + \\frac{\\left(- \\lambda_{} + \\operatorname{asinh}{\\left(\\frac{- m + x}{s} \\right)}\\right) \\left(- m + x\\right)^{2}}{s^{4} \\theta^{2} \\left(1 + \\frac{\\left(- m + x\\right)^{2}}{s^{2}}\\right)^{\\frac{3}{2}}}$"
      ],
      "text/plain": [
       "-2*s*(-m + x)/(s**2 + (-m + x)**2)**2 - (-lambda_ + asinh((-m + x)/s))/(s**2*theta**2*sqrt(1 + (-m + x)**2/s**2)) - (-m + x)/(s**3*theta**2*(1 + (-m + x)**2/s**2)) + (-lambda_ + asinh((-m + x)/s))*(-m + x)**2/(s**4*theta**2*(1 + (-m + x)**2/s**2)**(3/2))"
      ]
     },
     "execution_count": 6,
     "metadata": {},
     "output_type": "execute_result"
    }
   ],
   "source": [
    "from sympy import symbols, diff, log, sqrt, pi, exp, sinh, asinh, erf\n",
    "\n",
    "# 심볼 정의\n",
    "m, s, lambda_, theta, x = symbols('m s lambda_ theta x')\n",
    "\n",
    "J = (theta * sqrt((x - m)**2 + s**2 ))**(-1)\n",
    "z = theta**(-1) * (asinh((x-m)/s) - lambda_)\n",
    "phi_z = 1 / sqrt(2 * pi) * exp(-z**2 / 2)\n",
    "\n",
    "ll_m = diff(log(J) + log(phi_z), m)\n",
    "ll_sm = diff(ll_m, s)\n",
    "\n",
    "print(ll_sm)\n",
    "ll_sm"
   ]
  },
  {
   "cell_type": "markdown",
   "metadata": {},
   "source": [
    "### * $\\frac{∂^2logL}{∂𝜆∂m}$"
   ]
  },
  {
   "cell_type": "code",
   "execution_count": 7,
   "metadata": {},
   "outputs": [
    {
     "name": "stdout",
     "output_type": "stream",
     "text": [
      "-1/(s*theta**2*sqrt(1 + (-m + x)**2/s**2))\n"
     ]
    },
    {
     "data": {
      "text/latex": [
       "$\\displaystyle - \\frac{1}{s \\theta^{2} \\sqrt{1 + \\frac{\\left(- m + x\\right)^{2}}{s^{2}}}}$"
      ],
      "text/plain": [
       "-1/(s*theta**2*sqrt(1 + (-m + x)**2/s**2))"
      ]
     },
     "execution_count": 7,
     "metadata": {},
     "output_type": "execute_result"
    }
   ],
   "source": [
    "from sympy import symbols, diff, log, sqrt, pi, exp, sinh, asinh, erf\n",
    "\n",
    "# 심볼 정의\n",
    "m, s, lambda_, theta, x = symbols('m s lambda_ theta x')\n",
    "\n",
    "J = (theta * sqrt((x - m)**2 + s**2 ))**(-1)\n",
    "z = theta**(-1) * (asinh((x-m)/s) - lambda_)\n",
    "phi_z = 1 / sqrt(2 * pi) * exp(-z**2 / 2)\n",
    "\n",
    "ll_m = diff(log(J) + log(phi_z), m)\n",
    "ll_lm = diff(ll_m, lambda_)\n",
    "\n",
    "print(ll_lm)\n",
    "ll_lm"
   ]
  },
  {
   "cell_type": "markdown",
   "metadata": {},
   "source": [
    "### * $\\frac{∂^2logL}{∂𝜃∂m}$"
   ]
  },
  {
   "cell_type": "code",
   "execution_count": 8,
   "metadata": {},
   "outputs": [
    {
     "name": "stdout",
     "output_type": "stream",
     "text": [
      "-2*(-lambda_ + asinh((-m + x)/s))/(s*theta**3*sqrt(1 + (-m + x)**2/s**2))\n"
     ]
    },
    {
     "data": {
      "text/latex": [
       "$\\displaystyle - \\frac{2 \\left(- \\lambda_{} + \\operatorname{asinh}{\\left(\\frac{- m + x}{s} \\right)}\\right)}{s \\theta^{3} \\sqrt{1 + \\frac{\\left(- m + x\\right)^{2}}{s^{2}}}}$"
      ],
      "text/plain": [
       "-2*(-lambda_ + asinh((-m + x)/s))/(s*theta**3*sqrt(1 + (-m + x)**2/s**2))"
      ]
     },
     "execution_count": 8,
     "metadata": {},
     "output_type": "execute_result"
    }
   ],
   "source": [
    "from sympy import symbols, diff, log, sqrt, pi, exp, sinh, asinh, erf\n",
    "\n",
    "# 심볼 정의\n",
    "m, s, lambda_, theta, x = symbols('m s lambda_ theta x')\n",
    "\n",
    "J = (theta * sqrt((x - m)**2 + s**2 ))**(-1)\n",
    "z = theta**(-1) * (asinh((x-m)/s) - lambda_)\n",
    "phi_z = 1 / sqrt(2 * pi) * exp(-z**2 / 2)\n",
    "\n",
    "ll_m = diff(log(J) + log(phi_z), m)\n",
    "ll_tm = diff(ll_m, theta)\n",
    "\n",
    "print(ll_tm)\n",
    "ll_tm"
   ]
  },
  {
   "cell_type": "markdown",
   "metadata": {},
   "source": [
    "### * $\\frac{∂^2logL}{∂m∂s}$"
   ]
  },
  {
   "cell_type": "code",
   "execution_count": 9,
   "metadata": {},
   "outputs": [
    {
     "name": "stdout",
     "output_type": "stream",
     "text": [
      "-s*(-2*m + 2*x)/(s**2 + (-m + x)**2)**2 - (-lambda_ + asinh((-m + x)/s))/(s**2*theta**2*sqrt(1 + (-m + x)**2/s**2)) - (-m + x)/(s**3*theta**2*(1 + (-m + x)**2/s**2)) - (-lambda_ + asinh((-m + x)/s))*(-m + x)*(2*m - 2*x)/(2*s**4*theta**2*(1 + (-m + x)**2/s**2)**(3/2))\n"
     ]
    },
    {
     "data": {
      "text/latex": [
       "$\\displaystyle - \\frac{s \\left(- 2 m + 2 x\\right)}{\\left(s^{2} + \\left(- m + x\\right)^{2}\\right)^{2}} - \\frac{- \\lambda_{} + \\operatorname{asinh}{\\left(\\frac{- m + x}{s} \\right)}}{s^{2} \\theta^{2} \\sqrt{1 + \\frac{\\left(- m + x\\right)^{2}}{s^{2}}}} - \\frac{- m + x}{s^{3} \\theta^{2} \\cdot \\left(1 + \\frac{\\left(- m + x\\right)^{2}}{s^{2}}\\right)} - \\frac{\\left(- \\lambda_{} + \\operatorname{asinh}{\\left(\\frac{- m + x}{s} \\right)}\\right) \\left(- m + x\\right) \\left(2 m - 2 x\\right)}{2 s^{4} \\theta^{2} \\left(1 + \\frac{\\left(- m + x\\right)^{2}}{s^{2}}\\right)^{\\frac{3}{2}}}$"
      ],
      "text/plain": [
       "-s*(-2*m + 2*x)/(s**2 + (-m + x)**2)**2 - (-lambda_ + asinh((-m + x)/s))/(s**2*theta**2*sqrt(1 + (-m + x)**2/s**2)) - (-m + x)/(s**3*theta**2*(1 + (-m + x)**2/s**2)) - (-lambda_ + asinh((-m + x)/s))*(-m + x)*(2*m - 2*x)/(2*s**4*theta**2*(1 + (-m + x)**2/s**2)**(3/2))"
      ]
     },
     "execution_count": 9,
     "metadata": {},
     "output_type": "execute_result"
    }
   ],
   "source": [
    "from sympy import symbols, diff, log, sqrt, pi, exp, sinh, asinh, erf\n",
    "\n",
    "# 심볼 정의\n",
    "m, s, lambda_, theta, x = symbols('m s lambda_ theta x')\n",
    "\n",
    "J = (theta * sqrt((x - m)**2 + s**2 ))**(-1)\n",
    "z = theta**(-1) * (asinh((x-m)/s) - lambda_)\n",
    "phi_z = 1 / sqrt(2 * pi) * exp(-z**2 / 2)\n",
    "\n",
    "ll_s = diff(log(J) + log(phi_z), s)\n",
    "ll_ms = diff(ll_s, m)\n",
    "\n",
    "print(ll_ms)\n",
    "ll_ms"
   ]
  },
  {
   "cell_type": "markdown",
   "metadata": {},
   "source": [
    "### * $\\frac{∂^2logL}{∂s^2}$"
   ]
  },
  {
   "cell_type": "code",
   "execution_count": 10,
   "metadata": {},
   "outputs": [
    {
     "name": "stdout",
     "output_type": "stream",
     "text": [
      "2*s**2/(s**2 + (-m + x)**2)**2 - 1/(s**2 + (-m + x)**2) - 2*(-lambda_ + asinh((-m + x)/s))*(-m + x)/(s**3*theta**2*sqrt(1 + (-m + x)**2/s**2)) - (-m + x)**2/(s**4*theta**2*(1 + (-m + x)**2/s**2)) + (-lambda_ + asinh((-m + x)/s))*(-m + x)**3/(s**5*theta**2*(1 + (-m + x)**2/s**2)**(3/2))\n"
     ]
    },
    {
     "data": {
      "text/latex": [
       "$\\displaystyle \\frac{2 s^{2}}{\\left(s^{2} + \\left(- m + x\\right)^{2}\\right)^{2}} - \\frac{1}{s^{2} + \\left(- m + x\\right)^{2}} - \\frac{2 \\left(- \\lambda_{} + \\operatorname{asinh}{\\left(\\frac{- m + x}{s} \\right)}\\right) \\left(- m + x\\right)}{s^{3} \\theta^{2} \\sqrt{1 + \\frac{\\left(- m + x\\right)^{2}}{s^{2}}}} - \\frac{\\left(- m + x\\right)^{2}}{s^{4} \\theta^{2} \\cdot \\left(1 + \\frac{\\left(- m + x\\right)^{2}}{s^{2}}\\right)} + \\frac{\\left(- \\lambda_{} + \\operatorname{asinh}{\\left(\\frac{- m + x}{s} \\right)}\\right) \\left(- m + x\\right)^{3}}{s^{5} \\theta^{2} \\left(1 + \\frac{\\left(- m + x\\right)^{2}}{s^{2}}\\right)^{\\frac{3}{2}}}$"
      ],
      "text/plain": [
       "2*s**2/(s**2 + (-m + x)**2)**2 - 1/(s**2 + (-m + x)**2) - 2*(-lambda_ + asinh((-m + x)/s))*(-m + x)/(s**3*theta**2*sqrt(1 + (-m + x)**2/s**2)) - (-m + x)**2/(s**4*theta**2*(1 + (-m + x)**2/s**2)) + (-lambda_ + asinh((-m + x)/s))*(-m + x)**3/(s**5*theta**2*(1 + (-m + x)**2/s**2)**(3/2))"
      ]
     },
     "execution_count": 10,
     "metadata": {},
     "output_type": "execute_result"
    }
   ],
   "source": [
    "from sympy import symbols, diff, log, sqrt, pi, exp, sinh, asinh, erf\n",
    "\n",
    "# 심볼 정의\n",
    "m, s, lambda_, theta, x = symbols('m s lambda_ theta x')\n",
    "\n",
    "J = (theta * sqrt((x - m)**2 + s**2 ))**(-1)\n",
    "z = theta**(-1) * (asinh((x-m)/s) - lambda_)\n",
    "phi_z = 1 / sqrt(2 * pi) * exp(-z**2 / 2)\n",
    "\n",
    "ll_s = diff(log(J) + log(phi_z), s)\n",
    "ll_ss = diff(ll_s, s)\n",
    "\n",
    "print(ll_ss)\n",
    "ll_ss"
   ]
  },
  {
   "cell_type": "markdown",
   "metadata": {},
   "source": [
    "### * $\\frac{∂^2logL}{∂𝜆∂s}$"
   ]
  },
  {
   "cell_type": "code",
   "execution_count": 11,
   "metadata": {},
   "outputs": [
    {
     "name": "stdout",
     "output_type": "stream",
     "text": [
      "-(-m + x)/(s**2*theta**2*sqrt(1 + (-m + x)**2/s**2))\n"
     ]
    },
    {
     "data": {
      "text/latex": [
       "$\\displaystyle - \\frac{- m + x}{s^{2} \\theta^{2} \\sqrt{1 + \\frac{\\left(- m + x\\right)^{2}}{s^{2}}}}$"
      ],
      "text/plain": [
       "-(-m + x)/(s**2*theta**2*sqrt(1 + (-m + x)**2/s**2))"
      ]
     },
     "execution_count": 11,
     "metadata": {},
     "output_type": "execute_result"
    }
   ],
   "source": [
    "from sympy import symbols, diff, log, sqrt, pi, exp, sinh, asinh, erf\n",
    "\n",
    "# 심볼 정의\n",
    "m, s, lambda_, theta, x = symbols('m s lambda_ theta x')\n",
    "\n",
    "J = (theta * sqrt((x - m)**2 + s**2 ))**(-1)\n",
    "z = theta**(-1) * (asinh((x-m)/s) - lambda_)\n",
    "phi_z = 1 / sqrt(2 * pi) * exp(-z**2 / 2)\n",
    "\n",
    "ll_s = diff(log(J) + log(phi_z), s)\n",
    "ll_ls = diff(ll_s, lambda_)\n",
    "\n",
    "print(ll_ls)\n",
    "ll_ls"
   ]
  },
  {
   "cell_type": "markdown",
   "metadata": {},
   "source": [
    "### * $\\frac{∂^2logL}{∂𝜃∂s}$"
   ]
  },
  {
   "cell_type": "code",
   "execution_count": 12,
   "metadata": {},
   "outputs": [
    {
     "name": "stdout",
     "output_type": "stream",
     "text": [
      "-2*(-lambda_ + asinh((-m + x)/s))*(-m + x)/(s**2*theta**3*sqrt(1 + (-m + x)**2/s**2))\n"
     ]
    },
    {
     "data": {
      "text/latex": [
       "$\\displaystyle - \\frac{2 \\left(- \\lambda_{} + \\operatorname{asinh}{\\left(\\frac{- m + x}{s} \\right)}\\right) \\left(- m + x\\right)}{s^{2} \\theta^{3} \\sqrt{1 + \\frac{\\left(- m + x\\right)^{2}}{s^{2}}}}$"
      ],
      "text/plain": [
       "-2*(-lambda_ + asinh((-m + x)/s))*(-m + x)/(s**2*theta**3*sqrt(1 + (-m + x)**2/s**2))"
      ]
     },
     "execution_count": 12,
     "metadata": {},
     "output_type": "execute_result"
    }
   ],
   "source": [
    "from sympy import symbols, diff, log, sqrt, pi, exp, sinh, asinh, erf\n",
    "\n",
    "# 심볼 정의\n",
    "m, s, lambda_, theta, x = symbols('m s lambda_ theta x')\n",
    "\n",
    "J = (theta * sqrt((x - m)**2 + s**2 ))**(-1)\n",
    "z = theta**(-1) * (asinh((x-m)/s) - lambda_)\n",
    "phi_z = 1 / sqrt(2 * pi) * exp(-z**2 / 2)\n",
    "\n",
    "ll_s = diff(log(J) + log(phi_z), s)\n",
    "ll_ts = diff(ll_s, theta)\n",
    "\n",
    "print(ll_ts)\n",
    "ll_ts"
   ]
  },
  {
   "cell_type": "markdown",
   "metadata": {},
   "source": [
    "### * $\\frac{∂^2logL}{∂m∂𝜆}$"
   ]
  },
  {
   "cell_type": "code",
   "execution_count": 13,
   "metadata": {},
   "outputs": [
    {
     "name": "stdout",
     "output_type": "stream",
     "text": [
      "-1/(s*theta**2*sqrt(1 + (-m + x)**2/s**2))\n"
     ]
    },
    {
     "data": {
      "text/latex": [
       "$\\displaystyle - \\frac{1}{s \\theta^{2} \\sqrt{1 + \\frac{\\left(- m + x\\right)^{2}}{s^{2}}}}$"
      ],
      "text/plain": [
       "-1/(s*theta**2*sqrt(1 + (-m + x)**2/s**2))"
      ]
     },
     "execution_count": 13,
     "metadata": {},
     "output_type": "execute_result"
    }
   ],
   "source": [
    "from sympy import symbols, diff, log, sqrt, pi, exp, sinh, asinh, erf\n",
    "\n",
    "# 심볼 정의\n",
    "m, s, lambda_, theta, x = symbols('m s lambda_ theta x')\n",
    "\n",
    "J = (theta * sqrt((x - m)**2 + s**2 ))**(-1)\n",
    "z = theta**(-1) * (asinh((x-m)/s) - lambda_)\n",
    "phi_z = 1 / sqrt(2 * pi) * exp(-z**2 / 2)\n",
    "\n",
    "ll_l = diff(log(J) + log(phi_z), lambda_)\n",
    "ll_ml = diff(ll_l, m)\n",
    "\n",
    "print(ll_ml)\n",
    "ll_ml"
   ]
  },
  {
   "cell_type": "markdown",
   "metadata": {},
   "source": [
    "### * $\\frac{∂^2logL}{∂s∂𝜆}$"
   ]
  },
  {
   "cell_type": "code",
   "execution_count": 14,
   "metadata": {},
   "outputs": [
    {
     "name": "stdout",
     "output_type": "stream",
     "text": [
      "-(-m + x)/(s**2*theta**2*sqrt(1 + (-m + x)**2/s**2))\n"
     ]
    },
    {
     "data": {
      "text/latex": [
       "$\\displaystyle - \\frac{- m + x}{s^{2} \\theta^{2} \\sqrt{1 + \\frac{\\left(- m + x\\right)^{2}}{s^{2}}}}$"
      ],
      "text/plain": [
       "-(-m + x)/(s**2*theta**2*sqrt(1 + (-m + x)**2/s**2))"
      ]
     },
     "execution_count": 14,
     "metadata": {},
     "output_type": "execute_result"
    }
   ],
   "source": [
    "from sympy import symbols, diff, log, sqrt, pi, exp, sinh, asinh, erf\n",
    "\n",
    "# 심볼 정의\n",
    "m, s, lambda_, theta, x = symbols('m s lambda_ theta x')\n",
    "\n",
    "J = (theta * sqrt((x - m)**2 + s**2 ))**(-1)\n",
    "z = theta**(-1) * (asinh((x-m)/s) - lambda_)\n",
    "phi_z = 1 / sqrt(2 * pi) * exp(-z**2 / 2)\n",
    "\n",
    "ll_l = diff(log(J) + log(phi_z), lambda_)\n",
    "ll_sl = diff(ll_l, s)\n",
    "\n",
    "print(ll_sl)\n",
    "ll_sl"
   ]
  },
  {
   "cell_type": "markdown",
   "metadata": {},
   "source": [
    "### * $\\frac{∂^2logL}{∂𝜆^2}$"
   ]
  },
  {
   "cell_type": "code",
   "execution_count": 15,
   "metadata": {},
   "outputs": [
    {
     "name": "stdout",
     "output_type": "stream",
     "text": [
      "-1/theta**2\n"
     ]
    },
    {
     "data": {
      "text/latex": [
       "$\\displaystyle - \\frac{1}{\\theta^{2}}$"
      ],
      "text/plain": [
       "-1/theta**2"
      ]
     },
     "execution_count": 15,
     "metadata": {},
     "output_type": "execute_result"
    }
   ],
   "source": [
    "from sympy import symbols, diff, log, sqrt, pi, exp, sinh, asinh, erf\n",
    "\n",
    "# 심볼 정의\n",
    "m, s, lambda_, theta, x = symbols('m s lambda_ theta x')\n",
    "\n",
    "J = (theta * sqrt((x - m)**2 + s**2 ))**(-1)\n",
    "z = theta**(-1) * (asinh((x-m)/s) - lambda_)\n",
    "phi_z = 1 / sqrt(2 * pi) * exp(-z**2 / 2)\n",
    "\n",
    "ll_l = diff(log(J) + log(phi_z), lambda_)\n",
    "ll_ll = diff(ll_l, lambda_)\n",
    "\n",
    "print(ll_ll)\n",
    "ll_ll"
   ]
  },
  {
   "cell_type": "markdown",
   "metadata": {},
   "source": [
    "### * $\\frac{∂^2logL}{∂𝜃∂𝜆}$"
   ]
  },
  {
   "cell_type": "code",
   "execution_count": 16,
   "metadata": {},
   "outputs": [
    {
     "name": "stdout",
     "output_type": "stream",
     "text": [
      "(2*lambda_ - 2*asinh((-m + x)/s))/theta**3\n"
     ]
    },
    {
     "data": {
      "text/latex": [
       "$\\displaystyle \\frac{2 \\lambda_{} - 2 \\operatorname{asinh}{\\left(\\frac{- m + x}{s} \\right)}}{\\theta^{3}}$"
      ],
      "text/plain": [
       "(2*lambda_ - 2*asinh((-m + x)/s))/theta**3"
      ]
     },
     "execution_count": 16,
     "metadata": {},
     "output_type": "execute_result"
    }
   ],
   "source": [
    "from sympy import symbols, diff, log, sqrt, pi, exp, sinh, asinh, erf\n",
    "\n",
    "# 심볼 정의\n",
    "m, s, lambda_, theta, x = symbols('m s lambda_ theta x')\n",
    "\n",
    "J = (theta * sqrt((x - m)**2 + s**2 ))**(-1)\n",
    "z = theta**(-1) * (asinh((x-m)/s) - lambda_)\n",
    "phi_z = 1 / sqrt(2 * pi) * exp(-z**2 / 2)\n",
    "\n",
    "ll_l = diff(log(J) + log(phi_z), lambda_)\n",
    "ll_tl = diff(ll_l, theta)\n",
    "\n",
    "print(ll_tl)\n",
    "ll_tl"
   ]
  },
  {
   "cell_type": "markdown",
   "metadata": {},
   "source": [
    "### * $\\frac{∂^2logL}{∂m∂𝜃}$"
   ]
  },
  {
   "cell_type": "code",
   "execution_count": 17,
   "metadata": {},
   "outputs": [
    {
     "name": "stdout",
     "output_type": "stream",
     "text": [
      "-2*(-lambda_ + asinh((-m + x)/s))/(s*theta**3*sqrt(1 + (-m + x)**2/s**2))\n"
     ]
    },
    {
     "data": {
      "text/latex": [
       "$\\displaystyle - \\frac{2 \\left(- \\lambda_{} + \\operatorname{asinh}{\\left(\\frac{- m + x}{s} \\right)}\\right)}{s \\theta^{3} \\sqrt{1 + \\frac{\\left(- m + x\\right)^{2}}{s^{2}}}}$"
      ],
      "text/plain": [
       "-2*(-lambda_ + asinh((-m + x)/s))/(s*theta**3*sqrt(1 + (-m + x)**2/s**2))"
      ]
     },
     "execution_count": 17,
     "metadata": {},
     "output_type": "execute_result"
    }
   ],
   "source": [
    "from sympy import symbols, diff, log, sqrt, pi, exp, sinh, asinh, erf\n",
    "\n",
    "# 심볼 정의\n",
    "m, s, lambda_, theta, x = symbols('m s lambda_ theta x')\n",
    "\n",
    "J = (theta * sqrt((x - m)**2 + s**2 ))**(-1)\n",
    "z = theta**(-1) * (asinh((x-m)/s) - lambda_)\n",
    "phi_z = 1 / sqrt(2 * pi) * exp(-z**2 / 2)\n",
    "\n",
    "ll_t = diff(log(J) + log(phi_z), theta)\n",
    "ll_mt = diff(ll_t, m)\n",
    "\n",
    "print(ll_mt)\n",
    "ll_mt"
   ]
  },
  {
   "cell_type": "markdown",
   "metadata": {},
   "source": [
    "### * $\\frac{∂^2logL}{∂s∂𝜃}$"
   ]
  },
  {
   "cell_type": "code",
   "execution_count": 18,
   "metadata": {},
   "outputs": [
    {
     "name": "stdout",
     "output_type": "stream",
     "text": [
      "-2*(-lambda_ + asinh((-m + x)/s))*(-m + x)/(s**2*theta**3*sqrt(1 + (-m + x)**2/s**2))\n"
     ]
    },
    {
     "data": {
      "text/latex": [
       "$\\displaystyle - \\frac{2 \\left(- \\lambda_{} + \\operatorname{asinh}{\\left(\\frac{- m + x}{s} \\right)}\\right) \\left(- m + x\\right)}{s^{2} \\theta^{3} \\sqrt{1 + \\frac{\\left(- m + x\\right)^{2}}{s^{2}}}}$"
      ],
      "text/plain": [
       "-2*(-lambda_ + asinh((-m + x)/s))*(-m + x)/(s**2*theta**3*sqrt(1 + (-m + x)**2/s**2))"
      ]
     },
     "execution_count": 18,
     "metadata": {},
     "output_type": "execute_result"
    }
   ],
   "source": [
    "from sympy import symbols, diff, log, sqrt, pi, exp, sinh, asinh, erf\n",
    "\n",
    "# 심볼 정의\n",
    "m, s, lambda_, theta, x = symbols('m s lambda_ theta x')\n",
    "\n",
    "J = (theta * sqrt((x - m)**2 + s**2 ))**(-1)\n",
    "z = theta**(-1) * (asinh((x-m)/s) - lambda_)\n",
    "phi_z = 1 / sqrt(2 * pi) * exp(-z**2 / 2)\n",
    "\n",
    "ll_t = diff(log(J) + log(phi_z), theta)\n",
    "ll_st = diff(ll_t, s)\n",
    "\n",
    "print(ll_st)\n",
    "ll_st"
   ]
  },
  {
   "cell_type": "markdown",
   "metadata": {},
   "source": [
    "### * $\\frac{∂^2logL}{∂𝜆∂𝜃}$"
   ]
  },
  {
   "cell_type": "code",
   "execution_count": 19,
   "metadata": {},
   "outputs": [
    {
     "name": "stdout",
     "output_type": "stream",
     "text": [
      "(2*lambda_ - 2*asinh((-m + x)/s))/theta**3\n"
     ]
    },
    {
     "data": {
      "text/latex": [
       "$\\displaystyle \\frac{2 \\lambda_{} - 2 \\operatorname{asinh}{\\left(\\frac{- m + x}{s} \\right)}}{\\theta^{3}}$"
      ],
      "text/plain": [
       "(2*lambda_ - 2*asinh((-m + x)/s))/theta**3"
      ]
     },
     "execution_count": 19,
     "metadata": {},
     "output_type": "execute_result"
    }
   ],
   "source": [
    "from sympy import symbols, diff, log, sqrt, pi, exp, sinh, asinh, erf\n",
    "\n",
    "# 심볼 정의\n",
    "m, s, lambda_, theta, x = symbols('m s lambda_ theta x')\n",
    "\n",
    "J = (theta * sqrt((x - m)**2 + s**2 ))**(-1)\n",
    "z = theta**(-1) * (asinh((x-m)/s) - lambda_)\n",
    "phi_z = 1 / sqrt(2 * pi) * exp(-z**2 / 2)\n",
    "\n",
    "ll_t = diff(log(J) + log(phi_z), theta)\n",
    "ll_lt = diff(ll_t, lambda_)\n",
    "\n",
    "print(ll_lt)\n",
    "ll_lt"
   ]
  },
  {
   "cell_type": "markdown",
   "metadata": {},
   "source": [
    "### * $\\frac{∂^2logL}{∂𝜃^2}$"
   ]
  },
  {
   "cell_type": "code",
   "execution_count": 20,
   "metadata": {},
   "outputs": [
    {
     "name": "stdout",
     "output_type": "stream",
     "text": [
      "theta**(-2) - 3*(-lambda_ + asinh((-m + x)/s))**2/theta**4\n"
     ]
    },
    {
     "data": {
      "text/latex": [
       "$\\displaystyle \\frac{1}{\\theta^{2}} - \\frac{3 \\left(- \\lambda_{} + \\operatorname{asinh}{\\left(\\frac{- m + x}{s} \\right)}\\right)^{2}}{\\theta^{4}}$"
      ],
      "text/plain": [
       "theta**(-2) - 3*(-lambda_ + asinh((-m + x)/s))**2/theta**4"
      ]
     },
     "execution_count": 20,
     "metadata": {},
     "output_type": "execute_result"
    }
   ],
   "source": [
    "from sympy import symbols, diff, log, sqrt, pi, exp, sinh, asinh, erf\n",
    "\n",
    "# 심볼 정의\n",
    "m, s, lambda_, theta, x = symbols('m s lambda_ theta x')\n",
    "\n",
    "J = (theta * sqrt((x - m)**2 + s**2 ))**(-1)\n",
    "z = theta**(-1) * (asinh((x-m)/s) - lambda_)\n",
    "phi_z = 1 / sqrt(2 * pi) * exp(-z**2 / 2)\n",
    "\n",
    "ll_t = diff(log(J) + log(phi_z), theta)\n",
    "ll_tt = diff(ll_t, theta)\n",
    "\n",
    "print(ll_tt)\n",
    "ll_tt"
   ]
  },
  {
   "cell_type": "markdown",
   "metadata": {},
   "source": [
    "## 4 Functions"
   ]
  },
  {
   "cell_type": "code",
   "execution_count": 21,
   "metadata": {},
   "outputs": [],
   "source": [
    "%matplotlib inline\n",
    "import numpy as np\n",
    "import pandas as pd\n",
    "import scipy.optimize as opt\n",
    "import scipy.stats as st\n",
    "import matplotlib.pyplot as plt\n",
    "import seaborn as sns"
   ]
  },
  {
   "cell_type": "markdown",
   "metadata": {},
   "source": [
    "**Log Likelihood Function**\n",
    "\n",
    "`s`($s$)와 `theta`($\\theta$)가 항상 양수이기 때문에 최적화 과정에서 이 조건을 부과하기 위해 이들 파라미터에 지수(natural exponential)를 취해서 로그가능도 함수를 만드는 방법을 사용한다. 이렇게 하면 입력 파라미터는 제약(bounding) 조건이 사라지고 모든 실수값을 취할 수 있게 된다."
   ]
  },
  {
   "cell_type": "code",
   "execution_count": 22,
   "metadata": {},
   "outputs": [],
   "source": [
    "def weight_ll_SU_e(x, weight, m, s, lambda_, theta):\n",
    "\n",
    "    s = np.exp(s)\n",
    "    theta = np.exp(theta)\n",
    "    \n",
    "    J = 1/(theta*np.sqrt((x-m)**2+s**2))\n",
    "    z = (np.arcsinh((x - m)/s) - lambda_)/theta\n",
    "\n",
    "    ln_pdf_vals = weight*(np.log(J) - 0.5*np.log(2*np.pi) - 0.5*(z)**2)\n",
    "    log_lik_val = ln_pdf_vals.sum()\n",
    "    \n",
    "    return log_lik_val"
   ]
  },
  {
   "cell_type": "markdown",
   "metadata": {},
   "source": [
    "**MLE Objective Function**"
   ]
  },
  {
   "cell_type": "code",
   "execution_count": 23,
   "metadata": {},
   "outputs": [],
   "source": [
    "def weight_obj_SU_e(params, *args):\n",
    "\n",
    "    m, s, lambda_, theta = params\n",
    "    (x, weight) = args\n",
    "    \n",
    "    log_lik_val = weight_ll_SU_e(x, weight, m, s, lambda_, theta)\n",
    "    neg_log_lik_val = -log_lik_val\n",
    "    \n",
    "    return neg_log_lik_val"
   ]
  },
  {
   "cell_type": "markdown",
   "metadata": {},
   "source": [
    "## 5 데이터\n",
    "\n",
    "- [Survey of Consumer Finances (SCF)](https://www.federalreserve.gov/econres/scfindex.htm)\n",
    "- [Code Book](https://sda.berkeley.edu/sdaweb/analysis/?dataset=scfcomb2022)\n",
    "\n",
    "**압축파일 다운로드 및 압축풀기**"
   ]
  },
  {
   "cell_type": "code",
   "execution_count": 24,
   "metadata": {},
   "outputs": [],
   "source": [
    "import pandas as pd\n",
    "import requests\n",
    "import io\n",
    "import zipfile     #Three packages we'll need to unzip the data\n",
    "\n",
    "def unzip_survey_file(year):\n",
    "    import requests, io, zipfile\n",
    "    import pandas as pd\n",
    "    \n",
    "    if int(year) <1989:\n",
    "        url = 'http://www.federalreserve.gov/econresdata/scf/files/'\\\n",
    "        +year+'_scf'+year[2:]+'bs.zip'\n",
    "    else: \n",
    "        url = 'http://www.federalreserve.gov/econres/files/scfp'+year+'s.zip'    \n",
    "\n",
    "    url = requests.get(url)\n",
    "    url_unzipped = zipfile.ZipFile(io.BytesIO(url.content))\n",
    "    \n",
    "    return url_unzipped.extract(url_unzipped.namelist()[0])"
   ]
  },
  {
   "cell_type": "markdown",
   "metadata": {},
   "source": [
    "**2022년 데이터 로딩**"
   ]
  },
  {
   "cell_type": "code",
   "execution_count": 25,
   "metadata": {},
   "outputs": [
    {
     "data": {
      "text/html": [
       "<div>\n",
       "<style scoped>\n",
       "    .dataframe tbody tr th:only-of-type {\n",
       "        vertical-align: middle;\n",
       "    }\n",
       "\n",
       "    .dataframe tbody tr th {\n",
       "        vertical-align: top;\n",
       "    }\n",
       "\n",
       "    .dataframe thead th {\n",
       "        text-align: right;\n",
       "    }\n",
       "</style>\n",
       "<table border=\"1\" class=\"dataframe\">\n",
       "  <thead>\n",
       "    <tr style=\"text-align: right;\">\n",
       "      <th></th>\n",
       "      <th>yy1</th>\n",
       "      <th>y1</th>\n",
       "      <th>wgt</th>\n",
       "      <th>hhsex</th>\n",
       "      <th>age</th>\n",
       "      <th>agecl</th>\n",
       "      <th>educ</th>\n",
       "      <th>edcl</th>\n",
       "      <th>married</th>\n",
       "      <th>kids</th>\n",
       "      <th>...</th>\n",
       "      <th>nwcat</th>\n",
       "      <th>inccat</th>\n",
       "      <th>assetcat</th>\n",
       "      <th>ninccat</th>\n",
       "      <th>ninc2cat</th>\n",
       "      <th>nwpctlecat</th>\n",
       "      <th>incpctlecat</th>\n",
       "      <th>nincpctlecat</th>\n",
       "      <th>incqrtcat</th>\n",
       "      <th>nincqrtcat</th>\n",
       "    </tr>\n",
       "  </thead>\n",
       "  <tbody>\n",
       "    <tr>\n",
       "      <th>0</th>\n",
       "      <td>1</td>\n",
       "      <td>11</td>\n",
       "      <td>3027.956120</td>\n",
       "      <td>2</td>\n",
       "      <td>70</td>\n",
       "      <td>5</td>\n",
       "      <td>9</td>\n",
       "      <td>3</td>\n",
       "      <td>2</td>\n",
       "      <td>2</td>\n",
       "      <td>...</td>\n",
       "      <td>4</td>\n",
       "      <td>2</td>\n",
       "      <td>4</td>\n",
       "      <td>2</td>\n",
       "      <td>1</td>\n",
       "      <td>8</td>\n",
       "      <td>3</td>\n",
       "      <td>3</td>\n",
       "      <td>2</td>\n",
       "      <td>1</td>\n",
       "    </tr>\n",
       "    <tr>\n",
       "      <th>1</th>\n",
       "      <td>1</td>\n",
       "      <td>12</td>\n",
       "      <td>3054.900065</td>\n",
       "      <td>2</td>\n",
       "      <td>70</td>\n",
       "      <td>5</td>\n",
       "      <td>9</td>\n",
       "      <td>3</td>\n",
       "      <td>2</td>\n",
       "      <td>2</td>\n",
       "      <td>...</td>\n",
       "      <td>4</td>\n",
       "      <td>2</td>\n",
       "      <td>5</td>\n",
       "      <td>2</td>\n",
       "      <td>1</td>\n",
       "      <td>8</td>\n",
       "      <td>3</td>\n",
       "      <td>3</td>\n",
       "      <td>2</td>\n",
       "      <td>1</td>\n",
       "    </tr>\n",
       "    <tr>\n",
       "      <th>2</th>\n",
       "      <td>1</td>\n",
       "      <td>13</td>\n",
       "      <td>3163.637766</td>\n",
       "      <td>2</td>\n",
       "      <td>70</td>\n",
       "      <td>5</td>\n",
       "      <td>9</td>\n",
       "      <td>3</td>\n",
       "      <td>2</td>\n",
       "      <td>2</td>\n",
       "      <td>...</td>\n",
       "      <td>4</td>\n",
       "      <td>2</td>\n",
       "      <td>4</td>\n",
       "      <td>2</td>\n",
       "      <td>1</td>\n",
       "      <td>8</td>\n",
       "      <td>3</td>\n",
       "      <td>3</td>\n",
       "      <td>1</td>\n",
       "      <td>1</td>\n",
       "    </tr>\n",
       "    <tr>\n",
       "      <th>3</th>\n",
       "      <td>1</td>\n",
       "      <td>14</td>\n",
       "      <td>3166.228463</td>\n",
       "      <td>2</td>\n",
       "      <td>70</td>\n",
       "      <td>5</td>\n",
       "      <td>9</td>\n",
       "      <td>3</td>\n",
       "      <td>2</td>\n",
       "      <td>2</td>\n",
       "      <td>...</td>\n",
       "      <td>3</td>\n",
       "      <td>2</td>\n",
       "      <td>4</td>\n",
       "      <td>1</td>\n",
       "      <td>1</td>\n",
       "      <td>6</td>\n",
       "      <td>3</td>\n",
       "      <td>2</td>\n",
       "      <td>1</td>\n",
       "      <td>1</td>\n",
       "    </tr>\n",
       "    <tr>\n",
       "      <th>4</th>\n",
       "      <td>1</td>\n",
       "      <td>15</td>\n",
       "      <td>3235.624715</td>\n",
       "      <td>2</td>\n",
       "      <td>70</td>\n",
       "      <td>5</td>\n",
       "      <td>9</td>\n",
       "      <td>3</td>\n",
       "      <td>2</td>\n",
       "      <td>2</td>\n",
       "      <td>...</td>\n",
       "      <td>3</td>\n",
       "      <td>2</td>\n",
       "      <td>4</td>\n",
       "      <td>2</td>\n",
       "      <td>1</td>\n",
       "      <td>8</td>\n",
       "      <td>3</td>\n",
       "      <td>3</td>\n",
       "      <td>1</td>\n",
       "      <td>1</td>\n",
       "    </tr>\n",
       "  </tbody>\n",
       "</table>\n",
       "<p>5 rows × 357 columns</p>\n",
       "</div>"
      ],
      "text/plain": [
       "   yy1  y1          wgt  hhsex  age  agecl  educ  edcl  married  kids  ...  \\\n",
       "0    1  11  3027.956120      2   70      5     9     3        2     2  ...   \n",
       "1    1  12  3054.900065      2   70      5     9     3        2     2  ...   \n",
       "2    1  13  3163.637766      2   70      5     9     3        2     2  ...   \n",
       "3    1  14  3166.228463      2   70      5     9     3        2     2  ...   \n",
       "4    1  15  3235.624715      2   70      5     9     3        2     2  ...   \n",
       "\n",
       "   nwcat  inccat  assetcat  ninccat  ninc2cat  nwpctlecat  incpctlecat  \\\n",
       "0      4       2         4        2         1           8            3   \n",
       "1      4       2         5        2         1           8            3   \n",
       "2      4       2         4        2         1           8            3   \n",
       "3      3       2         4        1         1           6            3   \n",
       "4      3       2         4        2         1           8            3   \n",
       "\n",
       "   nincpctlecat  incqrtcat  nincqrtcat  \n",
       "0             3          2           1  \n",
       "1             3          2           1  \n",
       "2             3          1           1  \n",
       "3             2          1           1  \n",
       "4             3          1           1  \n",
       "\n",
       "[5 rows x 357 columns]"
      ]
     },
     "execution_count": 25,
     "metadata": {},
     "output_type": "execute_result"
    }
   ],
   "source": [
    "scf_2022 = pd.read_stata(unzip_survey_file(year = '2022'))\n",
    "scf_2022.head()"
   ]
  },
  {
   "cell_type": "markdown",
   "metadata": {},
   "source": [
    "## 6 순자산 분포 추정\n",
    "\n",
    "- 각 가구별로 5개의 관측을 **모두** 사용함\n",
    "- 단위를 천달러로 변경"
   ]
  },
  {
   "cell_type": "code",
   "execution_count": 26,
   "metadata": {},
   "outputs": [],
   "source": [
    "networth_2022 = scf_2022['networth']/1000\n",
    "weight_2022 = scf_2022['wgt']"
   ]
  },
  {
   "cell_type": "code",
   "execution_count": 27,
   "metadata": {
    "scrolled": true
   },
   "outputs": [
    {
     "data": {
      "text/plain": [
       "count      22975.00\n",
       "mean       19956.40\n",
       "std       110170.72\n",
       "min         -555.50\n",
       "25%           35.91\n",
       "50%          384.50\n",
       "75%         2476.11\n",
       "max      2387780.90\n",
       "Name: networth, dtype: object"
      ]
     },
     "execution_count": 27,
     "metadata": {},
     "output_type": "execute_result"
    }
   ],
   "source": [
    "X = networth_2022\n",
    "w = weight_2022/(weight_2022.sum())\n",
    "X.describe().apply(lambda x: '%.2f' % x)"
   ]
  },
  {
   "cell_type": "markdown",
   "metadata": {},
   "source": [
    "###  단순 최적화\n",
    "\n",
    "**SU 분포 Weighted MLE**"
   ]
  },
  {
   "cell_type": "code",
   "execution_count": 28,
   "metadata": {},
   "outputs": [
    {
     "name": "stdout",
     "output_type": "stream",
     "text": [
      "m_MLE = -4.353749207460307 s_MLE = 14.875830115629578 lambda_MLE = 3.045945510181015 theta_MLE = 2.089705981181354\n",
      "Objective function value at solution: 7.430483707764102\n"
     ]
    }
   ],
   "source": [
    "m_init = 0\n",
    "s_init = 0\n",
    "lambda_init = 0\n",
    "theta_init = 0\n",
    "\n",
    "params_init = np.array([m_init, s_init, lambda_init, theta_init])\n",
    "res_SU = opt.minimize(weight_obj_SU_e, params_init, args=(X, w),\n",
    "                      method='L-BFGS-B')\n",
    "m_MLE, s_MLE, lambda_MLE, theta_MLE = res_SU.x\n",
    "\n",
    "s_MLE = np.exp(s_MLE)\n",
    "theta_MLE = np.exp(theta_MLE)\n",
    "\n",
    "print('m_MLE =',m_MLE, 's_MLE =',s_MLE, 'lambda_MLE =',lambda_MLE, 'theta_MLE =',theta_MLE)\n",
    "print(\"Objective function value at solution:\", res_SU.fun)"
   ]
  },
  {
   "cell_type": "code",
   "execution_count": 29,
   "metadata": {},
   "outputs": [
    {
     "data": {
      "text/plain": [
       "  message: CONVERGENCE: NORM_OF_PROJECTED_GRADIENT_<=_PGTOL\n",
       "  success: True\n",
       "   status: 0\n",
       "      fun: 7.430483707764102\n",
       "        x: [-4.354e+00  2.700e+00  3.046e+00  7.370e-01]\n",
       "      nit: 31\n",
       "      jac: [-8.882e-08 -3.553e-07 -1.066e-06  1.243e-06]\n",
       "     nfev: 170\n",
       "     njev: 34\n",
       " hess_inv: <4x4 LbfgsInvHessProduct with dtype=float64>"
      ]
     },
     "execution_count": 29,
     "metadata": {},
     "output_type": "execute_result"
    }
   ],
   "source": [
    "res_SU"
   ]
  },
  {
   "cell_type": "markdown",
   "metadata": {},
   "source": [
    "**표준오차 계산**"
   ]
  },
  {
   "cell_type": "code",
   "execution_count": 30,
   "metadata": {},
   "outputs": [
    {
     "name": "stdout",
     "output_type": "stream",
     "text": [
      "Standard error of m_MLE: 53.42594092790609\n",
      "Standard error of s_MLE: 3.771980991219527\n",
      "Standard error of lambda_MLE: 3.503760787707601\n",
      "Standard error of theta_MLE: 1.0292904207566889\n"
     ]
    }
   ],
   "source": [
    "import numpy as np\n",
    "\n",
    "# 최적화 결과에서 헤시안의 역행렬 가져오기\n",
    "hessian_inv = res_SU.hess_inv.todense()  # L-BFGS-B는 scipy.sparse.linalg.LinearOperator를 반환\n",
    "hessian_inv = np.array(hessian_inv)  # numpy 배열로 변환\n",
    "\n",
    "# 분산-공분산 행렬\n",
    "cov_matrix = hessian_inv\n",
    "\n",
    "# 표준오차 계산 (분산-공분산 행렬의 대각선의 제곱근)\n",
    "standard_errors = np.sqrt(np.diag(cov_matrix))\n",
    "\n",
    "# 결과 출력\n",
    "param_names = ['m_MLE', 's_MLE', 'lambda_MLE', 'theta_MLE']\n",
    "for param, se in zip(param_names, standard_errors):\n",
    "    print(f'Standard error of {param}: {se}')\n"
   ]
  },
  {
   "cell_type": "markdown",
   "metadata": {},
   "source": [
    "### 자코비안 최적화\n",
    "\n",
    "**NOTE:** 자코비안 함수를 제공하는 경우 오히려 초기값의 영향을 더 많이 받는듯 함. 가령 모든 초기값을 0으로 할 경우 최적화가 되지 않음."
   ]
  },
  {
   "cell_type": "code",
   "execution_count": 31,
   "metadata": {},
   "outputs": [
    {
     "name": "stdout",
     "output_type": "stream",
     "text": [
      "m_MLE = -4.3536157843328755 s_MLE = 14.87572000958285 lambda_MLE = 3.0459539578728156 theta_MLE = 2.0897091848733407\n",
      "Objective function value at solution: 7.430483707761836\n"
     ]
    }
   ],
   "source": [
    "from numpy import arcsinh as asinh\n",
    "from numpy import sqrt as sqrt\n",
    "\n",
    "m_init = 0\n",
    "s_init = 0\n",
    "lambda_init = 0\n",
    "theta_init = 0\n",
    "\n",
    "# 그래디언트 함수\n",
    "def grad_logL(params, *args):\n",
    "    m, s, lambda_, theta = params\n",
    "    (x, w) = args\n",
    "    \n",
    "    s = np.exp(s)\n",
    "    theta = np.exp(theta)\n",
    "    \n",
    "    ll_m = np.sum(w*(\n",
    "        (-m + x)/(s**2 + (-m + x)**2) + (-lambda_ + asinh((-m + x)/s))/(s*theta**2*sqrt(1 + (-m + x)**2/s**2))\n",
    "    ))\n",
    "    ll_s = np.sum(w*(s*(\n",
    "        -s/(s**2 + (-m + x)**2) + (-lambda_ + asinh((-m + x)/s))*(-m + x)/(s**2*theta**2*sqrt(1 + (-m + x)**2/s**2))\n",
    "    )))\n",
    "    ll_l = np.sum(w*(\n",
    "        -(2*lambda_ - 2*asinh((-m + x)/s))/(2*theta**2)\n",
    "    ))\n",
    "    ll_t = np.sum(w*(theta*(\n",
    "        -1/theta + (-lambda_ + asinh((-m + x)/s))**2/theta**3\n",
    "    )))\n",
    "    \n",
    "    return -np.array([ll_m, ll_s, ll_l, ll_t])\n",
    "\n",
    "params_init = np.array([m_init, s_init, lambda_init, theta_init])\n",
    "res_SU = opt.minimize(weight_obj_SU_e, params_init, args=(X, w), tol=1e-100,\n",
    "                      method='Newton-CG', options={'maxiter': 100000},\n",
    "                      jac=grad_logL)\n",
    "m_MLE, s_MLE, lambda_MLE, theta_MLE = res_SU.x\n",
    "\n",
    "s_MLE = np.exp(s_MLE)\n",
    "theta_MLE = np.exp(theta_MLE)\n",
    "\n",
    "print('m_MLE =',m_MLE, 's_MLE =',s_MLE, 'lambda_MLE =',lambda_MLE,\n",
    "      'theta_MLE =',theta_MLE)\n",
    "print(\"Objective function value at solution:\", res_SU.fun)"
   ]
  },
  {
   "cell_type": "markdown",
   "metadata": {},
   "source": [
    "### 자코비안 & 헤시안 최적화\n",
    "\n",
    "- **NOTE:** 아래에서 보듯이 `opt.minimize`에 `tol=1e-100` or/and `options={'maxiter': 100000}` 옵션을 부과해야 비슷한 로그가능도 값에 도달함. 그렇지 않으면 (마이너스) 로그가능도 값이 더 높음."
   ]
  },
  {
   "cell_type": "code",
   "execution_count": 32,
   "metadata": {},
   "outputs": [
    {
     "name": "stdout",
     "output_type": "stream",
     "text": [
      "m_MLE = -4.353539383723713 s_MLE = 14.875701443658972 lambda_MLE = 3.045953772849681 theta_MLE = 2.08971082926006\n",
      "Objective function value at solution: 7.4304837077651165\n",
      "\n",
      "Execution time: 55.03203630447388 seconds\n"
     ]
    }
   ],
   "source": [
    "import time\n",
    "start_time = time.time()\n",
    "\n",
    "from numpy import arcsinh as asinh\n",
    "from numpy import sqrt as sqrt\n",
    "\n",
    "m_init = 0\n",
    "s_init = 0\n",
    "lambda_init = 0\n",
    "theta_init = 0\n",
    "\n",
    "# 그래디언트 함수\n",
    "def grad_logL(params, *args):\n",
    "    m, s, lambda_, theta = params\n",
    "    (x, w) = args\n",
    "    \n",
    "    s = np.exp(s)\n",
    "    theta = np.exp(theta)\n",
    "    \n",
    "    ll_m = np.sum(w*(\n",
    "        (-m + x)/(s**2 + (-m + x)**2) + (-lambda_ + asinh((-m + x)/s))/(s*theta**2*sqrt(1 + (-m + x)**2/s**2))\n",
    "    ))\n",
    "    ll_s = np.sum(w*(s*(\n",
    "        -s/(s**2 + (-m + x)**2) + (-lambda_ + asinh((-m + x)/s))*(-m + x)/(s**2*theta**2*sqrt(1 + (-m + x)**2/s**2))\n",
    "    )))\n",
    "    ll_l = np.sum(w*(\n",
    "        -(2*lambda_ - 2*asinh((-m + x)/s))/(2*theta**2)\n",
    "    ))\n",
    "    ll_t = np.sum(w*(theta*(\n",
    "        -1/theta + (-lambda_ + asinh((-m + x)/s))**2/theta**3\n",
    "    )))\n",
    "    \n",
    "    return -np.array([ll_m, ll_s, ll_l, ll_t])\n",
    "\n",
    "# 헤시안 계산 함수\n",
    "def hess_logL(params, *args):\n",
    "    m, s, lambda_, theta = params    \n",
    "    (x, w) = args\n",
    "    \n",
    "    s = np.exp(s)\n",
    "    theta = np.exp(theta)\n",
    "\n",
    "    ll_s = np.sum(w*(s*(\n",
    "        -s/(s**2 + (-m + x)**2) + (-lambda_ + asinh((-m + x)/s))*(-m + x)/(s**2*theta**2*sqrt(1 + (-m + x)**2/s**2))\n",
    "    )))\n",
    "    ll_t = np.sum(w*(theta*(\n",
    "        -1/theta + (-lambda_ + asinh((-m + x)/s))**2/theta**3\n",
    "    )))\n",
    "\n",
    "    ll_mm = np.sum(w*(\n",
    "        (-2*m + 2*x)*(-m + x)/(s**2 + (-m + x)**2)**2 - 1/(s**2 + (-m + x)**2) - 1/(s**2*theta**2*(1 + (-m + x)**2/s**2)) - (-lambda_ + asinh((-m + x)/s))*(2*m - 2*x)/(2*s**3*theta**2*(1 + (-m + x)**2/s**2)**(3/2))\n",
    "    ))\n",
    "    ll_sm = np.sum(w*(s*(\n",
    "        -2*s*(-m + x)/(s**2 + (-m + x)**2)**2 - (-lambda_ + asinh((-m + x)/s))/(s**2*theta**2*sqrt(1 + (-m + x)**2/s**2)) - (-m + x)/(s**3*theta**2*(1 + (-m + x)**2/s**2)) + (-lambda_ + asinh((-m + x)/s))*(-m + x)**2/(s**4*theta**2*(1 + (-m + x)**2/s**2)**(3/2))\n",
    "    )))\n",
    "    ll_lm = np.sum(w*(\n",
    "        -1/(s*theta**2*sqrt(1 + (-m + x)**2/s**2))\n",
    "    ))\n",
    "    ll_tm = np.sum(w*(theta*(\n",
    "        -2*(-lambda_ + asinh((-m + x)/s))/(s*theta**3*sqrt(1 + (-m + x)**2/s**2))\n",
    "    )))\n",
    "    ll_ms = ll_sm\n",
    "    ll_ss = np.sum(w*(s**2*(\n",
    "        2*s**2/(s**2 + (-m + x)**2)**2 - 1/(s**2 + (-m + x)**2) - 2*(-lambda_ + asinh((-m + x)/s))*(-m + x)/(s**3*theta**2*sqrt(1 + (-m + x)**2/s**2)) - (-m + x)**2/(s**4*theta**2*(1 + (-m + x)**2/s**2)) + (-lambda_ + asinh((-m + x)/s))*(-m + x)**3/(s**5*theta**2*(1 + (-m + x)**2/s**2)**(3/2))\n",
    "    ))) + ll_s\n",
    "    ll_ls = np.sum(w*(\n",
    "        -(-m + x)/(s**2*theta**2*sqrt(1 + (-m + x)**2/s**2))\n",
    "    ))\n",
    "    ll_ts = np.sum(w*(theta*(\n",
    "        -2*(-lambda_ + asinh((-m + x)/s))*(-m + x)/(s**2*theta**3*sqrt(1 + (-m + x)**2/s**2))\n",
    "    )))\n",
    "    ll_ml = ll_lm\n",
    "    ll_sl = ll_ls\n",
    "    ll_ll = np.sum(w*(\n",
    "        -1/theta**2\n",
    "    ))\n",
    "    ll_tl = np.sum(w*(theta*(\n",
    "        (2*lambda_ - 2*asinh((-m + x)/s))/theta**3\n",
    "    )))\n",
    "    ll_mt = ll_tm\n",
    "    ll_st = ll_ts\n",
    "    ll_lt = ll_tl\n",
    "    ll_tt = np.sum(w*(theta**2*(\n",
    "        theta**(-2) - 3*(-lambda_ + asinh((-m + x)/s))**2/theta**4\n",
    "    ))) \n",
    "\n",
    "    hess_matrix = np.array([\n",
    "        [ll_mm, ll_ms, ll_ml, ll_mt],\n",
    "        [ll_sm, ll_ss, ll_sl, ll_st],\n",
    "        [ll_lm, ll_ls, ll_ll, ll_lt],\n",
    "        [ll_tm, ll_ts, ll_tl, ll_tt]\n",
    "    ]) + ll_t\n",
    "    return -hess_matrix\n",
    "\n",
    "params_init = np.array([m_init, s_init, lambda_init, theta_init])\n",
    "res_SU = opt.minimize(weight_obj_SU_e, params_init, args=(X, w), tol=1e-100,\n",
    "                      method='Newton-CG', options={'maxiter': 100000},\n",
    "                      jac=grad_logL,  # 그래디언트 함수 지정\n",
    "                      hess=hess_logL)  # 헤시안 함수 지정\n",
    "m_MLE, s_MLE, lambda_MLE, theta_MLE = res_SU.x\n",
    "\n",
    "s_MLE = np.exp(s_MLE)\n",
    "theta_MLE = np.exp(theta_MLE)\n",
    "\n",
    "print('m_MLE =',m_MLE, 's_MLE =',s_MLE, 'lambda_MLE =',lambda_MLE,\n",
    "      'theta_MLE =',theta_MLE)\n",
    "print(\"Objective function value at solution:\", res_SU.fun)\n",
    "\n",
    "end_time = time.time()\n",
    "execution_time = end_time - start_time\n",
    "print(\"\\nExecution time:\", execution_time, \"seconds\")"
   ]
  },
  {
   "cell_type": "code",
   "execution_count": 33,
   "metadata": {},
   "outputs": [
    {
     "data": {
      "text/plain": [
       " message: Optimization terminated successfully.\n",
       " success: True\n",
       "  status: 0\n",
       "     fun: 7.4304837077651165\n",
       "       x: [-4.354e+00  2.700e+00  3.046e+00  7.370e-01]\n",
       "     nit: 510\n",
       "     jac: [ 5.451e-08 -1.423e-09 -3.278e-10  5.741e-09]\n",
       "    nfev: 513\n",
       "    njev: 513\n",
       "    nhev: 510"
      ]
     },
     "execution_count": 33,
     "metadata": {},
     "output_type": "execute_result"
    }
   ],
   "source": [
    "res_SU"
   ]
  },
  {
   "cell_type": "markdown",
   "metadata": {},
   "source": [
    "**헤시안 행렬을 통해 분산-공분산 행렬을 계산하는 방법**\n",
    "\n",
    "- 최적화 과정에서 얻은 헤시안 행렬의 역행렬을 구한다. 이 역행렬은 파라미터의 분산-공분산 행렬 추정치다.\n",
    "- 이 행렬의 대각원소를 추출하여 각각의 제곱근을 구한다. 이 값들이 각 파라미터의 표준오차다."
   ]
  },
  {
   "cell_type": "code",
   "execution_count": 34,
   "metadata": {},
   "outputs": [
    {
     "name": "stdout",
     "output_type": "stream",
     "text": [
      "\n",
      "Standard errors: [56.30499013  1.96294348  2.27053862  0.83289377]\n",
      "\n",
      "t-Statistics: [-0.07732067  1.37534735  1.34151154  0.8848976 ]\n",
      "\n",
      "p-values: [0.93836845 0.16902378 0.17975442 0.37621186]\n",
      "\n",
      "Statistically significant at 5% level:\n",
      "[False False False False]\n"
     ]
    }
   ],
   "source": [
    "from scipy.stats import norm\n",
    "\n",
    "# 최적화 결과에서 헤시안 행렬을 사용하여 분산-공분산 행렬 계산\n",
    "cov_matrix = np.linalg.inv(hess_logL(res_SU.x, X, w))\n",
    "\n",
    "# 각 파라미터의 표준오차 계산\n",
    "std_errors = np.sqrt(np.diag(cov_matrix))\n",
    "print(\"\\nStandard errors:\", std_errors)\n",
    "\n",
    "# 각 파라미터의 추정치 (최적화 결과)\n",
    "params_estimated = np.array([m_MLE, np.log(s_MLE), lambda_MLE, np.log(theta_MLE)])\n",
    "\n",
    "# t-통계량 계산: 파라미터 추정치 / 파라미터의 표준오차\n",
    "t_stats = params_estimated / std_errors\n",
    "\n",
    "# t-통계량 출력\n",
    "print(\"\\nt-Statistics:\", t_stats)\n",
    "\n",
    "# t-통계량에 대한 p값 계산\n",
    "p_values = 2 * (1 - norm.cdf(np.abs(t_stats)))\n",
    "\n",
    "# p값 출력\n",
    "print(\"\\np-values:\", p_values)\n",
    "\n",
    "# 유의수준\n",
    "alpha = 0.05\n",
    "\n",
    "# 자유도를 고려한 t 분포의 임계값 (예: 무한대로 가정할 경우 z-점수 사용)\n",
    "critical_value = 1.96  # 정규분포를 사용한 근사치\n",
    "\n",
    "# 통계적 유의성 테스트 결과 출력\n",
    "print(\"\\nStatistically significant at 5% level:\")\n",
    "print(np.abs(t_stats) > critical_value)"
   ]
  }
 ],
 "metadata": {
  "anaconda-cloud": {},
  "kernelspec": {
   "display_name": "Python 3 (ipykernel)",
   "language": "python",
   "name": "python3"
  },
  "language_info": {
   "codemirror_mode": {
    "name": "ipython",
    "version": 3
   },
   "file_extension": ".py",
   "mimetype": "text/x-python",
   "name": "python",
   "nbconvert_exporter": "python",
   "pygments_lexer": "ipython3",
   "version": "3.11.4"
  }
 },
 "nbformat": 4,
 "nbformat_minor": 1
}