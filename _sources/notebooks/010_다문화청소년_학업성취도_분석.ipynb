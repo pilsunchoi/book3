{
 "cells": [
  {
   "cell_type": "markdown",
   "id": "84604b30",
   "metadata": {},
   "source": [
    "# 1 다문화청소년 학업성취도 분석\n",
    "\n",
    "**관련문헌**: 김원경・최필선(2023), \n",
    "<a href=\"https://scholar.kyobobook.co.kr/file/view?downOrView=pdf&schlrCmdtcode=4050068174900&artlNum=16266516&artlName=%EC%9A%B0%EB%A6%AC%EB%82%98%EB%9D%BC%20%EB%8B%A4%EB%AC%B8%ED%99%94%EC%B2%AD%EC%86%8C%EB%85%84%EC%9D%98%20%ED%95%99%EC%97%85%EC%84%B1%EC%B7%A8%EB%8F%84%EC%97%90%20%EC%98%81%ED%96%A5%EC%9D%84%20%EB%AF%B8%EC%B9%98%EB%8A%94%20%EC%9A%94%EC%9D%B8%20%ED%83%90%EC%83%89\">우리나라 다문화청소년의 학업성취도에 영향을 미치는 요인 탐색</a>\n",
    ", 다문화교육연구."
   ]
  },
  {
   "cell_type": "markdown",
   "id": "3ce56adc",
   "metadata": {},
   "source": [
    "우리 사회에 다문화가정이 안정적으로 정착하는 것은 사회의 다양성과 포용성을 증대시키고 사회적 통합을 강화하는 데 중요한 의미를 지닌다. 다문화가정이 겪는 어려움 중 자녀교육이 가장 큰 부분을 차지하고 있고, 정부 역시 그동안 이주 초기 적응지원에 집중하던 것에서 이제는 그 자녀들의 학업적, 사회적 성취를 돕는 데 중점을 두는 방식으로 정책변화를 꾀하고 있다. \n",
    "\n",
    "본 연구는 다문화청소년패널조사 1차년도에서 9차년도까지의 데이터를 활용하여 패널 회귀분석 모형을 통해 어떤 요인들이 다문화청소년들의 학업성취도에 영향을 미치는지 분석한다. 학령기 다문화자녀가 계속 늘어나고 이들의 교육문제가 다문화가정 지원정책의 핵심으로 대두되고 있는 상황에서 다문화청소년들의 학업성취도에 어떤 요인들이 중요한 의미를 갖는지를 살펴보는 것은 다문화가정과 청소년들의 현 상황을 이해하고, 그들에게 필요한 올바른 지원 대책을 도출하는 데 중요한 의미를 지닐 것이다. \n",
    "\n",
    "추정 결과, 성취동기, 삶의 만족도, 부모 학력, 가족의 지지, 부모의 관리감독, 학교 밖 도움을 주는 어른의 존재 등이 학업성적을 높이는 요인으로 작용하는 반면, 예상과 달리 경제적 요인이나 집단괴롭힘 경험 등은 유의한 영향을 미치지 않는 것으로 나타났다. "
   ]
  }
 ],
 "metadata": {
  "kernelspec": {
   "display_name": "Python 3 (ipykernel)",
   "language": "python",
   "name": "python3"
  },
  "language_info": {
   "codemirror_mode": {
    "name": "ipython",
    "version": 3
   },
   "file_extension": ".py",
   "mimetype": "text/x-python",
   "name": "python",
   "nbconvert_exporter": "python",
   "pygments_lexer": "ipython3",
   "version": "3.11.4"
  }
 },
 "nbformat": 4,
 "nbformat_minor": 5
}
