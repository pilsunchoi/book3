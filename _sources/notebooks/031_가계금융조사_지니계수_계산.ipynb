{
 "cells": [
  {
   "cell_type": "markdown",
   "metadata": {},
   "source": [
    "# 3.1 가계금융조사 지니계수 계산"
   ]
  },
  {
   "cell_type": "markdown",
   "metadata": {},
   "source": [
    "- [1 데이터](#1-데이터)\n",
    "- [2 주요 통계 검토](#2-주요-통계-검토)\n",
    "- [3 지니계수 검토](#3-지니계수-검토)\n",
    "- [4 지니계수 추이](#3-지니계수-추이)"
   ]
  },
  {
   "cell_type": "markdown",
   "metadata": {},
   "source": [
    "## 1 데이터"
   ]
  },
  {
   "cell_type": "markdown",
   "metadata": {},
   "source": [
    "**가계금융복지조사**(Survey of Household Finances and Living Conditions) \n",
    "   - <a href=\"https://kostat.go.kr/board.es?mid=a10301040300&bid=215&act=view&list_no=422053\">2022년 조사결과</a>, <a href=\"https://www.narastat.kr/metasvc/svc/SvcMetaDcDtaPopup.do?confmNo=930001\">통계설명자료</a>, <a href=\"https://mdis.kostat.go.kr/dwnlSvc/ofrSurvSearch.do?curMenuNo=UI_POR_P9240\">마이크로데이터</a>"
   ]
  },
  {
   "cell_type": "markdown",
   "metadata": {},
   "source": [
    "미국은 SCF가 3년 주기로 행해지는데, 2022년 SCF의 경우, <a href=\"https://www.aeaweb.org/forum/1850/survey-consumer-finances-invites-comments-proposed-approach\">2022년 4월부터 2023년 3월까지 본 조사(main survey)가 행해졌고</a>, 연간 소득 등의 변수는 2021년을 기준으로 조사됐고, 자산이나 부채 등은 조사 시점을 기준으로 조사됐다. SCF 보고서는 모든 금액에 대해 CPI를 사용해 인플레이션 효과를 제거한 숫자를 사용해 분석하는 반면, (관측별 가중치를 제공하지만) 가중 평균 등은 사용하지 않는다.\n",
    "\n",
    "한국은 가계금융복지조사가 매년 행해지는데, 2022년 조사의 경우, 2022년 4월에 본 조사가 행해졌고, 연간 소득 등의 변수는 2021년을 기준으로 조사됐고, 자산이나 부채 등은 2022년 3월말 시점을 기준으로 조사됐다. 가계금융복지조사 보고서는 CPI 등을 사용해 인플레이션 효과를 제거하지 않는 반면, 관측별 가중치를 사용해 가중 평균, 가중 중위값, 가중 지니계수 등을 산출하고 있다. \n",
    "\n",
    "본 분석에서는 모든 금액에 대해 관측별 가중치를 사용해 가중 평균, 가중 중위값, 가중 지니계수 등을 산출하기로 한다. 그리고 한국 통계당국은 소득 관련 분석의 경우, 가령 2022년 가계금융복지조사를 이용한 결과에 대해서는 (해당 소득 통계가 2021년을 기준으로 조사됐기 때문에) 2021년에 해당하는 결과로 보고하는데, 여기에서는 소득이나 자산 및 부채 구분하지 않고 이 경우 모두 2022년 결과로 표기하기로 한다."
   ]
  },
  {
   "cell_type": "code",
   "execution_count": 1,
   "metadata": {},
   "outputs": [],
   "source": [
    "%matplotlib inline\n",
    "import numpy as np\n",
    "import pandas as pd\n",
    "import scipy.optimize as opt\n",
    "import scipy.stats as st\n",
    "import matplotlib.pyplot as plt"
   ]
  },
  {
   "cell_type": "markdown",
   "metadata": {},
   "source": [
    "#### 데이터 다운로딩\n",
    "\n",
    ">원시(raw) 데이터는 <a href=\"https://mdis.kostat.go.kr/dwnlSvc/ofrSurvSearch.do?curMenuNo=UI_POR_P9240\">MDIS</a>(MicroData Integrated Service)에서 \"소득·소비·자산 > 가계금융조사\"를 선택해 필요한 연도의 조사 자료를 다운로드 받는다. \n",
    ">\n",
    ">다음 명령문은 다운로드 받은 2010년부터 2023년까지의 원시 CSV 파일을 불러들이는 작업이다. "
   ]
  },
  {
   "cell_type": "code",
   "execution_count": 2,
   "metadata": {},
   "outputs": [],
   "source": [
    "# 파일 경로와 이름의 패턴 설정\n",
    "file_pattern = \"../Data/SHF/{year}.csv\"\n",
    "\n",
    "# 데이터를 저장할 변수 초기화\n",
    "dfs = []\n",
    "\n",
    "# 2010부터 2023까지의 파일 로드\n",
    "for year in range(2010, 2024):\n",
    "    file_name = file_pattern.format(year=year)\n",
    "    df_name = \"df_{year}\".format(year=year)\n",
    "    df = pd.read_csv(file_name, encoding='EUC-KR')\n",
    "    dfs.append((df_name, df))\n",
    "\n",
    "# 결과를 변수에 저장\n",
    "for df_name, df in dfs:\n",
    "    globals()[df_name] = df"
   ]
  },
  {
   "cell_type": "markdown",
   "metadata": {},
   "source": [
    "## 2 주요 통계 검토\n",
    "\n",
    "- <a href=\"https://kostat.go.kr/boardDownload.es?bid=215&list_no=422053&seq=1\">2022년 가계금융복지조사 결과</a>"
   ]
  },
  {
   "cell_type": "markdown",
   "metadata": {},
   "source": [
    "### 평균값"
   ]
  },
  {
   "cell_type": "markdown",
   "metadata": {},
   "source": [
    "![평균값](https://raw.githubusercontent.com/pilsunchoi/images3/main/3-1.png)\n",
    "\n",
    "- 위 표의 각주를 통해 데이터세트의 연도가 조사실시 연도이며, 자산‧부채‧순자산은 조사연도 3월말 기준, 소득‧지출은 전년 기준 자료라는 것을 알 수 있다."
   ]
  },
  {
   "cell_type": "code",
   "execution_count": 3,
   "metadata": {},
   "outputs": [],
   "source": [
    "x = df_2022['순자산']\n",
    "weight = df_2022['가중값']\n",
    "weight_sum = df_2022['가중값'].sum()\n",
    "w = weight/weight_sum"
   ]
  },
  {
   "cell_type": "code",
   "execution_count": 4,
   "metadata": {},
   "outputs": [
    {
     "data": {
      "text/plain": [
       "43034.836415283506"
      ]
     },
     "execution_count": 4,
     "metadata": {},
     "output_type": "execute_result"
    }
   ],
   "source": [
    "# 2022년 순자산 단순평균 구하기\n",
    "x.mean()"
   ]
  },
  {
   "cell_type": "markdown",
   "metadata": {},
   "source": [
    "**weighted mean 함수**"
   ]
  },
  {
   "cell_type": "code",
   "execution_count": 5,
   "metadata": {},
   "outputs": [],
   "source": [
    "def weighted_mean(x, w):\n",
    "    # 가중 평균 계산\n",
    "    weighted_sum = np.sum(x * w)\n",
    "    total_weight = np.sum(w)\n",
    "    mean = weighted_sum / total_weight\n",
    "    return mean"
   ]
  },
  {
   "cell_type": "code",
   "execution_count": 6,
   "metadata": {},
   "outputs": [
    {
     "data": {
      "text/plain": [
       "(45602.32782013843, 45602.327820138424)"
      ]
     },
     "execution_count": 6,
     "metadata": {},
     "output_type": "execute_result"
    }
   ],
   "source": [
    "weighted_mean(x, w), weighted_mean(x, weight)"
   ]
  },
  {
   "cell_type": "markdown",
   "metadata": {},
   "source": [
    "- **이를 통해 위 보도자료의 평균 금액은 단순평균이 아니라 가중평균 값이라는 것을 알 수 있다.**"
   ]
  },
  {
   "cell_type": "markdown",
   "metadata": {},
   "source": [
    "### 중위값"
   ]
  },
  {
   "cell_type": "markdown",
   "metadata": {},
   "source": [
    "![중위값](https://raw.githubusercontent.com/pilsunchoi/images3/main/3-2.png)"
   ]
  },
  {
   "cell_type": "code",
   "execution_count": 7,
   "metadata": {},
   "outputs": [
    {
     "data": {
      "text/plain": [
       "21660.0"
      ]
     },
     "execution_count": 7,
     "metadata": {},
     "output_type": "execute_result"
    }
   ],
   "source": [
    "# 순자산 중위값 I\n",
    "x.median()"
   ]
  },
  {
   "cell_type": "markdown",
   "metadata": {},
   "source": [
    "**Weighted median**\n",
    "\n",
    "- 출처: Wikipedia ([Weighted median](https://en.wikipedia.org/wiki/Weighted_median))\n",
    "\n",
    "**가중 중위값**(weighted median)은 50% 가중 백분위수로, 1888년 F. Y. Edgeworth에 의해 처음 제안되었다.  \n",
    "  \n",
    "**정의 (일반적인 경우):**  $n$개의 서로 다른 정렬된 요소 $x_1, x_2, \\ldots, x_n$와 양의 가중치 $w_1, w_2, \\ldots, w_n$이 주어졌고, 이들이 $\\sum_{i=1}^n w_i = 1$을 만족한다고 할 때, 가중 중위값은 다음 조건을 만족하는 요소 $x_k$이다.  \n",
    "  \n",
    "$$\\sum_{i=1}^{k-1} w_i \\leq 1/2 \\ \\text{그리고} \\ \\sum_{i=k+1}^{n} w_i \\leq 1/2$$"
   ]
  },
  {
   "cell_type": "code",
   "execution_count": 8,
   "metadata": {},
   "outputs": [
    {
     "name": "stdout",
     "output_type": "stream",
     "text": [
      "가중 중위값: 24662\n"
     ]
    },
    {
     "data": {
      "text/plain": [
       "(24662, 24662)"
      ]
     },
     "execution_count": 8,
     "metadata": {},
     "output_type": "execute_result"
    }
   ],
   "source": [
    "def weighted_median(x, w):\n",
    "    \n",
    "    # 가중치 표준화\n",
    "    w = w/w.sum()\n",
    "    \n",
    "    # 값과 가중치를 함께 정렬\n",
    "    sorted_data = sorted(zip(x, w), key=lambda pair: pair[0])\n",
    "    cumulative_weight = 0\n",
    "\n",
    "    for value, weight in sorted_data:\n",
    "        cumulative_weight += weight\n",
    "        if cumulative_weight >= 0.5:\n",
    "            return value\n",
    "\n",
    "result = weighted_median(x, w)\n",
    "print(\"가중 중위값:\", result)\n",
    "weighted_median(x, w), weighted_median(x, weight)"
   ]
  },
  {
   "cell_type": "markdown",
   "metadata": {},
   "source": [
    "- **이를 통해 위 보도자료의 중위 금액은 단순 중위값이 아니라 가중 중위값이라는 것을 알 수 있다.**"
   ]
  },
  {
   "cell_type": "markdown",
   "metadata": {},
   "source": [
    "### 백분위수"
   ]
  },
  {
   "cell_type": "markdown",
   "metadata": {},
   "source": [
    "**The weighted percentile method**\n",
    "\n",
    "출처: Wikipedia ([Percentile](https://en.wikipedia.org/wiki/Percentile#Weighted_percentile))\n",
    "\n",
    "\n",
    "백분위수 함수 외에도, 총 개수 대신 총 가중치에서의 비율을 계산하는 가중 백분위수(weighted percentile)가 있다. 가중 백분위수에 대한 표준적인 함수는 없지만, 한 가지 방법은 백분위수 함수 접근법을 자연스럽게 확장하는 것이다.\n",
    "\n",
    "정렬된 $N$개의 관측값에 각각 양의 가중치 $w_1, w_2, w_3, \\dots, w_N$가 부여되어 있다고 하자. 가중치의 합은 다음과 같다.\n",
    "\n",
    "$$S_N = \\sum_{k=1}^N w_k.$$\n",
    "\n",
    "위 공식을 다음과 같이 일반화할 수 있다.\n",
    "\n",
    "$$ \n",
    "p_n = \\frac{1}{S_N}\\left(S_n - \\frac{w_n}{2}\\right)\\ \\text{($C=1/2$일 때)} \n",
    "$$\n",
    "\n",
    "또는  \n",
    "\n",
    "$$ \n",
    "p_n = \\frac{S_n - Cw_n}{S_N +(1-2C)w_n}\\ \\text{(일반적인}\\ C\\text{의 경우)} \n",
    "$$\n",
    "\n",
    "그리고  \n",
    "\n",
    "$$\n",
    "v = v_k + \\frac{P - p_k}{p_{k + 1} - p_k}(v_{k + 1} - v_k).\n",
    "$$\n",
    "\n",
    "50% 가중 백분위수가 가중 중위값(weighted median)이다."
   ]
  },
  {
   "cell_type": "markdown",
   "metadata": {},
   "source": [
    "**weighted_percentile 함수**"
   ]
  },
  {
   "cell_type": "code",
   "execution_count": 9,
   "metadata": {},
   "outputs": [
    {
     "data": {
      "text/plain": [
       "(24662, 24662)"
      ]
     },
     "execution_count": 9,
     "metadata": {},
     "output_type": "execute_result"
    }
   ],
   "source": [
    "def weighted_percentile(x, w, percentile):\n",
    "    # x: 데이터 값의 리스트 또는 배열\n",
    "    # w: 각 데이터 포인트의 가중치 리스트 또는 배열 (x와 크기가 같아야 함)\n",
    "    # percentile: 계산할 백분위수 (0부터 100까지의 값)\n",
    "\n",
    "    # 데이터와 가중치를 데이터와 가중치의 쌍으로 묶음\n",
    "    data_with_weights = list(zip(x, w))\n",
    "\n",
    "    # 데이터를 값에 따라 정렬\n",
    "    data_with_weights.sort(key=lambda pair: pair[0])\n",
    "\n",
    "    # 누적 가중치 초기화\n",
    "    cumulative_weight = 0\n",
    "\n",
    "    # 백분위수에 해당하는 가중치 임계값 계산\n",
    "    target_weight = (percentile / 100) * sum(w)\n",
    "\n",
    "    # 백분위수에 해당하는 데이터 값을 찾아 반환\n",
    "    for value, weight in data_with_weights:\n",
    "        cumulative_weight += weight\n",
    "        if cumulative_weight >= target_weight:\n",
    "            return value\n",
    "\n",
    "    # 백분위수가 100인 경우 가장 큰 값을 반환\n",
    "    return data_with_weights[-1][0]\n",
    "\n",
    "weighted_percentile(x, w, 50), weighted_percentile(x, weight, 50)"
   ]
  },
  {
   "cell_type": "code",
   "execution_count": 10,
   "metadata": {},
   "outputs": [
    {
     "name": "stdout",
     "output_type": "stream",
     "text": [
      "가중 0 백분위수: -77950\n",
      "가중 10 백분위수: 1170\n",
      "가중 20 백분위수: 5010\n",
      "가중 30 백분위수: 10267\n",
      "가중 40 백분위수: 16600\n",
      "가중 50 백분위수: 24662\n",
      "가중 60 백분위수: 34500\n",
      "가중 70 백분위수: 49022\n",
      "가중 80 백분위수: 70968\n",
      "가중 90 백분위수: 108100\n",
      "가중 100 백분위수: 1651550\n",
      "\n",
      "최소값: -77950\n",
      "최대값: 1651550\n"
     ]
    }
   ],
   "source": [
    "print(\"가중 0 백분위수:\", weighted_percentile(x, weight, 0))\n",
    "print(\"가중 10 백분위수:\", weighted_percentile(x, weight, 10))\n",
    "print(\"가중 20 백분위수:\", weighted_percentile(x, weight, 20))\n",
    "print(\"가중 30 백분위수:\", weighted_percentile(x, weight, 30))\n",
    "print(\"가중 40 백분위수:\", weighted_percentile(x, weight, 40))\n",
    "print(\"가중 50 백분위수:\", weighted_percentile(x, weight, 50))\n",
    "print(\"가중 60 백분위수:\", weighted_percentile(x, weight, 60))\n",
    "print(\"가중 70 백분위수:\", weighted_percentile(x, weight, 70))\n",
    "print(\"가중 80 백분위수:\", weighted_percentile(x, weight, 80))\n",
    "print(\"가중 90 백분위수:\", weighted_percentile(x, weight, 90))\n",
    "print(\"가중 100 백분위수:\", weighted_percentile(x, weight, 100))\n",
    "\n",
    "print(\"\\n최소값:\", min(x))\n",
    "print(\"최대값:\", max(x))"
   ]
  },
  {
   "cell_type": "markdown",
   "metadata": {},
   "source": [
    "### 점유율\n",
    "\n",
    "**weighted_sub_share 함수**\n",
    "\n",
    "- 가중치를 사용하여 하위 그룹의 점유율을 구하는 함수"
   ]
  },
  {
   "cell_type": "code",
   "execution_count": 11,
   "metadata": {},
   "outputs": [],
   "source": [
    "def weighted_sub_share(data, weight, lower, upper):\n",
    "    \n",
    "    # 전체 합계 계산\n",
    "    total_sum = (data*weight).sum()\n",
    "    \n",
    "    # lower 백분위수와 upper 백분위수 계산\n",
    "    p_lower = weighted_percentile(data, weight, lower)\n",
    "    p_upper = weighted_percentile(data, weight, upper)\n",
    "    \n",
    "    # sub-group 값의 합계 계산\n",
    "    sub_data = data[(data > p_lower) & (data <= p_upper)]\n",
    "    sub_sum = (sub_data*weight).sum()\n",
    "    \n",
    "    # sub-group 값의 합계를 전체 합계로 나누기\n",
    "    percentage = (sub_sum / total_sum) * 100\n",
    "    \n",
    "    return percentage"
   ]
  },
  {
   "cell_type": "markdown",
   "metadata": {},
   "source": [
    "![점유율](https://raw.githubusercontent.com/pilsunchoi/images3/main/3-3.png)"
   ]
  },
  {
   "cell_type": "code",
   "execution_count": 12,
   "metadata": {},
   "outputs": [
    {
     "name": "stdout",
     "output_type": "stream",
     "text": [
      "1분위 점유율: -0.19\n",
      "2분위 점유율: 0.64\n",
      "3분위 점유율: 1.65\n",
      "4분위 점유율: 2.93\n",
      "5분위 점유율: 4.51\n",
      "6분위 점유율: 6.44\n",
      "7분위 점유율: 9.07\n",
      "8분위 점유율: 12.91\n",
      "9분위 점유율: 19.0\n",
      "10분위 점유율: 43.03\n",
      "점유율 합계: 100.00463780932658\n"
     ]
    }
   ],
   "source": [
    "share_1 = weighted_sub_share(x, weight, 0, 10)\n",
    "share_2 = weighted_sub_share(x, weight, 10, 20)\n",
    "share_3 = weighted_sub_share(x, weight, 20, 30)\n",
    "share_4 = weighted_sub_share(x, weight, 30, 40)\n",
    "share_5 = weighted_sub_share(x, weight, 40, 50)\n",
    "share_6 = weighted_sub_share(x, weight, 50, 60)\n",
    "share_7 = weighted_sub_share(x, weight, 60, 70)\n",
    "share_8 = weighted_sub_share(x, weight, 70, 80)\n",
    "share_9 = weighted_sub_share(x, weight, 80, 90)\n",
    "share_10 = weighted_sub_share(x, weight, 90, 100)\n",
    "\n",
    "print(\"1분위 점유율:\", round(share_1, 2))\n",
    "print(\"2분위 점유율:\", round(share_2, 2))\n",
    "print(\"3분위 점유율:\", round(share_3, 2))\n",
    "print(\"4분위 점유율:\", round(share_4, 2))\n",
    "print(\"5분위 점유율:\", round(share_5, 2))\n",
    "print(\"6분위 점유율:\", round(share_6, 2))\n",
    "print(\"7분위 점유율:\", round(share_7, 2))\n",
    "print(\"8분위 점유율:\", round(share_8, 2))\n",
    "print(\"9분위 점유율:\", round(share_9, 2))\n",
    "print(\"10분위 점유율:\", round(share_10, 2))\n",
    "\n",
    "total = share_1+share_2+share_3+share_4+share_5+share_6+share_7+share_8+share_9+share_10\n",
    "print(\"점유율 합계:\", total)"
   ]
  },
  {
   "cell_type": "markdown",
   "metadata": {},
   "source": [
    "### 소득 정의"
   ]
  },
  {
   "cell_type": "markdown",
   "metadata": {},
   "source": [
    "![가구소득](https://raw.githubusercontent.com/pilsunchoi/images3/main/3-4.png)"
   ]
  },
  {
   "cell_type": "code",
   "execution_count": 13,
   "metadata": {},
   "outputs": [
    {
     "name": "stdout",
     "output_type": "stream",
     "text": [
      "가구소득(y1): 6414\n",
      "근로소득(y2): 4125\n",
      "사업소득(y3): 1160\n",
      "재산소득(y4): 426\n",
      "공적이전소득(y5): 600\n",
      "사적이전소득(y6): 103\n",
      "\n",
      "(경상소득-비소비지출)(y7): 5229\n",
      "\n",
      "중위 가구소득: 5022\n"
     ]
    }
   ],
   "source": [
    "y1 = df_2022['경상소득(보완)']\n",
    "y2 = df_2022['경상소득_근로소득(보완)']\n",
    "y3 = df_2022['경상소득_사업소득(보완)']\n",
    "y4 = df_2022['경상소득_재산소득(보완)']\n",
    "y5 = df_2022['경상소득_공적이전소득(보완)']\n",
    "y6 = df_2022['경상소득_사적이전소득(조사)']\n",
    "y7 = df_2022['처분가능소득(보완)[경상소득(보완)-비소비지출(보완)]']\n",
    "weight = df_2022['가중값']\n",
    "\n",
    "print('가구소득(y1):', round(weighted_mean(y1, weight)))\n",
    "print('근로소득(y2):', round(weighted_mean(y2, weight)))\n",
    "print('사업소득(y3):', round(weighted_mean(y3, weight)))\n",
    "print('재산소득(y4):', round(weighted_mean(y4, weight)))\n",
    "print('공적이전소득(y5):', round(weighted_mean(y5, weight)))\n",
    "print('사적이전소득(y6):', round(weighted_mean(y6, weight)))\n",
    "print('\\n(경상소득-비소비지출)(y7):', round(weighted_mean(y7, weight)))\n",
    "print('\\n중위 가구소득:', weighted_median(y1, weight))"
   ]
  },
  {
   "cell_type": "markdown",
   "metadata": {},
   "source": [
    "![가구 비소비지출](https://raw.githubusercontent.com/pilsunchoi/images3/main/3-5.png)"
   ]
  },
  {
   "cell_type": "code",
   "execution_count": 14,
   "metadata": {},
   "outputs": [
    {
     "name": "stdout",
     "output_type": "stream",
     "text": [
      "비소비지출(e1): 1185\n",
      "비소비지출_세금(e2): 400\n",
      "공적연금사회보험료(e3): 400\n",
      "가구간이전지출(e4): 137\n",
      "비영리단체이전지출(e5): 39\n",
      "연간지급이자(e6): 209\n"
     ]
    }
   ],
   "source": [
    "e1 = df_2022['지출_비소비지출(보완)']\n",
    "e2 = df_2022['지출_비소비지출_세금(보완)']\n",
    "e3 = df_2022['지출_비소비지출_공적연금사회보험료(보완)']\n",
    "e4 = df_2022['지출_비소비지출_가구간이전지출(조사)']\n",
    "e5 = df_2022['지출_비소비지출_비영리단체이전지출(조사)']\n",
    "e6 = df_2022['지출_비소비지출_연간지급이자(조사)']\n",
    "\n",
    "print('비소비지출(e1):', round(weighted_mean(e1, weight)))\n",
    "print('비소비지출_세금(e2):', round(weighted_mean(e2, weight)))\n",
    "print('공적연금사회보험료(e3):', round(weighted_mean(e3, weight)))\n",
    "print('가구간이전지출(e4):', round(weighted_mean(e4, weight)))\n",
    "print('비영리단체이전지출(e5):', round(weighted_mean(e5, weight)))\n",
    "print('연간지급이자(e6):', round(weighted_mean(e6, weight)))"
   ]
  },
  {
   "cell_type": "markdown",
   "metadata": {},
   "source": [
    "#### 시장소득 & 처분가능소득\n",
    "\n",
    "출처: <a href=\"https://www.narastat.kr/metasvc/svc/SvcMetaDcDtaPopup.do?confmNo=930001\">통계설명자료</a>\n",
    "\n",
    ">○ 시장소득 = 근로소득 $+$ 사업소득 $+$ 재산소득 $+$ (사적이전소득 $-$ 사적이전지출)  \n",
    ">○ 처분가능소득 = 시장소득 $+$ 공적이전소득 $-$ 공적이전지출\n",
    ">\n",
    ">- 사적이전소득: 가구 간 또는 비영리단체로부터 받은 이전소득\n",
    ">- 사적이전지출: 타 가구 또는 비영리단체에 지출하거나 기부한 금액\n",
    ">- 공적이전소득: 공적연금(국민연금, 공무원연금, 사학연금, 별정우체국연금 등), 기초연금, 장애수당 등 정부의 사회수혜금\n",
    ">- 공적이전지출: 소득세 등 직접세, 연금기여금 및 건강보험료 등 사회보험료 지출액"
   ]
  },
  {
   "cell_type": "code",
   "execution_count": 15,
   "metadata": {},
   "outputs": [
    {
     "name": "stdout",
     "output_type": "stream",
     "text": [
      "비소비지출(e1): 1185\n",
      "비소비지출_세금(e2): 400\n",
      "공적연금사회보험료(e3): 400\n",
      "사적이전지출(e4+e5): 176\n",
      "공적이전지출(e2+e3): 800\n"
     ]
    }
   ],
   "source": [
    "e1 = df_2022['지출_비소비지출(보완)']\n",
    "e2 = df_2022['지출_비소비지출_세금(보완)']\n",
    "e3 = df_2022['지출_비소비지출_공적연금사회보험료(보완)']\n",
    "e4 = df_2022['지출_비소비지출_가구간이전지출(조사)']\n",
    "e5 = df_2022['지출_비소비지출_비영리단체이전지출(조사)']\n",
    "e6 = df_2022['지출_비소비지출_연간지급이자(조사)']\n",
    "\n",
    "print('비소비지출(e1):', round(weighted_mean(e1, weight)))\n",
    "print('비소비지출_세금(e2):', round(weighted_mean(e2, weight)))\n",
    "print('공적연금사회보험료(e3):', round(weighted_mean(e3, weight)))\n",
    "print('사적이전지출(e4+e5):', round(weighted_mean(e4+e5, weight)))\n",
    "print('공적이전지출(e2+e3):', round(weighted_mean(e2+e3, weight)))"
   ]
  },
  {
   "cell_type": "markdown",
   "metadata": {},
   "source": [
    "- 통계당국(통계청, 금융감독원, 한국은행) 분석 자료에 따르면,\n",
    "- 가구소득(경상소득): y1 = y2 + y3 + y4 + y5 + y6\n",
    "- 시장소득 = 근로소득 + 사업소득 + 재산소득 + 사적이전소득 - 사적이전지출(가구간 및 비영리단체 이전지출)\n",
    "- 기호로 표시하면, x1 = y2 + y3 + y4 + y6 - (e4 + e5)\n",
    "- 처분가능소득 = 시장소득 + 공적이전소득 - 공적이전지출(세금, 공적연금 기여금, 사회보험료)\n",
    "- 기호로 표시하면, x2 = x1 + y5 - (e2 + e3)\n",
    "- 따라서 처분가능소득은 x2 = y2 + y3 + y4 + y5 + y6 - (e2 + e3 + e4 + e5)\n",
    "- 그런데 가구소득은 (y2 + y3 + y4 + y5 + y6)이고, 비소비지출은 (e2 + e3 + e4 + e5 + e6)이기 때문에  처분가능소득은 가구소득(또는 경상소득)에서 (비소비지출-연간지급이자)을 뺀 것이다. \n",
    "- 한편, 가계금융복지조사 데이터세트의 \"처분가능소득\" 항목은 경상소득에서 비소비지출을 뺀 것이기 때문에 통계당국 분석 자료에 나오는 처분가능소득은 가계금융복지조사 데이터세트의 \"처분가능소득\" 항목에 연간지급이자를 더한 것에 해당한다.  "
   ]
  },
  {
   "cell_type": "code",
   "execution_count": 16,
   "metadata": {},
   "outputs": [
    {
     "name": "stdout",
     "output_type": "stream",
     "text": [
      "시장소득: 5638\n",
      "처분가능소득(1): 5438\n",
      "처분가능소득(2): 5438\n"
     ]
    }
   ],
   "source": [
    "# 시장소득(근로소득 + 사업소득 + 재산소득 + 사적이전소득 - 사적이전지출(가구간 및 비영리단체 이전지출))\n",
    "x1 = y2+y3+y4+y6-(e4+e5)\n",
    "# 통계당국 처분가능소득(= 시장소득 + 공적이전소득 - 공적이전지출(세금, 공적연금 기여금, 사회보험료))\n",
    "x2 = x1+y5-(e2+e3)\n",
    "# 통계당국 처분가능소득(= 가계금융복지조사 \"처분가능소득\" 항목 + 연간지급이자)\n",
    "x2_1 = y7 + e6\n",
    "\n",
    "print('시장소득:', round(weighted_mean(x1, weight)))\n",
    "print('처분가능소득(1):', round(weighted_mean(x2, weight)))\n",
    "print('처분가능소득(2):', round(weighted_mean(x2_1, weight)))"
   ]
  },
  {
   "cell_type": "markdown",
   "metadata": {},
   "source": [
    "## 3 지니계수 검토"
   ]
  },
  {
   "cell_type": "markdown",
   "metadata": {},
   "source": [
    "경제학에서 **지니계수**(Gini coefficient)는 지니 지수(Gini index) 또는 지니 비율(Gini ratio)이라고도 불리며, 국가나 사회 집단 내에서 소득 불평등, 부의 불평등, 또는 소비 불평등을 나타내기 위해 사용하는 통계적 분산(dispersion) 측정값이다. 이 지표는 이탈리아의 통계학자이자 사회학자인 코라도 지니(Corrado Gini)에 의해 개발되었다. 소득이나 부의 분배에서 불평등 정도를 나타내는 지표로, 한 국가의 소득이나 부의 분배가 얼마나 균등한 분배에서 벗어나는지를 추정하는 데 사용된다.(출처: Wikipedia: [Gini coefficient](https://en.wikipedia.org/wiki/Gini_coefficient))\n",
    "\n",
    "지니계수는 보통 로렌츠 곡선을 기반으로 수학적으로 정의된다. 로렌츠 곡선은 인구의 전체 소득에서 하위 $x$ 비율이 차지하는 소득 비율(세로축)을 누적하여 나타낸 그래프이다(아래 다이어그램 참조). 45도 직선은 완전한 소득 평등을 나타낸다. 지니계수는 평등선과 로렌츠 곡선 사이의 영역(다이어그램에서 A로 표시된)을 평등선 아래의 전체 영역(다이어그램에서 A와 B로 표시된)으로 나눈 비율로 생각할 수 있다. 즉, $G = \\frac{A}{A + B}$이다. 음수 소득이 없다면, $A + B = 0.5$이므로 지니계수는 또한 $2A$ 또는 $1 - 2B$로 나타낼 수 있다.\n",
    "\n",
    "<div style=\"text-align: center;\">\n",
    "    <img src=\"https://upload.wikimedia.org/wikipedia/commons/thumb/5/59/Economics_Gini_coefficient2.svg/800px-Economics_Gini_coefficient2.svg.png\" width=\"400\"/>\n",
    "</div>\n",
    "<br></br>\n",
    "모든 소득이나 부가 음수가 아닌 경우를 가정하면, 지니계수의 이론적인 범위는 0(완전 평등)에서 1(절대 불평등)까지다. 이 지표는 종종 백분율로 표시되며, 0에서 100까지의 범위를 가진다. 그러나 부채와 같은 경우 음수 값이 포함되면 지니계수가 1을 초과할 수 있다. 일반적으로 우리는 지니계수가 0 이하가 될 수 없다고 가정한다.\n",
    "\n",
    "지니계수는 $A$로 표시된 영역을 $A$와 $B$의 총 면적으로 나눈 값과 같다. 즉, $\\text{Gini} = \\frac{A}{A+B}$이다. 그래프의 축은 0에서 1까지이며, $A$와 $B$는 각각 면적 $\\frac{1}{2}$인 삼각형을 형성한다. 따라서 $\\text{Gini} = 2A = 1-2B$로 나타낼 수 있다.\n",
    "\n",
    "$y$가 개인 또는 가구의 소득이나 부를 나타내는 경우, $n$명의 개인이 $y_1 \\leq y_2 \\leq \\cdots \\leq y_n$ 순으로 소득을 가질 때, 다음 식을 사용하여 로렌츠 곡선을 직접 참조하지 않고 지니계수를 계산할 수 있다.  \n",
    "\n",
    "$$\n",
    "G = \\frac{2 \\sum_{i=1}^n i y_i}{n \\sum_{i=1}^n y_i} - \\frac{n+1}{n}.\n",
    "$$\n",
    "\n",
    "또 다른 접근법은 지니계수를 상대적 평균절대차이(relative mean absolute difference)의 절반으로 정의하는 것이다. 이는 로렌츠 곡선을 기반으로 한 정의와 동일하다. 평균절대차이(mean absolute difference)는 모든 항목 쌍 간의 절대차이(absolute difference)의 평균이며, 상대적 평균절대차이는 평균절대차이를 평균값 ${\\bar{x}}$로 나누어 크기 차이를 정규화한 값이다. 만약 $x_i$가 개인 $i$의 부나 소득이고, 총 $n$명이 있다면 지니계수 $G$는 다음과 같이 정의된다:\n",
    "\n",
    "$$\n",
    "G = \\frac{\\sum_{i=1}^{n}\\sum_{j=1}^{n}|x_i - x_j|}{2n^2{\\bar{x}}} = \\frac{\\sum_{i=1}^{n}\\sum_{j=1}^{n}|x_i - x_j|}{2n \\sum_{i=1}^{n} x_i}\n",
    "$$"
   ]
  },
  {
   "cell_type": "markdown",
   "metadata": {},
   "source": [
    "### 두 가지 표현\n",
    "\n",
    ">**지니계수에 대해 다음 두가지 표현이 있다. 둘은 동일한가?**\n",
    ">\n",
    ">     I 𝐺=2∑𝑛𝑖=1𝑖𝑦𝑖𝑛∑𝑛𝑖=1𝑦𝑖−𝑛+1𝑛\n",
    ">     II 𝐺=∑𝑛𝑖=1∑𝑛𝑗=1|𝑦𝑖−𝑦𝑗|2𝑛2𝜇, 𝜇=∑𝑛𝑖=1𝑥𝑖𝑛\n",
    "\n",
    "---\n",
    "\n",
    "**< ChatGPT Answer >**\n",
    ">\n",
    "> 두 표현은 **수학적으로 동일한 지니계수를 나타내는 두 가지 정의**입니다. 하지만 계산 방식이 다릅니다. 이를 이해하기 위해 각각의 정의를 분석해 보겠습니다.\n",
    ">\n",
    ">**정의 I**\n",
    ">\n",
    ">$$\n",
    "G = 2 \\sum_{i=1}^n \\frac{i y_i}{n \\sum_{i=1}^n y_i} - \\frac{n + 1}{n}\n",
    "$$\n",
    ">\n",
    ">구성 요소:\n",
    ">- $y_i$: 소득 데이터를 오름차순으로 정렬한 값.\n",
    ">- $n$: 관측치(개인 또는 가구) 수.\n",
    ">- $\\sum_{i=1}^n y_i$: 전체 소득의 총합.\n",
    ">\n",
    ">설명:\n",
    ">- 이 식은 **로렌츠 곡선의 기울기를 이용하여 면적 비율로 계산**합니다.\n",
    ">- $\\frac{i}{n}$는 $i$번째 데이터의 상대적 위치(순위)입니다.\n",
    ">- $\\sum_{i=1}^n \\frac{i y_i}{\\sum_{i=1}^n y_i}$는 순위와 소득 간의 비율을 합산합니다.\n",
    ">\n",
    ">**정의 II**\n",
    ">\n",
    ">$$\n",
    "G = \\frac{\\sum_{i=1}^n \\sum_{j=1}^n |y_i - y_j|}{2n^2 \\mu}, \\quad \\mu = \\frac{\\sum_{i=1}^n y_i}{n}\n",
    "$$\n",
    ">\n",
    ">구성 요소:\n",
    ">- $|y_i - y_j|$: 두 관측치 간 소득의 절대차이.\n",
    ">- $n^2$: 전체 가능한 쌍의 조합 수.\n",
    ">- $\\mu$: 평균 소득.\n",
    ">\n",
    ">설명:\n",
    ">- 이 식은 **모든 소득 쌍 간의 절대차이의 총합을 평균 소득으로 정규화**하여 계산합니다.\n",
    ">- 지니계수는 전체 소득의 불평등을 절대적인 차이로 측정한 결과를 나타냅니다.\n",
    ">\n",
    ">\n",
    ">**동일성의 이유**\n",
    ">\n",
    ">이 두 표현은 지니계수의 동일한 개념에서 출발하며, 둘 다 로렌츠 곡선 아래 면적을 기반으로 불평등 정도를 측정합니다. \n",
    ">\n",
    ">주요 차이:\n",
    ">- 정의 I은 **소득의 순위와 로렌츠 곡선을 직접 활용**한 계산 방식입니다.\n",
    ">- 정의 II는 **소득 차이에 기반한 정의**로, 모든 관측치의 조합을 고려합니다.\n",
    ">\n",
    ">수학적 동일성:\n",
    ">- 정의 II의 절대차이 합 $\\sum_{i=1}^n \\sum_{j=1}^n |y_i - y_j|$는 소득의 순위와 관계가 있습니다.\n",
    ">- 정의 I의 순위 기반 식은 정의 II에서 절대차이를 순위로 변환하여 동일한 결과를 도출합니다.\n",
    ">\n",
    ">\n",
    ">**결론**\n",
    ">\n",
    ">두 표현은 계산 방식은 다르지만 결과적으로 **동일한 지니계수 값을 산출**합니다.  \n",
    ">- 정의 I은 계산이 효율적이고, 순위 정보를 활용합니다.\n",
    ">- 정의 II는 더 직관적이고, 소득 분포의 쌍별 차이를 명시적으로 보여줍니다."
   ]
  },
  {
   "cell_type": "markdown",
   "metadata": {},
   "source": [
    "### 단순 지니계수\n",
    "\n",
    ">**가중치를 사용하지 않는 단순 지니계수 함수 gini_coefficient(x)를 두 가지 방식으로 만들어줘.**\n",
    "\n",
    "---\n",
    "\n",
    "**< ChatGPT Answer >**\n",
    ">\n",
    ">아래는 **가중치를 사용하지 않는 단순 지니계수 함수**를 두 가지 방식으로 정의한 것입니다. 하나는 **순위 기반 계산 방식**이고, 다른 하나는 **절대 차이 기반 계산 방식**입니다.\n",
    ">\n",
    ">**1. 순위 기반 계산 방식**\n",
    ">     \n",
    ">     import numpy as np\n",
    ">     \n",
    ">     def gini_coefficient_rank_based(x):\n",
    ">         # 소득(x)을 오름차순으로 정렬\n",
    ">         x_sorted = np.sort(x)\n",
    ">         n = len(x_sorted)\n",
    ">         \n",
    ">         # 소득의 평균 계산\n",
    ">         mean_x = np.mean(x_sorted)\n",
    ">         \n",
    ">         # 순위 계산\n",
    ">         R = np.arange(1, n + 1)\n",
    ">         \n",
    ">         # 지니계수 계산\n",
    ">         gini = 2 * np.sum(R * x_sorted) / (n * np.sum(x_sorted)) - (n + 1)/n\n",
    ">         return gini\n",
    ">     \n",
    ">**2. 절대 차이 기반 계산 방식**\n",
    ">     \n",
    ">     def gini_coefficient_absolute_difference(x):\n",
    ">         # 소득의 평균 계산\n",
    ">         mean_x = np.mean(x)\n",
    ">         \n",
    ">         # 모든 소득 쌍의 절대 차이 계산\n",
    ">         absolute_differences = np.abs(x[:, None] - x[None, :])\n",
    ">         \n",
    ">         # 지니계수 계산\n",
    ">         gini = np.sum(absolute_differences) / (2 * len(x) ** 2 * mean_x)\n",
    ">         return gini\n",
    ">     \n",
    ">**사용 예제**\n",
    ">     \n",
    ">     # 소득 데이터\n",
    ">     x = np.array([10, 20, 30, 40, 50])\n",
    ">     \n",
    ">     # 순위 기반 지니계수 계산\n",
    ">     gini_rank_based = gini_coefficient_rank_based(x)\n",
    ">     print(\"순위 기반 Gini:\", gini_rank_based)\n",
    ">     \n",
    ">     # 절대 차이 기반 지니계수 계산\n",
    ">     gini_absolute_diff = gini_coefficient_absolute_difference(x)\n",
    ">     print(\"절대 차이 기반 Gini:\", gini_absolute_diff)\n",
    ">     \n",
    ">**결과 비교**\n",
    ">\n",
    ">두 함수는 동일한 값을 반환합니다.  \n",
    ">- **순위 기반 방식**: 계산이 더 효율적이고 대규모 데이터에 적합합니다.  \n",
    ">- **절대 차이 기반 방식**: 직관적이며 절대 소득 차이를 계산하는 데 중점을 둡니다.  \n",
    ">      \n",
    ">사용 상황에 따라 선택할 수 있습니다."
   ]
  },
  {
   "cell_type": "code",
   "execution_count": 17,
   "metadata": {},
   "outputs": [],
   "source": [
    "def gini_coefficient_rank_based(x):\n",
    "    # 소득(x)을 오름차순으로 정렬\n",
    "    x_sorted = np.sort(x)\n",
    "    n = len(x_sorted)\n",
    "    \n",
    "    # 소득의 평균 계산\n",
    "    mean_x = np.mean(x_sorted)\n",
    "    \n",
    "    # 순위 계산\n",
    "    R = np.arange(1, n + 1)\n",
    "    \n",
    "    # 지니계수 계산\n",
    "    gini = 2 * np.sum(R * x_sorted) / (n * np.sum(x_sorted)) - (n + 1) / n\n",
    "    return gini"
   ]
  },
  {
   "cell_type": "code",
   "execution_count": 18,
   "metadata": {},
   "outputs": [],
   "source": [
    "def gini_coefficient_absolute_difference(x):\n",
    "    # 소득의 평균 계산\n",
    "    mean_x = np.mean(x)\n",
    "    \n",
    "    # 모든 소득 쌍의 절대 차이 계산\n",
    "    absolute_differences = np.abs(x[:, None] - x[None, :])\n",
    "    \n",
    "    # 지니계수 계산\n",
    "    gini = np.sum(absolute_differences) / (2 * len(x) ** 2 * mean_x)\n",
    "    return gini"
   ]
  },
  {
   "cell_type": "markdown",
   "metadata": {},
   "source": [
    "#### 단순 지니계수 함수(추가)"
   ]
  },
  {
   "cell_type": "code",
   "execution_count": 19,
   "metadata": {},
   "outputs": [],
   "source": [
    "def gini_coefficient(x):\n",
    "    sorted_x = np.sort(x)\n",
    "    n = len(x)\n",
    "    coef = 0\n",
    "    for i in range(n):\n",
    "        coef += (i + 1) * sorted_x[i]\n",
    "    coef = (2 * coef) / (n * np.sum(sorted_x)) - (n + 1) / n\n",
    "    return coef"
   ]
  },
  {
   "cell_type": "markdown",
   "metadata": {},
   "source": [
    "#### 계산 예"
   ]
  },
  {
   "cell_type": "code",
   "execution_count": 20,
   "metadata": {},
   "outputs": [
    {
     "name": "stdout",
     "output_type": "stream",
     "text": [
      "Gini Coefficient: 0.6261123118887046\n",
      "Gini Coefficient: 0.6261123118887046\n"
     ]
    },
    {
     "name": "stderr",
     "output_type": "stream",
     "text": [
      "C:\\Users\\pilsu\\AppData\\Local\\Temp\\ipykernel_11144\\2398204125.py:6: FutureWarning: Support for multi-dimensional indexing (e.g. `obj[:, None]`) is deprecated and will be removed in a future version.  Convert to a numpy array before indexing instead.\n",
      "  absolute_differences = np.abs(x[:, None] - x[None, :])\n"
     ]
    },
    {
     "name": "stdout",
     "output_type": "stream",
     "text": [
      "Gini Coefficient: 0.6261123118887048\n"
     ]
    }
   ],
   "source": [
    "# 2021년\n",
    "x = df_2021['순자산']\n",
    "\n",
    "print(f\"Gini Coefficient: {gini_coefficient(x)}\")\n",
    "print(f\"Gini Coefficient: {gini_coefficient_rank_based(x)}\")\n",
    "print(f\"Gini Coefficient: {gini_coefficient_absolute_difference(x)}\")"
   ]
  },
  {
   "cell_type": "code",
   "execution_count": 21,
   "metadata": {},
   "outputs": [
    {
     "name": "stdout",
     "output_type": "stream",
     "text": [
      "Gini Coefficient: 0.6309255234233562\n",
      "Gini Coefficient: 0.6309255234233562\n"
     ]
    },
    {
     "name": "stderr",
     "output_type": "stream",
     "text": [
      "C:\\Users\\pilsu\\AppData\\Local\\Temp\\ipykernel_11144\\2398204125.py:6: FutureWarning: Support for multi-dimensional indexing (e.g. `obj[:, None]`) is deprecated and will be removed in a future version.  Convert to a numpy array before indexing instead.\n",
      "  absolute_differences = np.abs(x[:, None] - x[None, :])\n"
     ]
    },
    {
     "name": "stdout",
     "output_type": "stream",
     "text": [
      "Gini Coefficient: 0.6309255234233562\n"
     ]
    }
   ],
   "source": [
    "# 2022년\n",
    "x = df_2022['순자산']\n",
    "\n",
    "print(f\"Gini Coefficient: {gini_coefficient(x)}\")\n",
    "print(f\"Gini Coefficient: {gini_coefficient_rank_based(x)}\")\n",
    "print(f\"Gini Coefficient: {gini_coefficient_absolute_difference(x)}\")"
   ]
  },
  {
   "cell_type": "markdown",
   "metadata": {},
   "source": [
    "### 가중 지니계수\n",
    "\n",
    ">**가중치를 사용하는 경우 지니계수 두 가지 정의는 각각 어떻게 되는가?**\n",
    "\n",
    "---\n",
    "\n",
    "**< ChatGPT Answer >**\n",
    ">\n",
    ">가중치를 사용하는 경우, 지니계수를 계산하기 위해 두 식에 가중치를 반영한 형태로 확장해야 합니다. 가중치가 포함된 데이터는 각 데이터 포인트가 동일한 중요성을 갖지 않는 상황(예: 표본 크기 조정, 인구 가중치 등)을 다룹니다.\n",
    ">\n",
    ">**정의 I에 가중치 반영**\n",
    ">\n",
    ">순위 기반 지니계수 계산식:\n",
    ">\n",
    ">$$\n",
    "G = 2 \\sum_{i=1}^n \\frac{w_i R_i y_i}{\\sum_{i=1}^n w_i \\sum_{i=1}^n w_i y_i} - \\frac{n+1}{n},\n",
    "$$\n",
    ">\n",
    ">여기서:\n",
    ">- $w_i$: $i$번째 관측치의 가중치.\n",
    ">- $R_i$: $i$번째 관측치의 **가중치가 반영된 순위**.\n",
    ">- $n$: 관측치의 총수.\n",
    ">\n",
    ">가중치가 반영된 순위 ($R_i$) \n",
    ">\n",
    ">가중치가 반영된 순위는 다음과 같이 정의됩니다:\n",
    ">\n",
    ">$$\n",
    "R_i = \\sum_{j=1}^{i-1} w_j + \\frac{w_i}{2}.\n",
    "$$\n",
    ">\n",
    ">설명\n",
    ">- 순위를 계산할 때 가중치를 반영하여 $R_i$를 사용합니다.\n",
    ">- $w_i R_i y_i$는 각 관측치의 소득, 가중치, 순위의 조합입니다.\n",
    ">- 분모와 분자는 각각 총 소득과 가중치의 합으로 정규화됩니다.\n",
    ">\n",
    ">**정의 II에 가중치 반영**\n",
    ">\n",
    ">절대 차이 기반 지니계수 계산식:\n",
    ">\n",
    ">$$\n",
    "G = \\frac{\\sum_{i=1}^n \\sum_{j=1}^n w_i w_j |y_i - y_j|}{2 \\sum_{i=1}^n \\sum_{j=1}^n w_i w_j \\mu},\n",
    "$$\n",
    ">\n",
    ">여기서:\n",
    ">- $w_i$, $w_j$: $i$번째와 $j$번째 관측치의 가중치.\n",
    ">- $\\mu$: 가중치를 반영한 평균 소득.\n",
    ">\n",
    ">가중치를 반영한 평균 소득 ($\\mu$)\n",
    "$$\n",
    "\\mu = \\frac{\\sum_{i=1}^n w_i y_i}{\\sum_{i=1}^n w_i}.\n",
    "$$\n",
    ">\n",
    ">설명\n",
    ">- $w_i w_j |y_i - y_j|$: 두 관측치 간의 절대 소득 차이를 가중치로 조정합니다.\n",
    ">- $\\mu$: 각 관측치의 소득을 가중치로 평균화한 값입니다.\n",
    ">- 분모와 분자는 각각 가중치를 고려한 소득 차이와 소득 합계로 정규화됩니다.\n",
    ">\n",
    ">**차이점과 유사점**\n",
    ">- **정의 I 순위 기반**: 가중치를 반영하여 순위를 조정한 뒤 계산.\n",
    ">- **정의 II 절대 차이 기반**: 모든 소득 쌍의 절대 차이를 가중치로 보정하여 계산.\n",
    ">\n",
    ">두 식은 가중치가 포함되지 않은 경우와 마찬가지로 **동일한 지니계수 값을 산출**하지만, 가중치가 포함되면서 계산 복잡도가 증가할 수 있습니다. \n",
    ">\n",
    ">선택 기준\n",
    ">- 정의 I은 효율적인 계산이 필요할 때 적합합니다.\n",
    ">- 정의 II는 소득 차이에 대한 직관적인 해석이 필요할 때 유용합니다."
   ]
  },
  {
   "cell_type": "markdown",
   "metadata": {},
   "source": [
    "#### 가중 지니계수 함수\n",
    "\n",
    ">**weighted_gini(x, w) 함수를 두 가지 방식으로 만들어줘.**\n",
    "\n",
    "---\n",
    "\n",
    "**< ChatGPT Answer >**\n",
    ">\n",
    ">아래는 `weighted_gini(x, w)` 함수를 두 가지 방식으로 정의한 것입니다. 하나는 **순위 기반 계산 방식**이고, 다른 하나는 **절대차이 기반 계산 방식**입니다.\n",
    ">\n",
    ">**1. 순위 기반 계산 방식**\n",
    ">\n",
    ">     import numpy as np\n",
    ">     \n",
    ">     def weighted_gini_rank_based(x, w):\n",
    ">         # 소득(x)과 가중치(w)를 오름차순으로 정렬\n",
    ">         sorted_indices = np.argsort(x)\n",
    ">         x_sorted = x[sorted_indices]\n",
    ">         w_sorted = w[sorted_indices]\n",
    ">         \n",
    ">         # 가중치 정규화\n",
    ">         w_norm = w_sorted / w_sorted.sum()\n",
    ">         \n",
    ">         # 누적 가중치 계산\n",
    ">         cumulative_w = np.cumsum(w_norm)\n",
    ">         \n",
    ">         # 누적 가중치 기반 순위 계산\n",
    ">         R = cumulative_w - w_norm / 2\n",
    ">         \n",
    ">         # 가중치 평균 소득\n",
    ">         mean_x = np.sum(w_norm * x_sorted)\n",
    ">         \n",
    ">         # 지니계수 계산\n",
    ">         gini = 2 * np.sum(R * w_norm * x_sorted) / mean_x - 1\n",
    ">         return gini\n",
    ">\n",
    ">**2. 절대차이 기반 계산 방식**\n",
    ">\n",
    ">     def weighted_gini_absolute_difference(x, w):\n",
    ">         # 가중치 정규화\n",
    ">         w_norm = w / w.sum()\n",
    ">         \n",
    ">         # 가중치를 고려한 평균 소득\n",
    ">         mean_x = np.sum(w_norm * x)\n",
    ">         \n",
    ">         # 절대 차이 계산\n",
    ">         absolute_differences = np.abs(x[:, None] - x[None, :])  # 모든 소득 쌍의 절대 차이\n",
    ">         weighted_diff = np.outer(w_norm, w_norm) * absolute_differences\n",
    ">         \n",
    ">         # 지니계수 계산\n",
    ">         gini = np.sum(weighted_diff) / (2 * mean_x)\n",
    ">         return gini\n",
    ">\n",
    ">**사용 예제**\n",
    ">\n",
    ">     # 소득 데이터\n",
    ">     x = np.array([10, 20, 30, 40, 50])\n",
    ">     \n",
    ">     # 가중치\n",
    ">     w = np.array([1, 2, 1, 1, 1])\n",
    ">     \n",
    ">     # 순위 기반 지니계수 계산\n",
    ">     gini_rank_based = weighted_gini_rank_based(x, w)\n",
    ">     print(\"순위 기반 Gini:\", gini_rank_based)\n",
    ">     \n",
    ">     # 절대 차이 기반 지니계수 계산\n",
    ">     gini_absolute_diff = weighted_gini_absolute_difference(x, w)\n",
    ">     print(\"절대 차이 기반 Gini:\", gini_absolute_diff)\n",
    ">\n",
    ">**결과 비교**\n",
    ">\n",
    ">두 함수는 동일한 값을 반환합니다(수학적으로 동일).  \n",
    "그러나 **순위 기반 방식**은 계산이 더 효율적이고, **절대차이 기반 방식**은 직관적이지만 계산 복잡도가 더 높습니다."
   ]
  },
  {
   "cell_type": "code",
   "execution_count": 22,
   "metadata": {},
   "outputs": [],
   "source": [
    "def weighted_gini_rank_based(x, w):\n",
    "    # 소득(x)과 가중치(w)를 오름차순으로 정렬\n",
    "    sorted_indices = np.argsort(x)\n",
    "    x_sorted = x[sorted_indices]\n",
    "    w_sorted = w[sorted_indices]\n",
    "    \n",
    "    # 가중치 정규화\n",
    "    w_norm = w_sorted / w_sorted.sum()\n",
    "    \n",
    "    # 누적 가중치 계산\n",
    "    cumulative_w = np.cumsum(w_norm)\n",
    "    \n",
    "    # 누적 가중치 기반 순위 계산\n",
    "    R = cumulative_w - w_norm / 2\n",
    "    \n",
    "    # 가중치 평균 소득\n",
    "    mean_x = np.sum(w_norm * x_sorted)\n",
    "    \n",
    "    # 지니계수 계산\n",
    "    gini = 2 * np.sum(R * w_norm * x_sorted) / mean_x - 1\n",
    "    return gini"
   ]
  },
  {
   "cell_type": "code",
   "execution_count": 23,
   "metadata": {},
   "outputs": [],
   "source": [
    "def weighted_gini_absolute_difference(x, w):\n",
    "    # 가중치 정규화\n",
    "    w_norm = w / w.sum()\n",
    "    \n",
    "    # 가중치를 고려한 평균 소득\n",
    "    mean_x = np.sum(w_norm * x)\n",
    "    \n",
    "    # 절대 차이 계산\n",
    "    absolute_differences = np.abs(x[:, None] - x[None, :])  # 모든 소득 쌍의 절대 차이\n",
    "    weighted_diff = np.outer(w_norm, w_norm) * absolute_differences\n",
    "    \n",
    "    # 지니계수 계산\n",
    "    gini = np.sum(weighted_diff) / (2 * mean_x)\n",
    "    return gini"
   ]
  },
  {
   "cell_type": "markdown",
   "metadata": {},
   "source": [
    "#### 가중 지니계수(추가)\n",
    "\n",
    "- [Lerman, R. I., & Yitzhaki, S. (1989). Improving the accuracy of estimates of Gini coefficients. *Journal of econometrics*, 42(1), 43-47.](https://www.sciencedirect.com/science/article/abs/pii/0304407689900742)\n",
    "\n",
    ">**[p.44]** Let $w_i$ and $y_i$ be the weights and incomes in a sample of $n$ observations. Assume that $\\sum w_i = 1$ and rank the individuals so that the $y_i$ are in nondecreasing order ($j < k$ implies $y_j < y_k$). Then, as proved in our earlier note, the Gini of $y$ is equal to:\n",
    ">\n",
    ">$$\n",
    "G = 2 \\text{cov} \\left[ y,F(y) \\right]/ \\bar y, \\tag{1}\n",
    "$$\n",
    ">\n",
    ">where $F(y)$ is the cumulative distribution, and $\\bar{y}$ is the mean of $y$. The estimator of $F(y)$ in a random sample is the rank of the variate divided by $n$, the number of observations. In a weighted sample, the estimator of $F(y)$ is a mid-interval of $F(y)$ or:\n",
    ">\n",
    ">$$\n",
    "\\hat{F}(y_i) = \\sum_{j=0}^{i-1} w_j + w_i / 2 \\ \\ \\ \\text{where} \\ \\ \\ w_0=0, \\tag{2}\n",
    "$$\n",
    ">\n",
    ">Using the estimates of $\\hat{F}(y_i)$ from (2), one can calculate the weighted covariance between $y$ and $F(y)$. Where the data are grouped, the $y_i$'s are means of $y$ within group $i$.  \n",
    ">\n",
    ">Thus, for weighted data, the formula for the Gini is:\n",
    ">\n",
    ">$$\n",
    "G = 2 \\sum_{i=1}^n w_i (y_i - \\bar{y})(\\hat{F}_i - \\bar F)/ \\bar y, \\tag{3}\n",
    "$$\n",
    ">\n",
    ">where $\\bar{y}$ denotes the weighted mean."
   ]
  },
  {
   "cell_type": "code",
   "execution_count": 24,
   "metadata": {},
   "outputs": [],
   "source": [
    "def weighted_gini(x, w):\n",
    "    # 데이터를 값 순서대로 정렬\n",
    "    sorted_data = np.asarray([x, w]).T[np.argsort(x)]  # x 기준 오름차순으로 정렬\n",
    "    sorted_x, sorted_w = sorted_data[:, 0], sorted_data[:, 1]\n",
    "    \n",
    "    # 총 가중치 및 누적 가중치 초기화\n",
    "    total_weight = np.sum(sorted_w)\n",
    "    sorted_w = sorted_w/total_weight\n",
    "    cumulative_weight = np.cumsum(sorted_w)\n",
    "     \n",
    "    # 지니계수 계산 항목\n",
    "    sorted_x_dev = sorted_x - weighted_mean(sorted_x, sorted_w)\n",
    "    \n",
    "    f_hat = cumulative_weight.copy()    \n",
    "    # f_hat 업데이트\n",
    "    for i in range(len(f_hat)):\n",
    "        if i == 0:            \n",
    "            f_hat[i] = sorted_w[i] / 2\n",
    "        else:\n",
    "            f_hat[i] = cumulative_weight[i-1] + (sorted_w[i] / 2)\n",
    "\n",
    "    f_hat_dev = f_hat - f_hat.mean()\n",
    "    G = sorted_w*sorted_x_dev*f_hat_dev/(weighted_mean(sorted_x, sorted_w))\n",
    "    weighted_gini = 2*G.sum()\n",
    "   \n",
    "    return weighted_gini "
   ]
  },
  {
   "cell_type": "markdown",
   "metadata": {},
   "source": [
    "### 순자산 지니계수"
   ]
  },
  {
   "cell_type": "code",
   "execution_count": 25,
   "metadata": {},
   "outputs": [
    {
     "name": "stdout",
     "output_type": "stream",
     "text": [
      "Weighted Gini Coefficient: 0.6078719528264442\n",
      "Weighted Gini Coefficient: 0.6078719528264429\n"
     ]
    },
    {
     "name": "stderr",
     "output_type": "stream",
     "text": [
      "C:\\Users\\pilsu\\AppData\\Local\\Temp\\ipykernel_11144\\3136730101.py:9: FutureWarning: Support for multi-dimensional indexing (e.g. `obj[:, None]`) is deprecated and will be removed in a future version.  Convert to a numpy array before indexing instead.\n",
      "  absolute_differences = np.abs(x[:, None] - x[None, :])  # 모든 소득 쌍의 절대 차이\n"
     ]
    },
    {
     "name": "stdout",
     "output_type": "stream",
     "text": [
      "Weighted Gini Coefficient: 0.6078719528264449\n"
     ]
    }
   ],
   "source": [
    "# 2021년\n",
    "x = df_2021['순자산']\n",
    "weight = df_2021['가중값']\n",
    "\n",
    "print(f\"Weighted Gini Coefficient: {weighted_gini(x, weight)}\")\n",
    "print(f\"Weighted Gini Coefficient: {weighted_gini_rank_based(x, weight)}\")\n",
    "print(f\"Weighted Gini Coefficient: {weighted_gini_absolute_difference(x, weight)}\")"
   ]
  },
  {
   "cell_type": "code",
   "execution_count": 26,
   "metadata": {},
   "outputs": [
    {
     "name": "stdout",
     "output_type": "stream",
     "text": [
      "Weighted Gini Coefficient: 0.6099229357996474\n",
      "Weighted Gini Coefficient: 0.6099229357996503\n"
     ]
    },
    {
     "name": "stderr",
     "output_type": "stream",
     "text": [
      "C:\\Users\\pilsu\\AppData\\Local\\Temp\\ipykernel_11144\\3136730101.py:9: FutureWarning: Support for multi-dimensional indexing (e.g. `obj[:, None]`) is deprecated and will be removed in a future version.  Convert to a numpy array before indexing instead.\n",
      "  absolute_differences = np.abs(x[:, None] - x[None, :])  # 모든 소득 쌍의 절대 차이\n"
     ]
    },
    {
     "name": "stdout",
     "output_type": "stream",
     "text": [
      "Weighted Gini Coefficient: 0.609922935799644\n"
     ]
    }
   ],
   "source": [
    "# 2022년\n",
    "x = df_2022['순자산']\n",
    "weight = df_2022['가중값']\n",
    "\n",
    "print(f\"Weighted Gini Coefficient: {weighted_gini(x, weight)}\")\n",
    "print(f\"Weighted Gini Coefficient: {weighted_gini_rank_based(x, weight)}\")\n",
    "print(f\"Weighted Gini Coefficient: {weighted_gini_absolute_difference(x, weight)}\")"
   ]
  },
  {
   "cell_type": "markdown",
   "metadata": {},
   "source": [
    "![순자산 지니계수](https://raw.githubusercontent.com/pilsunchoi/images3/main/3-6.png)"
   ]
  },
  {
   "cell_type": "markdown",
   "metadata": {},
   "source": [
    "### 소득 지니계수\n",
    "\n",
    "**균등화 소득**\n",
    "\n",
    "- 균등화 소득(equivalised income)은 간단히 말하면 1인당 소득에 해당한다. 그런데 가구 소득을 가구 구성원 숫자로 나누는 경우가 말 그대로 “1인당 소득(per-capita income)”이고, 가령 가구원수에 제곱근 취한 값(OECD의 균등화 척도)으로 나누는 방식을 균등화소득이라고 부른다. 가구원수보다 작은 값으로 나누는 이유는 주택 공간이나 전기 등을 공동 이용함으로써 비용 절감 효과가 있기 때문이다."
   ]
  },
  {
   "cell_type": "markdown",
   "metadata": {},
   "source": [
    "**시장소득 지니계수(2022년)**"
   ]
  },
  {
   "cell_type": "code",
   "execution_count": 27,
   "metadata": {},
   "outputs": [
    {
     "name": "stdout",
     "output_type": "stream",
     "text": [
      "Weighted Gini Coefficient: 0.4851817453904762\n",
      "Equivalised Weighted Gini: 0.4051233238953859\n"
     ]
    }
   ],
   "source": [
    "y2 = df_2022['경상소득_근로소득(보완)']\n",
    "y3 = df_2022['경상소득_사업소득(보완)']\n",
    "y4 = df_2022['경상소득_재산소득(보완)']\n",
    "y6 = df_2022['경상소득_사적이전소득(조사)']\n",
    "\n",
    "e4 = df_2022['지출_비소비지출_가구간이전지출(조사)']\n",
    "e5 = df_2022['지출_비소비지출_비영리단체이전지출(조사)']\n",
    "\n",
    "# 시장소득(근로소득 + 사업소득 + 재산소득 + 사적이전소득 - 사적이전지출(가구간 및 비영리단체 이전지출))\n",
    "x = y2+y3+y4+y6-(e4+e5)\n",
    "weight = df_2022['가중값']\n",
    "\n",
    "print(f\"Weighted Gini Coefficient: {weighted_gini(x, weight)}\")\n",
    "\n",
    "n = df_2022['가구원수']\n",
    "x = x/n**(0.5)\n",
    "weight = weight*n\n",
    "\n",
    "print(f\"Equivalised Weighted Gini: {weighted_gini(x, weight)}\")"
   ]
  },
  {
   "cell_type": "markdown",
   "metadata": {},
   "source": [
    "**참고: 2022년 균등화 소득 지니계수(통계당국 자료)**\n",
    "\n",
    "![균등화 소득 지니계수](https://raw.githubusercontent.com/pilsunchoi/images3/main/3-7.png)"
   ]
  },
  {
   "cell_type": "markdown",
   "metadata": {},
   "source": [
    "## 4 지니계수 추이"
   ]
  },
  {
   "cell_type": "markdown",
   "metadata": {},
   "source": [
    "### 순자산"
   ]
  },
  {
   "cell_type": "code",
   "execution_count": 28,
   "metadata": {},
   "outputs": [
    {
     "data": {
      "text/html": [
       "<div>\n",
       "<style scoped>\n",
       "    .dataframe tbody tr th:only-of-type {\n",
       "        vertical-align: middle;\n",
       "    }\n",
       "\n",
       "    .dataframe tbody tr th {\n",
       "        vertical-align: top;\n",
       "    }\n",
       "\n",
       "    .dataframe thead th {\n",
       "        text-align: right;\n",
       "    }\n",
       "</style>\n",
       "<table border=\"1\" class=\"dataframe\">\n",
       "  <thead>\n",
       "    <tr style=\"text-align: right;\">\n",
       "      <th></th>\n",
       "      <th>연도</th>\n",
       "      <th>지니계수</th>\n",
       "    </tr>\n",
       "  </thead>\n",
       "  <tbody>\n",
       "    <tr>\n",
       "      <th>0</th>\n",
       "      <td>2010</td>\n",
       "      <td>0.643432</td>\n",
       "    </tr>\n",
       "    <tr>\n",
       "      <th>1</th>\n",
       "      <td>2011</td>\n",
       "      <td>0.632480</td>\n",
       "    </tr>\n",
       "    <tr>\n",
       "      <th>2</th>\n",
       "      <td>2012</td>\n",
       "      <td>0.624853</td>\n",
       "    </tr>\n",
       "    <tr>\n",
       "      <th>3</th>\n",
       "      <td>2013</td>\n",
       "      <td>0.612701</td>\n",
       "    </tr>\n",
       "    <tr>\n",
       "      <th>4</th>\n",
       "      <td>2014</td>\n",
       "      <td>0.598822</td>\n",
       "    </tr>\n",
       "    <tr>\n",
       "      <th>5</th>\n",
       "      <td>2015</td>\n",
       "      <td>0.595184</td>\n",
       "    </tr>\n",
       "    <tr>\n",
       "      <th>6</th>\n",
       "      <td>2016</td>\n",
       "      <td>0.591519</td>\n",
       "    </tr>\n",
       "    <tr>\n",
       "      <th>7</th>\n",
       "      <td>2017</td>\n",
       "      <td>0.588894</td>\n",
       "    </tr>\n",
       "    <tr>\n",
       "      <th>8</th>\n",
       "      <td>2018</td>\n",
       "      <td>0.593258</td>\n",
       "    </tr>\n",
       "    <tr>\n",
       "      <th>9</th>\n",
       "      <td>2019</td>\n",
       "      <td>0.602468</td>\n",
       "    </tr>\n",
       "    <tr>\n",
       "      <th>10</th>\n",
       "      <td>2020</td>\n",
       "      <td>0.608496</td>\n",
       "    </tr>\n",
       "    <tr>\n",
       "      <th>11</th>\n",
       "      <td>2021</td>\n",
       "      <td>0.607872</td>\n",
       "    </tr>\n",
       "    <tr>\n",
       "      <th>12</th>\n",
       "      <td>2022</td>\n",
       "      <td>0.609923</td>\n",
       "    </tr>\n",
       "  </tbody>\n",
       "</table>\n",
       "</div>"
      ],
      "text/plain": [
       "      연도      지니계수\n",
       "0   2010  0.643432\n",
       "1   2011  0.632480\n",
       "2   2012  0.624853\n",
       "3   2013  0.612701\n",
       "4   2014  0.598822\n",
       "5   2015  0.595184\n",
       "6   2016  0.591519\n",
       "7   2017  0.588894\n",
       "8   2018  0.593258\n",
       "9   2019  0.602468\n",
       "10  2020  0.608496\n",
       "11  2021  0.607872\n",
       "12  2022  0.609923"
      ]
     },
     "execution_count": 28,
     "metadata": {},
     "output_type": "execute_result"
    }
   ],
   "source": [
    "# 연도 범위 설정 (2010년부터 2022년까지)\n",
    "years = range(2010, 2023)\n",
    "\n",
    "# 결과를 저장할 데이터프레임 초기화\n",
    "gini_table = pd.DataFrame(columns=['연도', '지니계수'])\n",
    "\n",
    "# 각 연도별로 반복\n",
    "for year in years:\n",
    "    # 해당 연도에 대한 df 지정\n",
    "    df_year = globals()[f'df_{year}']\n",
    "    \n",
    "    # 단위: 100만 원\n",
    "    x = df_year['순자산'] / 100\n",
    "\n",
    "    # 가중치\n",
    "    weight = df_year['가중값']\n",
    "    \n",
    "    # 지니계수 계산\n",
    "    gini = weighted_gini(x, weight)\n",
    "    \n",
    "    # 결과를 데이터프레임에 추가\n",
    "    gini_table = pd.concat([gini_table, \n",
    "                            pd.DataFrame({'연도': [year], '지니계수': [gini]})],\n",
    "                           ignore_index=True)\n",
    "\n",
    "# 결과를 출력\n",
    "gini_table"
   ]
  },
  {
   "cell_type": "markdown",
   "metadata": {},
   "source": [
    "**그래프 한글 표시**\n",
    "\n",
    "* 그래프에서 한글이 깨지는 것을 막기 위해서는 아래 명령문을 실행해야 한다."
   ]
  },
  {
   "cell_type": "code",
   "execution_count": 29,
   "metadata": {},
   "outputs": [],
   "source": [
    "import matplotlib\n",
    "from matplotlib import font_manager, rc\n",
    "\n",
    "font_path = \"/Windows/Fonts/malgun.ttf\"\n",
    "font = font_manager.FontProperties(fname=font_path).get_name()\n",
    "rc('font', family=font)\n",
    "matplotlib.rcParams['axes.unicode_minus'] = False  # 축에 마이너스 부호 제대로 나오게 하기"
   ]
  },
  {
   "cell_type": "markdown",
   "metadata": {},
   "source": [
    "위 코드는 Windows에 해당하는 것이고, MacBook의 경우에는 위 명령문 세 번째 줄을 다음과 같이 바꿔야 한다.\n",
    "```\n",
    "font_path = \"/System/Library/Fonts/AppleSDGothicNeo.ttc\"\n",
    "```"
   ]
  },
  {
   "cell_type": "code",
   "execution_count": 30,
   "metadata": {},
   "outputs": [
    {
     "data": {
      "image/png": "[encoded data removed]",
      "text/plain": [
       "<Figure size 600x400 with 1 Axes>"
      ]
     },
     "metadata": {},
     "output_type": "display_data"
    }
   ],
   "source": [
    "import matplotlib.pyplot as plt\n",
    "\n",
    "# 데이터프레임에서 연도와 지니계수 열을 추출\n",
    "years = gini_table['연도']\n",
    "gini = gini_table['지니계수']\n",
    "\n",
    "# 그래프 생성\n",
    "plt.figure(figsize=(6, 4))\n",
    "plt.plot(years, gini, marker='o', linestyle='-', label='지니계수')\n",
    "plt.title('순자산 지니계수')\n",
    "plt.xlabel('연도')\n",
    "plt.ylabel('지니계수')\n",
    "plt.grid(True)\n",
    "\n",
    "# legend 추가\n",
    "plt.legend()\n",
    "\n",
    "# 그래프 표시\n",
    "plt.show()"
   ]
  },
  {
   "cell_type": "markdown",
   "metadata": {},
   "source": [
    "### 가구소득"
   ]
  },
  {
   "cell_type": "code",
   "execution_count": 31,
   "metadata": {},
   "outputs": [
    {
     "data": {
      "text/html": [
       "<div>\n",
       "<style scoped>\n",
       "    .dataframe tbody tr th:only-of-type {\n",
       "        vertical-align: middle;\n",
       "    }\n",
       "\n",
       "    .dataframe tbody tr th {\n",
       "        vertical-align: top;\n",
       "    }\n",
       "\n",
       "    .dataframe thead th {\n",
       "        text-align: right;\n",
       "    }\n",
       "</style>\n",
       "<table border=\"1\" class=\"dataframe\">\n",
       "  <thead>\n",
       "    <tr style=\"text-align: right;\">\n",
       "      <th></th>\n",
       "      <th>연도</th>\n",
       "      <th>비균등화</th>\n",
       "      <th>균등화</th>\n",
       "    </tr>\n",
       "  </thead>\n",
       "  <tbody>\n",
       "    <tr>\n",
       "      <th>0</th>\n",
       "      <td>2010</td>\n",
       "      <td>0.432597</td>\n",
       "      <td>0.369490</td>\n",
       "    </tr>\n",
       "    <tr>\n",
       "      <th>1</th>\n",
       "      <td>2011</td>\n",
       "      <td>0.453477</td>\n",
       "      <td>0.391416</td>\n",
       "    </tr>\n",
       "    <tr>\n",
       "      <th>2</th>\n",
       "      <td>2012</td>\n",
       "      <td>0.437910</td>\n",
       "      <td>0.373645</td>\n",
       "    </tr>\n",
       "    <tr>\n",
       "      <th>3</th>\n",
       "      <td>2013</td>\n",
       "      <td>0.429451</td>\n",
       "      <td>0.366242</td>\n",
       "    </tr>\n",
       "    <tr>\n",
       "      <th>4</th>\n",
       "      <td>2014</td>\n",
       "      <td>0.425873</td>\n",
       "      <td>0.360785</td>\n",
       "    </tr>\n",
       "    <tr>\n",
       "      <th>5</th>\n",
       "      <td>2015</td>\n",
       "      <td>0.422841</td>\n",
       "      <td>0.356196</td>\n",
       "    </tr>\n",
       "    <tr>\n",
       "      <th>6</th>\n",
       "      <td>2016</td>\n",
       "      <td>0.421318</td>\n",
       "      <td>0.352948</td>\n",
       "    </tr>\n",
       "    <tr>\n",
       "      <th>7</th>\n",
       "      <td>2017</td>\n",
       "      <td>0.436399</td>\n",
       "      <td>0.368031</td>\n",
       "    </tr>\n",
       "    <tr>\n",
       "      <th>8</th>\n",
       "      <td>2018</td>\n",
       "      <td>0.437351</td>\n",
       "      <td>0.368955</td>\n",
       "    </tr>\n",
       "    <tr>\n",
       "      <th>9</th>\n",
       "      <td>2019</td>\n",
       "      <td>0.434313</td>\n",
       "      <td>0.362595</td>\n",
       "    </tr>\n",
       "    <tr>\n",
       "      <th>10</th>\n",
       "      <td>2020</td>\n",
       "      <td>0.431978</td>\n",
       "      <td>0.357610</td>\n",
       "    </tr>\n",
       "    <tr>\n",
       "      <th>11</th>\n",
       "      <td>2021</td>\n",
       "      <td>0.423237</td>\n",
       "      <td>0.350860</td>\n",
       "    </tr>\n",
       "    <tr>\n",
       "      <th>12</th>\n",
       "      <td>2022</td>\n",
       "      <td>0.426013</td>\n",
       "      <td>0.352444</td>\n",
       "    </tr>\n",
       "  </tbody>\n",
       "</table>\n",
       "</div>"
      ],
      "text/plain": [
       "      연도      비균등화       균등화\n",
       "0   2010  0.432597  0.369490\n",
       "1   2011  0.453477  0.391416\n",
       "2   2012  0.437910  0.373645\n",
       "3   2013  0.429451  0.366242\n",
       "4   2014  0.425873  0.360785\n",
       "5   2015  0.422841  0.356196\n",
       "6   2016  0.421318  0.352948\n",
       "7   2017  0.436399  0.368031\n",
       "8   2018  0.437351  0.368955\n",
       "9   2019  0.434313  0.362595\n",
       "10  2020  0.431978  0.357610\n",
       "11  2021  0.423237  0.350860\n",
       "12  2022  0.426013  0.352444"
      ]
     },
     "execution_count": 31,
     "metadata": {},
     "output_type": "execute_result"
    }
   ],
   "source": [
    "# 연도 범위 설정 (2010년부터 2022년까지)\n",
    "years = range(2010, 2023)\n",
    "\n",
    "# 결과를 저장할 데이터프레임 초기화\n",
    "gini_table = pd.DataFrame(columns=['연도', '비균등화', '균등화'])\n",
    "\n",
    "# 각 연도별로 반복\n",
    "for year in years:\n",
    "    # 해당 연도에 대한 df 지정\n",
    "    df_year = globals()[f'df_{year}']\n",
    "    \n",
    "    # 해당 연도의 '가구소득' 변수명 설정\n",
    "    if year in range(2010, 2012):\n",
    "        income = df_year['조사_경상소득']\n",
    "    elif year in range(2012, 2017):\n",
    "        income = df_year['경상소득(조사)']\n",
    "    else:\n",
    "        income = df_year['경상소득(보완)']\n",
    "        \n",
    "    # 단위: 100만 원\n",
    "    x = income / 100\n",
    "    \n",
    "    # 가구원수 지정\n",
    "    n = df_year['가구원수']\n",
    "    \n",
    "    # 가중치\n",
    "    weight = df_year['가중값']\n",
    "    weight_equiv = df_year['가중값']*n\n",
    "    \n",
    "    # 지니계수 계산\n",
    "    non_equiv_gini = weighted_gini(x, weight)\n",
    "    equiv_gini = weighted_gini(x/n**(0.5), weight_equiv)\n",
    "    \n",
    "    # 결과를 데이터프레임에 추가\n",
    "    gini_table = pd.concat([gini_table, \n",
    "                            pd.DataFrame({'연도': [year], \n",
    "                                          '비균등화': [non_equiv_gini], \n",
    "                                          '균등화': [equiv_gini]})],\n",
    "                           ignore_index=True)\n",
    "\n",
    "# 결과를 출력\n",
    "gini_table"
   ]
  },
  {
   "cell_type": "code",
   "execution_count": 32,
   "metadata": {},
   "outputs": [
    {
     "data": {
      "image/png": "[encoded data removed]",
      "text/plain": [
       "<Figure size 600x400 with 1 Axes>"
      ]
     },
     "metadata": {},
     "output_type": "display_data"
    }
   ],
   "source": [
    "import matplotlib.pyplot as plt\n",
    "\n",
    "# 데이터프레임에서 연도와 지니계수 열을 추출\n",
    "years = gini_table['연도']\n",
    "non_equiv_gini = gini_table['비균등화']\n",
    "equiv_gini = gini_table['균등화']\n",
    "\n",
    "# 그래프 생성\n",
    "plt.figure(figsize=(6, 4))\n",
    "plt.plot(years, non_equiv_gini, marker='o', linestyle='-', label='비균등화')\n",
    "plt.plot(years, equiv_gini, marker='o', linestyle='-', label='균등화')\n",
    "plt.title('가구소득 지니계수')\n",
    "plt.xlabel('연도')\n",
    "plt.ylabel('지니계수')\n",
    "plt.grid(True)\n",
    "\n",
    "# legend 추가\n",
    "plt.legend()\n",
    "\n",
    "# 그래프 표시\n",
    "plt.show()"
   ]
  },
  {
   "cell_type": "markdown",
   "metadata": {},
   "source": [
    "### 처분가능소득"
   ]
  },
  {
   "cell_type": "code",
   "execution_count": 33,
   "metadata": {},
   "outputs": [
    {
     "data": {
      "text/html": [
       "<div>\n",
       "<style scoped>\n",
       "    .dataframe tbody tr th:only-of-type {\n",
       "        vertical-align: middle;\n",
       "    }\n",
       "\n",
       "    .dataframe tbody tr th {\n",
       "        vertical-align: top;\n",
       "    }\n",
       "\n",
       "    .dataframe thead th {\n",
       "        text-align: right;\n",
       "    }\n",
       "</style>\n",
       "<table border=\"1\" class=\"dataframe\">\n",
       "  <thead>\n",
       "    <tr style=\"text-align: right;\">\n",
       "      <th></th>\n",
       "      <th>연도</th>\n",
       "      <th>비균등화</th>\n",
       "      <th>균등화</th>\n",
       "    </tr>\n",
       "  </thead>\n",
       "  <tbody>\n",
       "    <tr>\n",
       "      <th>0</th>\n",
       "      <td>2010</td>\n",
       "      <td>0.433686</td>\n",
       "      <td>0.371533</td>\n",
       "    </tr>\n",
       "    <tr>\n",
       "      <th>1</th>\n",
       "      <td>2011</td>\n",
       "      <td>0.453805</td>\n",
       "      <td>0.393312</td>\n",
       "    </tr>\n",
       "    <tr>\n",
       "      <th>2</th>\n",
       "      <td>2012</td>\n",
       "      <td>0.427650</td>\n",
       "      <td>0.363424</td>\n",
       "    </tr>\n",
       "    <tr>\n",
       "      <th>3</th>\n",
       "      <td>2013</td>\n",
       "      <td>0.422294</td>\n",
       "      <td>0.359348</td>\n",
       "    </tr>\n",
       "    <tr>\n",
       "      <th>4</th>\n",
       "      <td>2014</td>\n",
       "      <td>0.417371</td>\n",
       "      <td>0.352706</td>\n",
       "    </tr>\n",
       "    <tr>\n",
       "      <th>5</th>\n",
       "      <td>2015</td>\n",
       "      <td>0.413415</td>\n",
       "      <td>0.346935</td>\n",
       "    </tr>\n",
       "    <tr>\n",
       "      <th>6</th>\n",
       "      <td>2016</td>\n",
       "      <td>0.411177</td>\n",
       "      <td>0.343195</td>\n",
       "    </tr>\n",
       "    <tr>\n",
       "      <th>7</th>\n",
       "      <td>2017</td>\n",
       "      <td>0.425839</td>\n",
       "      <td>0.356554</td>\n",
       "    </tr>\n",
       "    <tr>\n",
       "      <th>8</th>\n",
       "      <td>2018</td>\n",
       "      <td>0.425811</td>\n",
       "      <td>0.356709</td>\n",
       "    </tr>\n",
       "    <tr>\n",
       "      <th>9</th>\n",
       "      <td>2019</td>\n",
       "      <td>0.419805</td>\n",
       "      <td>0.346225</td>\n",
       "    </tr>\n",
       "    <tr>\n",
       "      <th>10</th>\n",
       "      <td>2020</td>\n",
       "      <td>0.416496</td>\n",
       "      <td>0.340299</td>\n",
       "    </tr>\n",
       "    <tr>\n",
       "      <th>11</th>\n",
       "      <td>2021</td>\n",
       "      <td>0.406417</td>\n",
       "      <td>0.332595</td>\n",
       "    </tr>\n",
       "    <tr>\n",
       "      <th>12</th>\n",
       "      <td>2022</td>\n",
       "      <td>0.408877</td>\n",
       "      <td>0.333403</td>\n",
       "    </tr>\n",
       "  </tbody>\n",
       "</table>\n",
       "</div>"
      ],
      "text/plain": [
       "      연도      비균등화       균등화\n",
       "0   2010  0.433686  0.371533\n",
       "1   2011  0.453805  0.393312\n",
       "2   2012  0.427650  0.363424\n",
       "3   2013  0.422294  0.359348\n",
       "4   2014  0.417371  0.352706\n",
       "5   2015  0.413415  0.346935\n",
       "6   2016  0.411177  0.343195\n",
       "7   2017  0.425839  0.356554\n",
       "8   2018  0.425811  0.356709\n",
       "9   2019  0.419805  0.346225\n",
       "10  2020  0.416496  0.340299\n",
       "11  2021  0.406417  0.332595\n",
       "12  2022  0.408877  0.333403"
      ]
     },
     "execution_count": 33,
     "metadata": {},
     "output_type": "execute_result"
    }
   ],
   "source": [
    "# 연도 범위 설정 (2010년부터 2022년까지)\n",
    "years = range(2010, 2023)\n",
    "\n",
    "# 결과를 저장할 데이터프레임 초기화\n",
    "gini_table = pd.DataFrame(columns=['연도', '비균등화', '균등화'])\n",
    "\n",
    "# 각 연도별로 반복\n",
    "for year in years:\n",
    "    # 해당 연도에 대한 df 지정\n",
    "    df_year = globals()[f'df_{year}']\n",
    "    \n",
    "    # 해당 연도의 '처분가능소득' 변수명 설정\n",
    "    if year in range(2010, 2012):\n",
    "        income = '조사_처분가능소득'\n",
    "    elif year in range(2012, 2017):\n",
    "        income = '처분가능소득(조사)[경상소득-비소비지출]'\n",
    "    else:\n",
    "        income = '처분가능소득(보완)[경상소득(보완)-비소비지출(보완)]'\n",
    "        \n",
    "    # 해당 연도의 '연간지급이자' 변수명 설정\n",
    "    if year in range(2010, 2012):\n",
    "        interest_payment = '조사_지출_비소비지출_연간지급이자'\n",
    "    elif year in range(2012, 2013):\n",
    "        interest_payment = '지출_비소비지출_연간지급이자(조사)'\n",
    "    elif year in range(2013, 2016):\n",
    "        interest_payment = '조사_지출_비소비지출_연간지급이자'\n",
    "    else:\n",
    "        interest_payment = '지출_비소비지출_연간지급이자(조사)'\n",
    "    \n",
    "    # 통계당국 처분가능소득 계산\n",
    "    x = df_year[income] + df_year[interest_payment]\n",
    "\n",
    "    # 단위: 100만 원\n",
    "    x = x / 100\n",
    "    \n",
    "    # 가구원수 지정\n",
    "    n = df_year['가구원수']\n",
    "    \n",
    "    # 가중치\n",
    "    weight = df_year['가중값']\n",
    "    weight_equiv = df_year['가중값']*n\n",
    "    \n",
    "    # 지니계수 계산\n",
    "    non_equiv_gini = weighted_gini(x, weight)\n",
    "    equiv_gini = weighted_gini(x/n**(0.5), weight_equiv)\n",
    "    \n",
    "    # 결과를 데이터프레임에 추가\n",
    "    gini_table = pd.concat([gini_table, \n",
    "                            pd.DataFrame({'연도': [year], \n",
    "                                          '비균등화': [non_equiv_gini], \n",
    "                                          '균등화': [equiv_gini]})],\n",
    "                           ignore_index=True)\n",
    "\n",
    "# 결과를 출력\n",
    "gini_table"
   ]
  },
  {
   "cell_type": "code",
   "execution_count": 34,
   "metadata": {},
   "outputs": [
    {
     "data": {
      "image/png": "[encoded data removed]",
      "text/plain": [
       "<Figure size 600x400 with 1 Axes>"
      ]
     },
     "metadata": {},
     "output_type": "display_data"
    }
   ],
   "source": [
    "import matplotlib.pyplot as plt\n",
    "\n",
    "# 데이터프레임에서 연도와 지니계수 열을 추출\n",
    "years = gini_table['연도']\n",
    "non_equiv_gini = gini_table['비균등화']\n",
    "equiv_gini = gini_table['균등화']\n",
    "\n",
    "# 그래프 생성\n",
    "plt.figure(figsize=(6, 4))\n",
    "plt.plot(years, non_equiv_gini, marker='o', linestyle='-', label='비균등화')\n",
    "plt.plot(years, equiv_gini, marker='o', linestyle='-', label='균등화')\n",
    "plt.title('처분가능소득 지니계수')\n",
    "plt.xlabel('연도')\n",
    "plt.ylabel('지니계수')\n",
    "plt.grid(True)\n",
    "\n",
    "# legend 추가\n",
    "plt.legend()\n",
    "\n",
    "# 그래프 표시\n",
    "plt.show()"
   ]
  }
 ],
 "metadata": {
  "anaconda-cloud": {},
  "kernelspec": {
   "display_name": "Python 3 (ipykernel)",
   "language": "python",
   "name": "python3"
  },
  "language_info": {
   "codemirror_mode": {
    "name": "ipython",
    "version": 3
   },
   "file_extension": ".py",
   "mimetype": "text/x-python",
   "name": "python",
   "nbconvert_exporter": "python",
   "pygments_lexer": "ipython3",
   "version": "3.11.4"
  }
 },
 "nbformat": 4,
 "nbformat_minor": 1
}
