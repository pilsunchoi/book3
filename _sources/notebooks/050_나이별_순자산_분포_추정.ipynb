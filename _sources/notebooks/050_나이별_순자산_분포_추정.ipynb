{
 "cells": [
  {
   "cell_type": "markdown",
   "id": "84604b30",
   "metadata": {},
   "source": [
    "# 5 나이별 순자산 분포 추정"
   ]
  },
  {
   "cell_type": "markdown",
   "id": "ae68a3e0",
   "metadata": {},
   "source": [
    "역사적으로 경제적 웰빙과 불평등에 대한 논의는 주로 소득에 초점이 맞춰졌으나, 최근에는 소득과 부와 같은 다양한 경제적 웰빙 변수 간의 관계에 대한 관심이 증가하고 있다. (Balestra and Oehler, 2023; Fisher et al., 2022; Keister and Lee, 2017; Kuhn et al., 2020; Piketty and Saez, 2003 등).\n",
    "\n",
    "본 연구는 경제적 웰빙 변수 간의 결합 분포를 추정하기 위해 Johnson(1949)의 다변량 $S_U$ 분포를 사용하는 방법을 제안한다. $S_U$ 분포는 매우 높은 유연성을 보이며, 부와 소득 변수에서 흔히 관찰되는 극단적인 왜도와 첨도를 효과적으로 포착할 수 있다. 이 분포는 변수 범위에 제약을 두지 않으므로 비양수 값을 포함하는 순자산 및 가처분 소득 분포를 추정하는 데 적합하다. 사례 연구로, 미국 조사 데이터를 사용하여 순자산과 나이의 결합 분포를 추정하는 데 이변량 $S_U$ 모델을 적용하였다."
   ]
  }
 ],
 "metadata": {
  "kernelspec": {
   "display_name": "Python 3 (ipykernel)",
   "language": "python",
   "name": "python3"
  },
  "language_info": {
   "codemirror_mode": {
    "name": "ipython",
    "version": 3
   },
   "file_extension": ".py",
   "mimetype": "text/x-python",
   "name": "python",
   "nbconvert_exporter": "python",
   "pygments_lexer": "ipython3",
   "version": "3.11.4"
  }
 },
 "nbformat": 4,
 "nbformat_minor": 5
}
