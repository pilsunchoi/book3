{
 "cells": [
  {
   "cell_type": "markdown",
   "id": "84604b30",
   "metadata": {},
   "source": [
    "# 2 순자산 분포 추정"
   ]
  },
  {
   "cell_type": "markdown",
   "id": "ae68a3e0",
   "metadata": {},
   "source": [
    "최근 순자산(net worth)이나 가처분소득(disposable income)의 분포에 대한 관심이 증가하고 있다. 그러나 이러한 변수들은 음수와 0 값을 포함하고 있어 소득 분포를 추정하는 데 사용되었던 기존의 분포 함수(대표적으로 로그정규분포 함수)를 적용하기 어렵다. \n",
    "\n",
    "본 연구는 순자산이나 가처분소득의 분포를 추정하기 위해 Johnson (1949)의 $S_U$분포를 제안한다. $S_U$분포 함수는 실수 전체(real number space)에서 정의되며, 다양한 비대칭(skewness)과 첨도(kurtosis)를 표현할 수 있는 가장 유연한 파라미터형 분포 중 하나이다. 따라서 음수나 0 값을 포함하는 순자산이나 가처분소득의 다양한 분포 형태를 추정하는 데 적합하다. 이와 함께 우리는 $S_U$분포의 로렌츠 곡선(Lorenz curve) 공식을 도출하였다. \n",
    "\n",
    "예시로, 미국 중앙은행의 소비자금융조사(SCF) 데이터를 사용하여 미국의 순자산과 가처분소득의 분포, 그리고 로렌츠 곡선을 추정했다."
   ]
  },
  {
   "cell_type": "code",
   "execution_count": null,
   "id": "7439f1ef",
   "metadata": {},
   "outputs": [],
   "source": []
  }
 ],
 "metadata": {
  "kernelspec": {
   "display_name": "Python 3 (ipykernel)",
   "language": "python",
   "name": "python3"
  },
  "language_info": {
   "codemirror_mode": {
    "name": "ipython",
    "version": 3
   },
   "file_extension": ".py",
   "mimetype": "text/x-python",
   "name": "python",
   "nbconvert_exporter": "python",
   "pygments_lexer": "ipython3",
   "version": "3.11.4"
  }
 },
 "nbformat": 4,
 "nbformat_minor": 5
}
