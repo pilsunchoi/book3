{
 "cells": [
  {
   "cell_type": "markdown",
   "id": "84604b30",
   "metadata": {},
   "source": [
    "# 다문화 배경과 학업성적\n",
    "\n",
    "출처: "
   ]
  },
  {
   "cell_type": "markdown",
   "id": "3ce56adc",
   "metadata": {},
   "source": [
    "정부가 다문화 학생들의 학습지원에 많은 관심을 보여왔지만, 정작 다문화 배경 학생들의 학업성적이 상대적으로 뒤처지는지를 실증적으로 분석한 연구가 거의 행해지지 않았다. 본 연구는 한국아동·청소년패널조사의 세 가지 패널 데이터를 이용해 다문화 배경이 학업성적에 어떤 영향을 미치는지를 추정했다. \n",
    "\n",
    "그 결과, 다문화 배경이 학업성적에 미치는 효과에 있어서 통계적 유의성 및 강건성을 지닌 결과를 얻지 못했을 뿐만 아니라 제반 설명변수와 학업성적의 관계가 다문화 배경 여부에 따라 달라진다는 증거 역시 찾지 못했다. \n",
    "\n",
    "이와 같은 연구 결과는 다문화 배경 학생들의 학업성취와 관련된 기존의 고정관념을 재고할 필요성을 제기한다. 그동안 교육현장과 사회, 그리고 정책당국이 다문화 배경 학생들을 학업적으로 취약한 존재로 선입견적으로 간주하는 경향은 없었는지 재고할 필요가 있다. 다문화 배경 학생만을 대상으로 한 학습지원 정책을 통해 학업능력을 동등하게 만들겠다는 것이 아니라 다문화 배경 학생을 포함한 모든 학생들에게 공평한 기회를 보장하는 교육환경을 만들어야 할 것이다."
   ]
  },
  {
   "cell_type": "code",
   "execution_count": null,
   "id": "fab316eb",
   "metadata": {},
   "outputs": [],
   "source": []
  }
 ],
 "metadata": {
  "kernelspec": {
   "display_name": "Python 3 (ipykernel)",
   "language": "python",
   "name": "python3"
  },
  "language_info": {
   "codemirror_mode": {
    "name": "ipython",
    "version": 3
   },
   "file_extension": ".py",
   "mimetype": "text/x-python",
   "name": "python",
   "nbconvert_exporter": "python",
   "pygments_lexer": "ipython3",
   "version": "3.11.4"
  }
 },
 "nbformat": 4,
 "nbformat_minor": 5
}
